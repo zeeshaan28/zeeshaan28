{
  "cells": [
    {
      "cell_type": "markdown",
      "metadata": {
        "id": "view-in-github",
        "colab_type": "text"
      },
      "source": [
        "<a href=\"https://colab.research.google.com/github/zeeshaan28/zeeshaan28/blob/main/C3_W1_Assignment.ipynb\" target=\"_parent\"><img src=\"https://colab.research.google.com/assets/colab-badge.svg\" alt=\"Open In Colab\"/></a>"
      ]
    },
    {
      "cell_type": "markdown",
      "id": "4ab727d8",
      "metadata": {
        "id": "4ab727d8"
      },
      "source": [
        "# Assignment 1:  Sentiment with Deep Neural Networks\n",
        "\n",
        "Welcome to the first assignment of chapter 3. In this assignment, you will explore sentiment analysis using deep neural networks.\n",
        "\n",
        "## Important Note on Submission to the AutoGrader\n",
        "\n",
        "Before submitting your assignment to the AutoGrader, please make sure you are not doing the following:\n",
        "\n",
        "1. You have not added any _extra_ `print` statement(s) in the assignment.\n",
        "2. You have not added any _extra_ code cell(s) in the assignment.\n",
        "3. You have not changed any of the function parameters.\n",
        "4. You are not using any global variables inside your graded exercises. Unless specifically instructed to do so, please refrain from it and use the local variables instead.\n",
        "5. You are not changing the assignment code where it is not required, like creating _extra_ variables.\n",
        "\n",
        "If you do any of the following, you will get something like, `Grader not found` (or similarly unexpected) error upon submitting your assignment. Before asking for help/debugging the errors in your assignment, check for these first. If this is the case, and you don't remember the changes you have made."
      ]
    },
    {
      "cell_type": "markdown",
      "metadata": {
        "id": "30yCNpzB0_TO"
      },
      "source": [
        "## Table of Contents\n",
        "- [1 - Import Libraries and try out Trax](#1)\n",
        "- [2 - Importing the Data](#2)\n",
        "    - [2.1 - Loading in the Data](#2-1)\n",
        "    - [2.2 - Building the Vocabulary](#2-2)\n",
        "    - [2.3 - Converting a Tweet to a Tensor](#2-3)\n",
        "        - [Exercise 1 - tweet_to_tensor (UNQ_C1)](#ex-1)\n",
        "    - [2.4 - Creating a Batch Generator](#2-4)\n",
        "        - [Exercise 2 - data_generator (UNQ_C2)](#ex-2)\n",
        "- [3 - Defining Classes](#3)\n",
        "    - [3.1 - ReLU Class](#3-1)\n",
        "        - [Exercise 3 - Relu (UNQ_C3)](#ex-3)\n",
        "    - [3.2 - Dense Class](#3.2)\n",
        "        - [Exercise 4 - Dense (UNQ_C4)](#ex-4)\n",
        "    - [3.3 - Model](#3-3)\n",
        "        - [Exercise 5 - classifier (UNQ_C5)](#ex-5)\n",
        "- [4 - Training](#4)\n",
        "    - [4.1 Training the Model](#4-1)\n",
        "        - [Exercise 6 - train_model (UNQ_C6)](#ex-6)\n",
        "    - [4.2 - Practice Making a Prediction](#4-2)\n",
        "- [5 - Evaluation](#5)\n",
        "    - [5.1 - Computing the Accuracy on a Batch](#5-1)\n",
        "        - [Exercise 7 - compute_accuracy (UNQ_C7)](#ex-7)\n",
        "    - [5.2 - Testing your Model on Validation Data](#5-2)\n",
        "        - [Exercise 8 - test_model (UNQ_C8)](#ex-8)\n",
        "- [6 - Testing with your Own Input](#6)\n",
        "- [7 - Word Embeddings](#7)"
      ],
      "id": "30yCNpzB0_TO"
    },
    {
      "cell_type": "markdown",
      "metadata": {
        "id": "8aeCPdILgrga"
      },
      "source": [
        "In chapter 1, you implemented Logistic regression and Naive Bayes for sentiment analysis. However if you were to give your old models an example like:\n",
        "\n",
        "<center> <span style='color:blue'> <b>This movie was almost good.</b> </span> </center>\n",
        "\n",
        "Your model would have predicted a positive sentiment for that review. However, that sentence has a negative sentiment and indicates that the movie was not good. To solve those kinds of misclassifications, you will write a program that uses deep neural networks to identify sentiment in text. By completing this assignment, you will:\n",
        "\n",
        "- Understand how you can build/design a model using layers\n",
        "- Train a model using a training loop\n",
        "- Use a binary cross-entropy loss function\n",
        "- Compute the accuracy of your model\n",
        "- Predict using your own input\n",
        "\n",
        "As you can tell, this model follows a similar structure to the one you previously implemented in the second course of this specialization.\n",
        "- Indeed most of the deep nets you will be implementing will have a similar structure. The only thing that changes is the model architecture, the inputs, and the outputs. Before starting the assignment, we will introduce you to the Google library `trax` that we use for building and training models.\n",
        "\n",
        "\n",
        "Now we will show you how to compute the gradient of a certain function `f` by just using `  .grad(f)`.\n",
        "\n",
        "- Trax source code can be found on Github: [Trax](https://github.com/google/trax)\n",
        "- The Trax code also uses the JAX library: [JAX](https://jax.readthedocs.io/en/latest/index.html)"
      ],
      "id": "8aeCPdILgrga"
    },
    {
      "cell_type": "markdown",
      "metadata": {
        "id": "IOK4n9JEjCVs"
      },
      "source": [
        "<a name=\"1\"></a>\n",
        "## 1 - Import Libraries and try out Trax\n",
        "\n",
        "- Let's import libraries and look at an example of using the Trax library."
      ],
      "id": "IOK4n9JEjCVs"
    },
    {
      "cell_type": "code",
      "execution_count": null,
      "metadata": {
        "colab": {
          "base_uri": "https://localhost:8080/"
        },
        "id": "WOTfm2P0jCVt",
        "outputId": "14a18bf9-756b-461c-e8b2-e62eef302bbb"
      },
      "outputs": [
        {
          "output_type": "stream",
          "name": "stderr",
          "text": [
            "[nltk_data] Downloading package twitter_samples to /root/nltk_data...\n",
            "[nltk_data]   Unzipping corpora/twitter_samples.zip.\n",
            "[nltk_data] Downloading package stopwords to /root/nltk_data...\n",
            "[nltk_data]   Unzipping corpora/stopwords.zip.\n"
          ]
        }
      ],
      "source": [
        "import os\n",
        "import shutil\n",
        "import random as rnd\n",
        "\n",
        "# import relevant libraries\n",
        "import trax\n",
        "import trax.fastmath.numpy as np\n",
        "from trax import layers as tl\n",
        "from trax import fastmath\n",
        "\n",
        "# import Layer from the utils.py file\n",
        "from utils import Layer, load_tweets, process_tweet\n",
        "import w1_unittest"
      ],
      "id": "WOTfm2P0jCVt"
    },
    {
      "cell_type": "code",
      "execution_count": null,
      "metadata": {
        "colab": {
          "base_uri": "https://localhost:8080/",
          "height": 52
        },
        "id": "EyMnUt38jCVw",
        "outputId": "7ae1b25c-ca8a-49a1-a281-c94d4a777f5b"
      },
      "outputs": [
        {
          "output_type": "display_data",
          "data": {
            "text/plain": [
              "Array(5., dtype=float32, weak_type=True)"
            ]
          },
          "metadata": {}
        },
        {
          "output_type": "stream",
          "name": "stdout",
          "text": [
            "<class 'jaxlib.xla_extension.ArrayImpl'>\n"
          ]
        }
      ],
      "source": [
        "# Create an array using trax.fastmath.numpy\n",
        "a = np.array(5.0)\n",
        "\n",
        "# View the returned array\n",
        "display(a)\n",
        "\n",
        "print(type(a))"
      ],
      "id": "EyMnUt38jCVw"
    },
    {
      "cell_type": "markdown",
      "metadata": {
        "id": "WtEWAFUIjCVz"
      },
      "source": [
        "Notice that trax.fastmath.numpy returns a DeviceArray from the jax library."
      ],
      "id": "WtEWAFUIjCVz"
    },
    {
      "cell_type": "code",
      "execution_count": null,
      "metadata": {
        "id": "J2RUtDtrjCV0"
      },
      "outputs": [],
      "source": [
        "# Define a function that will use the trax.fastmath.numpy array\n",
        "def f(x):\n",
        "\n",
        "    # f = x^2\n",
        "    return (x**2)"
      ],
      "id": "J2RUtDtrjCV0"
    },
    {
      "cell_type": "code",
      "execution_count": null,
      "metadata": {
        "colab": {
          "base_uri": "https://localhost:8080/"
        },
        "id": "qvUd-xzqjCV4",
        "outputId": "afa9bfe4-d72b-4970-c7ff-7889ab13d72b"
      },
      "outputs": [
        {
          "output_type": "stream",
          "name": "stdout",
          "text": [
            "f(a) for a=5.0 is 25.0\n"
          ]
        }
      ],
      "source": [
        "# Call the function\n",
        "print(f\"f(a) for a={a} is {f(a)}\")"
      ],
      "id": "qvUd-xzqjCV4"
    },
    {
      "cell_type": "markdown",
      "metadata": {
        "id": "yGKhSeasjCV7"
      },
      "source": [
        "The gradient (derivative) of function `f` with respect to its input `x` is the derivative of $x^2$.\n",
        "- The derivative of $x^2$ is $2x$.  \n",
        "- When x is 5, then $2x=10$.\n",
        "\n",
        "You can calculate the gradient of a function by using `trax.fastmath.grad(fun=)` and passing in the name of the function.\n",
        "- In this case the function you want to take the gradient of is `f`.\n",
        "- The object returned (saved in `grad_f` in this example) is a function that can calculate the gradient of f for a given trax.fastmath.numpy array."
      ],
      "id": "yGKhSeasjCV7"
    },
    {
      "cell_type": "code",
      "execution_count": null,
      "metadata": {
        "colab": {
          "base_uri": "https://localhost:8080/"
        },
        "id": "2Im5Hkc9jCV8",
        "outputId": "4c092eaf-c162-47dd-a465-1d9669fb7c2f"
      },
      "outputs": [
        {
          "output_type": "execute_result",
          "data": {
            "text/plain": [
              "function"
            ]
          },
          "metadata": {},
          "execution_count": 6
        }
      ],
      "source": [
        "# Directly use trax.fastmath.grad to calculate the gradient (derivative) of the function\n",
        "grad_f = trax.fastmath.grad(fun=f)  # df / dx - Gradient of function f(x) with respect to x\n",
        "\n",
        "# View the type of the returned object (it's a function)\n",
        "type(grad_f)"
      ],
      "id": "2Im5Hkc9jCV8"
    },
    {
      "cell_type": "code",
      "execution_count": null,
      "metadata": {
        "colab": {
          "base_uri": "https://localhost:8080/",
          "height": 34
        },
        "id": "0lDIVvx3jCV_",
        "outputId": "7f5a5831-74e9-4db6-9fe8-778610d01a33"
      },
      "outputs": [
        {
          "output_type": "display_data",
          "data": {
            "text/plain": [
              "Array(10., dtype=float32, weak_type=True)"
            ]
          },
          "metadata": {}
        }
      ],
      "source": [
        "# Call the newly created function and pass in a value for x (the DeviceArray stored in 'a')\n",
        "grad_calculation = grad_f(a)\n",
        "\n",
        "# View the result of calling the grad_f function\n",
        "display(grad_calculation)"
      ],
      "id": "0lDIVvx3jCV_"
    },
    {
      "cell_type": "markdown",
      "metadata": {
        "id": "41l3WDBkjCWD"
      },
      "source": [
        "The function returned by trax.fastmath.grad takes in x=5 and calculates the gradient of f, which is 2*x, which is 10. The value is also stored as a DeviceArray from the jax library."
      ],
      "id": "41l3WDBkjCWD"
    },
    {
      "cell_type": "markdown",
      "metadata": {
        "id": "CZ8RUynQsktn"
      },
      "source": [
        "<a name=\"2\"></a>\n",
        "## 2 - Importing the Data\n",
        "\n",
        "<a name=\"2-1\"></a>\n",
        "### 2.1 - Loading in the Data\n",
        "\n",
        "Import the data set.  \n",
        "- You may recognize this from earlier assignments in the specialization.\n",
        "- Details of process_tweet function are available in utils.py file"
      ],
      "id": "CZ8RUynQsktn"
    },
    {
      "cell_type": "code",
      "execution_count": null,
      "metadata": {
        "deletable": false,
        "editable": false,
        "id": "h5ClwIOSuLJh"
      },
      "outputs": [],
      "source": [
        "## DO NOT EDIT THIS CELL\n",
        "\n",
        "# Import functions from the utils.py file\n",
        "\n",
        "def train_val_split():\n",
        "    # Load positive and negative tweets\n",
        "    all_positive_tweets, all_negative_tweets = load_tweets()\n",
        "\n",
        "    # View the total number of positive and negative tweets.\n",
        "    print(f\"The number of positive tweets: {len(all_positive_tweets)}\")\n",
        "    print(f\"The number of negative tweets: {len(all_negative_tweets)}\")\n",
        "\n",
        "    # Split positive set into validation and training\n",
        "    val_pos   = all_positive_tweets[4000:] # generating validation set for positive tweets\n",
        "    train_pos  = all_positive_tweets[:4000]# generating training set for positive tweets\n",
        "\n",
        "    # Split negative set into validation and training\n",
        "    val_neg   = all_negative_tweets[4000:] # generating validation set for negative tweets\n",
        "    train_neg  = all_negative_tweets[:4000] # generating training set for nagative tweets\n",
        "\n",
        "    # Combine training data into one set\n",
        "    train_x = train_pos + train_neg\n",
        "\n",
        "    # Combine validation data into one set\n",
        "    val_x  = val_pos + val_neg\n",
        "\n",
        "    # Set the labels for the training set (1 for positive, 0 for negative)\n",
        "    train_y = np.append(np.ones(len(train_pos)), np.zeros(len(train_neg)))\n",
        "\n",
        "    # Set the labels for the validation set (1 for positive, 0 for negative)\n",
        "    val_y  = np.append(np.ones(len(val_pos)), np.zeros(len(val_neg)))\n",
        "\n",
        "\n",
        "    return train_pos, train_neg, train_x, train_y, val_pos, val_neg, val_x, val_y"
      ],
      "id": "h5ClwIOSuLJh"
    },
    {
      "cell_type": "code",
      "execution_count": null,
      "metadata": {
        "colab": {
          "base_uri": "https://localhost:8080/"
        },
        "id": "GHKm892k0_TS",
        "outputId": "081d1348-5bb6-405e-f15a-191fb3ed959e"
      },
      "outputs": [
        {
          "output_type": "stream",
          "name": "stdout",
          "text": [
            "The number of positive tweets: 5000\n",
            "The number of negative tweets: 5000\n",
            "length of train_x 8000\n",
            "length of val_x 2000\n"
          ]
        }
      ],
      "source": [
        "train_pos, train_neg, train_x, train_y, val_pos, val_neg, val_x, val_y = train_val_split()\n",
        "\n",
        "print(f\"length of train_x {len(train_x)}\")\n",
        "print(f\"length of val_x {len(val_x)}\")"
      ],
      "id": "GHKm892k0_TS"
    },
    {
      "cell_type": "markdown",
      "metadata": {
        "id": "dNQq4LmbjCWG"
      },
      "source": [
        "Now import a function that processes tweets (we've provided this in the utils.py file).\n",
        "- `process_tweets` removes unwanted characters e.g. hashtag, hyperlinks, stock tickers from a tweet.\n",
        "- It also returns a list of words (it tokenizes the original string)."
      ],
      "id": "dNQq4LmbjCWG"
    },
    {
      "cell_type": "code",
      "execution_count": null,
      "metadata": {
        "colab": {
          "base_uri": "https://localhost:8080/"
        },
        "id": "2bRX6aPDjCWH",
        "outputId": "ca9b6d50-5cc4-4e7c-f65c-063954411451"
      },
      "outputs": [
        {
          "output_type": "stream",
          "name": "stdout",
          "text": [
            "original tweet at training position 0\n",
            "#FollowFriday @France_Inte @PKuchly57 @Milipol_Paris for being top engaged members in my community this week :)\n",
            "Tweet at training position 0 after processing:\n"
          ]
        },
        {
          "output_type": "execute_result",
          "data": {
            "text/plain": [
              "['followfriday', 'top', 'engag', 'member', 'commun', 'week', ':)']"
            ]
          },
          "metadata": {},
          "execution_count": 10
        }
      ],
      "source": [
        "# Try out function that processes tweets\n",
        "print(\"original tweet at training position 0\")\n",
        "print(train_pos[0])\n",
        "\n",
        "print(\"Tweet at training position 0 after processing:\")\n",
        "process_tweet(train_pos[0])"
      ],
      "id": "2bRX6aPDjCWH"
    },
    {
      "cell_type": "markdown",
      "metadata": {
        "id": "00XdS3LOjCWK"
      },
      "source": [
        "Notice that the function `process_tweet` keeps key words, removes the hash # symbol, and ignores usernames (words that begin with '@').  It also returns a list of the words."
      ],
      "id": "00XdS3LOjCWK"
    },
    {
      "cell_type": "markdown",
      "metadata": {
        "id": "ac4D5WSUAVub"
      },
      "source": [
        "<a name=\"2-2\"></a>\n",
        "### 2.2 - Building the Vocabulary\n",
        "\n",
        "Now build the vocabulary.\n",
        "- Map each word in each tweet to an integer (an \"index\").\n",
        "- The following code does this for you, but please read it and understand what it's doing.\n",
        "- Note that you will build the vocabulary based on the training data.\n",
        "- To do so, you will assign an index to everyword by iterating over your training set.\n",
        "\n",
        "The vocabulary will also include some special tokens\n",
        "- `__PAD__`: padding\n",
        "- `</e>`: end of line\n",
        "- `__UNK__`: a token representing any word that is not in the vocabulary."
      ],
      "id": "ac4D5WSUAVub"
    },
    {
      "cell_type": "code",
      "execution_count": null,
      "metadata": {
        "colab": {
          "base_uri": "https://localhost:8080/",
          "height": 1000
        },
        "id": "rQaHKs7kAVuc",
        "outputId": "cae6e15f-3587-4df7-e0fc-c435af7f218c"
      },
      "outputs": [
        {
          "output_type": "stream",
          "name": "stdout",
          "text": [
            "Total words in vocab are 9088\n"
          ]
        },
        {
          "output_type": "display_data",
          "data": {
            "text/plain": [
              "{'__PAD__': 0,\n",
              " '__</e>__': 1,\n",
              " '__UNK__': 2,\n",
              " 'followfriday': 3,\n",
              " 'top': 4,\n",
              " 'engag': 5,\n",
              " 'member': 6,\n",
              " 'commun': 7,\n",
              " 'week': 8,\n",
              " ':)': 9,\n",
              " 'hey': 10,\n",
              " 'jame': 11,\n",
              " 'odd': 12,\n",
              " ':/': 13,\n",
              " 'pleas': 14,\n",
              " 'call': 15,\n",
              " 'contact': 16,\n",
              " 'centr': 17,\n",
              " '02392441234': 18,\n",
              " 'abl': 19,\n",
              " 'assist': 20,\n",
              " 'mani': 21,\n",
              " 'thank': 22,\n",
              " 'listen': 23,\n",
              " 'last': 24,\n",
              " 'night': 25,\n",
              " 'bleed': 26,\n",
              " 'amaz': 27,\n",
              " 'track': 28,\n",
              " 'scotland': 29,\n",
              " 'congrat': 30,\n",
              " 'yeaaah': 31,\n",
              " 'yipppi': 32,\n",
              " 'accnt': 33,\n",
              " 'verifi': 34,\n",
              " 'rqst': 35,\n",
              " 'succeed': 36,\n",
              " 'got': 37,\n",
              " 'blue': 38,\n",
              " 'tick': 39,\n",
              " 'mark': 40,\n",
              " 'fb': 41,\n",
              " 'profil': 42,\n",
              " '15': 43,\n",
              " 'day': 44,\n",
              " 'one': 45,\n",
              " 'irresist': 46,\n",
              " 'flipkartfashionfriday': 47,\n",
              " 'like': 48,\n",
              " 'keep': 49,\n",
              " 'love': 50,\n",
              " 'custom': 51,\n",
              " 'wait': 52,\n",
              " 'long': 53,\n",
              " 'hope': 54,\n",
              " 'enjoy': 55,\n",
              " 'happi': 56,\n",
              " 'friday': 57,\n",
              " 'lwwf': 58,\n",
              " 'second': 59,\n",
              " 'thought': 60,\n",
              " '’': 61,\n",
              " 'enough': 62,\n",
              " 'time': 63,\n",
              " 'dd': 64,\n",
              " 'new': 65,\n",
              " 'short': 66,\n",
              " 'enter': 67,\n",
              " 'system': 68,\n",
              " 'sheep': 69,\n",
              " 'must': 70,\n",
              " 'buy': 71,\n",
              " 'jgh': 72,\n",
              " 'go': 73,\n",
              " 'bayan': 74,\n",
              " ':d': 75,\n",
              " 'bye': 76,\n",
              " 'act': 77,\n",
              " 'mischiev': 78,\n",
              " 'etl': 79,\n",
              " 'layer': 80,\n",
              " 'in-hous': 81,\n",
              " 'wareh': 82,\n",
              " 'app': 83,\n",
              " 'katamari': 84,\n",
              " 'well': 85,\n",
              " '…': 86,\n",
              " 'name': 87,\n",
              " 'impli': 88,\n",
              " ':p': 89,\n",
              " 'influenc': 90,\n",
              " 'big': 91,\n",
              " '...': 92,\n",
              " 'juici': 93,\n",
              " 'selfi': 94,\n",
              " 'follow': 95,\n",
              " 'perfect': 96,\n",
              " 'alreadi': 97,\n",
              " 'know': 98,\n",
              " \"what'\": 99,\n",
              " 'great': 100,\n",
              " 'opportun': 101,\n",
              " 'junior': 102,\n",
              " 'triathlet': 103,\n",
              " 'age': 104,\n",
              " '12': 105,\n",
              " '13': 106,\n",
              " 'gatorad': 107,\n",
              " 'seri': 108,\n",
              " 'get': 109,\n",
              " 'entri': 110,\n",
              " 'lay': 111,\n",
              " 'greet': 112,\n",
              " 'card': 113,\n",
              " 'rang': 114,\n",
              " 'print': 115,\n",
              " 'today': 116,\n",
              " 'job': 117,\n",
              " ':-)': 118,\n",
              " \"friend'\": 119,\n",
              " 'lunch': 120,\n",
              " 'yummm': 121,\n",
              " 'nostalgia': 122,\n",
              " 'tb': 123,\n",
              " 'ku': 124,\n",
              " 'id': 125,\n",
              " 'conflict': 126,\n",
              " 'help': 127,\n",
              " \"here'\": 128,\n",
              " 'screenshot': 129,\n",
              " 'work': 130,\n",
              " 'hi': 131,\n",
              " 'liv': 132,\n",
              " 'hello': 133,\n",
              " 'need': 134,\n",
              " 'someth': 135,\n",
              " 'u': 136,\n",
              " 'fm': 137,\n",
              " 'twitter': 138,\n",
              " '—': 139,\n",
              " 'sure': 140,\n",
              " 'thing': 141,\n",
              " 'dm': 142,\n",
              " 'x': 143,\n",
              " \"i'v\": 144,\n",
              " 'heard': 145,\n",
              " 'four': 146,\n",
              " 'season': 147,\n",
              " 'pretti': 148,\n",
              " 'dope': 149,\n",
              " 'penthous': 150,\n",
              " 'obv': 151,\n",
              " 'gobigorgohom': 152,\n",
              " 'fun': 153,\n",
              " \"y'all\": 154,\n",
              " 'yeah': 155,\n",
              " 'suppos': 156,\n",
              " 'lol': 157,\n",
              " 'chat': 158,\n",
              " 'bit': 159,\n",
              " 'youth': 160,\n",
              " '💅🏽': 161,\n",
              " '💋': 162,\n",
              " 'seen': 163,\n",
              " 'year': 164,\n",
              " 'rest': 165,\n",
              " 'goe': 166,\n",
              " 'quickli': 167,\n",
              " 'bed': 168,\n",
              " 'music': 169,\n",
              " 'fix': 170,\n",
              " 'dream': 171,\n",
              " 'spiritu': 172,\n",
              " 'ritual': 173,\n",
              " 'festiv': 174,\n",
              " 'népal': 175,\n",
              " 'begin': 176,\n",
              " 'line-up': 177,\n",
              " 'left': 178,\n",
              " 'see': 179,\n",
              " 'sarah': 180,\n",
              " 'send': 181,\n",
              " 'us': 182,\n",
              " 'email': 183,\n",
              " 'bitsy@bitdefender.com': 184,\n",
              " \"we'll\": 185,\n",
              " 'asap': 186,\n",
              " 'kik': 187,\n",
              " 'hatessuc': 188,\n",
              " '32429': 189,\n",
              " 'kikm': 190,\n",
              " 'lgbt': 191,\n",
              " 'tinder': 192,\n",
              " 'nsfw': 193,\n",
              " 'akua': 194,\n",
              " 'cumshot': 195,\n",
              " 'come': 196,\n",
              " 'hous': 197,\n",
              " 'nsn_supplement': 198,\n",
              " 'effect': 199,\n",
              " 'press': 200,\n",
              " 'releas': 201,\n",
              " 'distribut': 202,\n",
              " 'result': 203,\n",
              " 'link': 204,\n",
              " 'remov': 205,\n",
              " 'pressreleas': 206,\n",
              " 'newsdistribut': 207,\n",
              " 'bam': 208,\n",
              " 'bestfriend': 209,\n",
              " 'lot': 210,\n",
              " 'warsaw': 211,\n",
              " '<3': 212,\n",
              " 'x46': 213,\n",
              " 'everyon': 214,\n",
              " 'watch': 215,\n",
              " 'documentari': 216,\n",
              " 'earthl': 217,\n",
              " 'youtub': 218,\n",
              " 'support': 219,\n",
              " 'buuut': 220,\n",
              " 'oh': 221,\n",
              " 'look': 222,\n",
              " 'forward': 223,\n",
              " 'visit': 224,\n",
              " 'next': 225,\n",
              " 'letsgetmessi': 226,\n",
              " 'jo': 227,\n",
              " 'make': 228,\n",
              " 'feel': 229,\n",
              " 'better': 230,\n",
              " 'never': 231,\n",
              " 'anyon': 232,\n",
              " 'kpop': 233,\n",
              " 'flesh': 234,\n",
              " 'good': 235,\n",
              " 'girl': 236,\n",
              " 'best': 237,\n",
              " 'wish': 238,\n",
              " 'reason': 239,\n",
              " 'epic': 240,\n",
              " 'soundtrack': 241,\n",
              " 'shout': 242,\n",
              " 'ad': 243,\n",
              " 'video': 244,\n",
              " 'playlist': 245,\n",
              " 'would': 246,\n",
              " 'dear': 247,\n",
              " 'jordan': 248,\n",
              " 'okay': 249,\n",
              " 'fake': 250,\n",
              " 'gameplay': 251,\n",
              " ';)': 252,\n",
              " 'haha': 253,\n",
              " 'im': 254,\n",
              " 'kid': 255,\n",
              " 'stuff': 256,\n",
              " 'exactli': 257,\n",
              " 'product': 258,\n",
              " 'line': 259,\n",
              " 'etsi': 260,\n",
              " 'shop': 261,\n",
              " 'check': 262,\n",
              " 'vacat': 263,\n",
              " 'recharg': 264,\n",
              " 'normal': 265,\n",
              " 'charger': 266,\n",
              " 'asleep': 267,\n",
              " 'talk': 268,\n",
              " 'sooo': 269,\n",
              " 'someon': 270,\n",
              " 'text': 271,\n",
              " 'ye': 272,\n",
              " 'bet': 273,\n",
              " \"he'll\": 274,\n",
              " 'fit': 275,\n",
              " 'hear': 276,\n",
              " 'speech': 277,\n",
              " 'piti': 278,\n",
              " 'green': 279,\n",
              " 'garden': 280,\n",
              " 'midnight': 281,\n",
              " 'sun': 282,\n",
              " 'beauti': 283,\n",
              " 'canal': 284,\n",
              " 'dasvidaniya': 285,\n",
              " 'till': 286,\n",
              " 'scout': 287,\n",
              " 'sg': 288,\n",
              " 'futur': 289,\n",
              " 'wlan': 290,\n",
              " 'pro': 291,\n",
              " 'confer': 292,\n",
              " 'asia': 293,\n",
              " 'chang': 294,\n",
              " 'lollipop': 295,\n",
              " '🍭': 296,\n",
              " 'nez': 297,\n",
              " 'agnezmo': 298,\n",
              " 'oley': 299,\n",
              " 'mama': 300,\n",
              " 'stand': 301,\n",
              " 'stronger': 302,\n",
              " 'god': 303,\n",
              " 'misti': 304,\n",
              " 'babi': 305,\n",
              " 'cute': 306,\n",
              " 'woohoo': 307,\n",
              " \"can't\": 308,\n",
              " 'sign': 309,\n",
              " 'yet': 310,\n",
              " 'still': 311,\n",
              " 'think': 312,\n",
              " 'mka': 313,\n",
              " 'liam': 314,\n",
              " 'access': 315,\n",
              " 'welcom': 316,\n",
              " 'stat': 317,\n",
              " 'arriv': 318,\n",
              " '1': 319,\n",
              " 'unfollow': 320,\n",
              " 'via': 321,\n",
              " 'surpris': 322,\n",
              " 'figur': 323,\n",
              " 'happybirthdayemilybett': 324,\n",
              " 'sweet': 325,\n",
              " 'talent': 326,\n",
              " '2': 327,\n",
              " 'plan': 328,\n",
              " 'drain': 329,\n",
              " 'gotta': 330,\n",
              " 'timezon': 331,\n",
              " 'parent': 332,\n",
              " 'proud': 333,\n",
              " 'least': 334,\n",
              " 'mayb': 335,\n",
              " 'sometim': 336,\n",
              " 'grade': 337,\n",
              " 'al': 338,\n",
              " 'grand': 339,\n",
              " 'manila_bro': 340,\n",
              " 'chosen': 341,\n",
              " 'let': 342,\n",
              " 'around': 343,\n",
              " '..': 344,\n",
              " 'side': 345,\n",
              " 'world': 346,\n",
              " 'eh': 347,\n",
              " 'take': 348,\n",
              " 'care': 349,\n",
              " 'final': 350,\n",
              " 'fuck': 351,\n",
              " 'weekend': 352,\n",
              " 'real': 353,\n",
              " 'x45': 354,\n",
              " 'join': 355,\n",
              " 'hushedcallwithfraydo': 356,\n",
              " 'gift': 357,\n",
              " 'yeahhh': 358,\n",
              " 'hushedpinwithsammi': 359,\n",
              " 'event': 360,\n",
              " 'might': 361,\n",
              " 'luv': 362,\n",
              " 'realli': 363,\n",
              " 'appreci': 364,\n",
              " 'share': 365,\n",
              " 'wow': 366,\n",
              " 'tom': 367,\n",
              " 'gym': 368,\n",
              " 'monday': 369,\n",
              " 'invit': 370,\n",
              " 'scope': 371,\n",
              " 'friend': 372,\n",
              " 'nude': 373,\n",
              " 'sleep': 374,\n",
              " 'birthday': 375,\n",
              " 'want': 376,\n",
              " 't-shirt': 377,\n",
              " 'cool': 378,\n",
              " 'haw': 379,\n",
              " 'phela': 380,\n",
              " 'mom': 381,\n",
              " 'obvious': 382,\n",
              " 'princ': 383,\n",
              " 'charm': 384,\n",
              " 'stage': 385,\n",
              " 'luck': 386,\n",
              " 'tyler': 387,\n",
              " 'hipster': 388,\n",
              " 'glass': 389,\n",
              " 'marti': 390,\n",
              " 'glad': 391,\n",
              " 'done': 392,\n",
              " 'afternoon': 393,\n",
              " 'read': 394,\n",
              " 'kahfi': 395,\n",
              " 'finish': 396,\n",
              " 'ohmyg': 397,\n",
              " 'yaya': 398,\n",
              " 'dub': 399,\n",
              " 'stalk': 400,\n",
              " 'ig': 401,\n",
              " 'gondooo': 402,\n",
              " 'moo': 403,\n",
              " 'tologooo': 404,\n",
              " 'becom': 405,\n",
              " 'detail': 406,\n",
              " 'zzz': 407,\n",
              " 'xx': 408,\n",
              " 'physiotherapi': 409,\n",
              " 'hashtag': 410,\n",
              " '💪': 411,\n",
              " 'monica': 412,\n",
              " 'miss': 413,\n",
              " 'sound': 414,\n",
              " 'morn': 415,\n",
              " \"that'\": 416,\n",
              " 'x43': 417,\n",
              " 'definit': 418,\n",
              " 'tri': 419,\n",
              " 'tonight': 420,\n",
              " 'took': 421,\n",
              " 'advic': 422,\n",
              " 'treviso': 423,\n",
              " 'concert': 424,\n",
              " 'citi': 425,\n",
              " 'countri': 426,\n",
              " \"i'll\": 427,\n",
              " 'start': 428,\n",
              " 'fine': 429,\n",
              " 'gorgeou': 430,\n",
              " 'xo': 431,\n",
              " 'oven': 432,\n",
              " 'roast': 433,\n",
              " 'garlic': 434,\n",
              " 'oliv': 435,\n",
              " 'oil': 436,\n",
              " 'dri': 437,\n",
              " 'tomato': 438,\n",
              " 'basil': 439,\n",
              " 'centuri': 440,\n",
              " 'tuna': 441,\n",
              " 'right': 442,\n",
              " 'back': 443,\n",
              " 'atchya': 444,\n",
              " 'even': 445,\n",
              " 'almost': 446,\n",
              " 'chanc': 447,\n",
              " 'cheer': 448,\n",
              " 'po': 449,\n",
              " 'ice': 450,\n",
              " 'cream': 451,\n",
              " 'agre': 452,\n",
              " '100': 453,\n",
              " 'heheheh': 454,\n",
              " 'that': 455,\n",
              " 'point': 456,\n",
              " 'stay': 457,\n",
              " 'home': 458,\n",
              " 'soon': 459,\n",
              " 'promis': 460,\n",
              " 'web': 461,\n",
              " 'whatsapp': 462,\n",
              " 'volta': 463,\n",
              " 'funcionar': 464,\n",
              " 'com': 465,\n",
              " 'iphon': 466,\n",
              " 'jailbroken': 467,\n",
              " 'later': 468,\n",
              " '34': 469,\n",
              " 'min': 470,\n",
              " 'leia': 471,\n",
              " 'appear': 472,\n",
              " 'hologram': 473,\n",
              " 'r2d2': 474,\n",
              " 'w': 475,\n",
              " 'messag': 476,\n",
              " 'obi': 477,\n",
              " 'wan': 478,\n",
              " 'sit': 479,\n",
              " 'luke': 480,\n",
              " 'inter': 481,\n",
              " '3': 482,\n",
              " 'ucl': 483,\n",
              " 'arsen': 484,\n",
              " 'small': 485,\n",
              " 'team': 486,\n",
              " 'pass': 487,\n",
              " '🚂': 488,\n",
              " 'dewsburi': 489,\n",
              " 'railway': 490,\n",
              " 'station': 491,\n",
              " 'dew': 492,\n",
              " 'west': 493,\n",
              " 'yorkshir': 494,\n",
              " '430': 495,\n",
              " 'smh': 496,\n",
              " '9:25': 497,\n",
              " 'live': 498,\n",
              " 'strang': 499,\n",
              " 'imagin': 500,\n",
              " 'megan': 501,\n",
              " 'masaantoday': 502,\n",
              " 'a4': 503,\n",
              " 'shweta': 504,\n",
              " 'tripathi': 505,\n",
              " '5': 506,\n",
              " '20': 507,\n",
              " 'kurta': 508,\n",
              " 'half': 509,\n",
              " 'number': 510,\n",
              " 'wsalelov': 511,\n",
              " 'ah': 512,\n",
              " 'larri': 513,\n",
              " 'anyway': 514,\n",
              " 'kinda': 515,\n",
              " 'goood': 516,\n",
              " 'life': 517,\n",
              " 'enn': 518,\n",
              " 'could': 519,\n",
              " 'warmup': 520,\n",
              " '15th': 521,\n",
              " 'bath': 522,\n",
              " 'dum': 523,\n",
              " 'andar': 524,\n",
              " 'ram': 525,\n",
              " 'sampath': 526,\n",
              " 'sona': 527,\n",
              " 'mohapatra': 528,\n",
              " 'samantha': 529,\n",
              " 'edward': 530,\n",
              " 'mein': 531,\n",
              " 'tulan': 532,\n",
              " 'razi': 533,\n",
              " 'wah': 534,\n",
              " 'josh': 535,\n",
              " 'alway': 536,\n",
              " 'smile': 537,\n",
              " 'pictur': 538,\n",
              " '16.20': 539,\n",
              " 'giveitup': 540,\n",
              " 'given': 541,\n",
              " 'ga': 542,\n",
              " 'subsidi': 543,\n",
              " 'initi': 544,\n",
              " 'propos': 545,\n",
              " 'delight': 546,\n",
              " 'yesterday': 547,\n",
              " 'x42': 548,\n",
              " 'lmaoo': 549,\n",
              " 'song': 550,\n",
              " 'ever': 551,\n",
              " 'shall': 552,\n",
              " 'littl': 553,\n",
              " 'throwback': 554,\n",
              " 'outli': 555,\n",
              " 'island': 556,\n",
              " 'cheung': 557,\n",
              " 'chau': 558,\n",
              " 'mui': 559,\n",
              " 'wo': 560,\n",
              " 'total': 561,\n",
              " 'differ': 562,\n",
              " 'kfckitchentour': 563,\n",
              " 'kitchen': 564,\n",
              " 'clean': 565,\n",
              " \"i'm\": 566,\n",
              " 'cusp': 567,\n",
              " 'test': 568,\n",
              " 'water': 569,\n",
              " 'reward': 570,\n",
              " 'arummzz': 571,\n",
              " \"let'\": 572,\n",
              " 'drive': 573,\n",
              " 'travel': 574,\n",
              " 'yogyakarta': 575,\n",
              " 'jeep': 576,\n",
              " 'indonesia': 577,\n",
              " 'instamood': 578,\n",
              " 'wanna': 579,\n",
              " 'skype': 580,\n",
              " 'may': 581,\n",
              " 'nice': 582,\n",
              " 'friendli': 583,\n",
              " 'pretend': 584,\n",
              " 'film': 585,\n",
              " 'congratul': 586,\n",
              " 'winner': 587,\n",
              " 'cheesydelight': 588,\n",
              " 'contest': 589,\n",
              " 'address': 590,\n",
              " 'guy': 591,\n",
              " 'market': 592,\n",
              " '24/7': 593,\n",
              " '14': 594,\n",
              " 'hour': 595,\n",
              " 'leav': 596,\n",
              " 'without': 597,\n",
              " 'delay': 598,\n",
              " 'actual': 599,\n",
              " 'easi': 600,\n",
              " 'guess': 601,\n",
              " 'train': 602,\n",
              " 'wd': 603,\n",
              " 'shift': 604,\n",
              " 'engin': 605,\n",
              " 'etc': 606,\n",
              " 'sunburn': 607,\n",
              " 'peel': 608,\n",
              " 'blog': 609,\n",
              " 'huge': 610,\n",
              " 'warm': 611,\n",
              " '☆': 612,\n",
              " 'complet': 613,\n",
              " 'triangl': 614,\n",
              " 'northern': 615,\n",
              " 'ireland': 616,\n",
              " 'sight': 617,\n",
              " 'smthng': 618,\n",
              " 'fr': 619,\n",
              " 'hug': 620,\n",
              " 'xoxo': 621,\n",
              " 'uu': 622,\n",
              " 'jaann': 623,\n",
              " 'topnewfollow': 624,\n",
              " 'connect': 625,\n",
              " 'wonder': 626,\n",
              " 'made': 627,\n",
              " 'fluffi': 628,\n",
              " 'insid': 629,\n",
              " 'pirouett': 630,\n",
              " 'moos': 631,\n",
              " 'trip': 632,\n",
              " 'philli': 633,\n",
              " 'decemb': 634,\n",
              " \"i'd\": 635,\n",
              " 'dude': 636,\n",
              " 'x41': 637,\n",
              " 'question': 638,\n",
              " 'flaw': 639,\n",
              " 'pain': 640,\n",
              " 'negat': 641,\n",
              " 'strength': 642,\n",
              " 'went': 643,\n",
              " 'solo': 644,\n",
              " 'move': 645,\n",
              " 'fav': 646,\n",
              " 'nirvana': 647,\n",
              " 'smell': 648,\n",
              " 'teen': 649,\n",
              " 'spirit': 650,\n",
              " 'rip': 651,\n",
              " 'ami': 652,\n",
              " 'winehous': 653,\n",
              " 'coupl': 654,\n",
              " 'tomhiddleston': 655,\n",
              " 'elizabetholsen': 656,\n",
              " 'yaytheylookgreat': 657,\n",
              " 'goodnight': 658,\n",
              " 'vid': 659,\n",
              " 'wake': 660,\n",
              " 'gonna': 661,\n",
              " 'shoot': 662,\n",
              " 'itti': 663,\n",
              " 'bitti': 664,\n",
              " 'teeni': 665,\n",
              " 'bikini': 666,\n",
              " 'much': 667,\n",
              " '4th': 668,\n",
              " 'togeth': 669,\n",
              " 'end': 670,\n",
              " 'xfile': 671,\n",
              " 'content': 672,\n",
              " 'rain': 673,\n",
              " 'fabul': 674,\n",
              " 'fantast': 675,\n",
              " '♡': 676,\n",
              " 'jb': 677,\n",
              " 'forev': 678,\n",
              " 'belieb': 679,\n",
              " 'nighti': 680,\n",
              " 'bug': 681,\n",
              " 'bite': 682,\n",
              " 'bracelet': 683,\n",
              " 'idea': 684,\n",
              " 'foundri': 685,\n",
              " 'game': 686,\n",
              " 'sens': 687,\n",
              " 'pic': 688,\n",
              " 'ef': 689,\n",
              " 'phone': 690,\n",
              " 'woot': 691,\n",
              " 'derek': 692,\n",
              " 'use': 693,\n",
              " 'parkshar': 694,\n",
              " 'gloucestershir': 695,\n",
              " 'aaaahhh': 696,\n",
              " 'man': 697,\n",
              " 'traffic': 698,\n",
              " 'stress': 699,\n",
              " 'reliev': 700,\n",
              " \"how'r\": 701,\n",
              " 'arbeloa': 702,\n",
              " 'turn': 703,\n",
              " '17': 704,\n",
              " 'omg': 705,\n",
              " 'say': 706,\n",
              " 'europ': 707,\n",
              " 'rise': 708,\n",
              " 'find': 709,\n",
              " 'hard': 710,\n",
              " 'believ': 711,\n",
              " 'uncount': 712,\n",
              " 'coz': 713,\n",
              " 'unlimit': 714,\n",
              " 'cours': 715,\n",
              " 'teamposit': 716,\n",
              " 'aldub': 717,\n",
              " '☕': 718,\n",
              " 'rita': 719,\n",
              " 'info': 720,\n",
              " \"we'd\": 721,\n",
              " 'way': 722,\n",
              " 'boy': 723,\n",
              " 'x40': 724,\n",
              " 'true': 725,\n",
              " 'sethi': 726,\n",
              " 'high': 727,\n",
              " 'exe': 728,\n",
              " 'skeem': 729,\n",
              " 'saam': 730,\n",
              " 'peopl': 731,\n",
              " 'polit': 732,\n",
              " 'izzat': 733,\n",
              " 'wese': 734,\n",
              " 'trust': 735,\n",
              " 'khawateen': 736,\n",
              " 'k': 737,\n",
              " 'sath': 738,\n",
              " 'mana': 739,\n",
              " 'kar': 740,\n",
              " 'deya': 741,\n",
              " 'sort': 742,\n",
              " 'smart': 743,\n",
              " 'hair': 744,\n",
              " 'tbh': 745,\n",
              " 'jacob': 746,\n",
              " 'g': 747,\n",
              " 'upgrad': 748,\n",
              " 'tee': 749,\n",
              " 'famili': 750,\n",
              " 'person': 751,\n",
              " 'two': 752,\n",
              " 'convers': 753,\n",
              " 'onlin': 754,\n",
              " 'mclaren': 755,\n",
              " 'fridayfeel': 756,\n",
              " 'tgif': 757,\n",
              " 'squar': 758,\n",
              " 'enix': 759,\n",
              " 'bissmillah': 760,\n",
              " 'ya': 761,\n",
              " 'allah': 762,\n",
              " \"we'r\": 763,\n",
              " 'socent': 764,\n",
              " 'startup': 765,\n",
              " 'drop': 766,\n",
              " 'your': 767,\n",
              " 'arnd': 768,\n",
              " 'town': 769,\n",
              " 'basic': 770,\n",
              " 'piss': 771,\n",
              " 'cup': 772,\n",
              " 'also': 773,\n",
              " 'terribl': 774,\n",
              " 'complic': 775,\n",
              " 'discuss': 776,\n",
              " 'snapchat': 777,\n",
              " 'lynettelow': 778,\n",
              " 'kikmenow': 779,\n",
              " 'snapm': 780,\n",
              " 'hot': 781,\n",
              " 'amazon': 782,\n",
              " 'kikmeguy': 783,\n",
              " 'defin': 784,\n",
              " 'grow': 785,\n",
              " 'sport': 786,\n",
              " 'rt': 787,\n",
              " 'rakyat': 788,\n",
              " 'write': 789,\n",
              " 'sinc': 790,\n",
              " 'mention': 791,\n",
              " 'fli': 792,\n",
              " 'fish': 793,\n",
              " 'promot': 794,\n",
              " 'post': 795,\n",
              " 'cyber': 796,\n",
              " 'ourdaughtersourprid': 797,\n",
              " 'mypapamyprid': 798,\n",
              " 'papa': 799,\n",
              " 'coach': 800,\n",
              " 'posit': 801,\n",
              " 'kha': 802,\n",
              " 'atleast': 803,\n",
              " 'x39': 804,\n",
              " 'mango': 805,\n",
              " \"lassi'\": 806,\n",
              " \"monty'\": 807,\n",
              " 'marvel': 808,\n",
              " 'though': 809,\n",
              " 'suspect': 810,\n",
              " 'meant': 811,\n",
              " '24': 812,\n",
              " 'hr': 813,\n",
              " 'touch': 814,\n",
              " 'kepler': 815,\n",
              " '452b': 816,\n",
              " 'chalna': 817,\n",
              " 'hai': 818,\n",
              " 'thankyou': 819,\n",
              " 'hazel': 820,\n",
              " 'food': 821,\n",
              " 'brooklyn': 822,\n",
              " 'pta': 823,\n",
              " 'awak': 824,\n",
              " 'okayi': 825,\n",
              " 'awww': 826,\n",
              " 'ha': 827,\n",
              " 'doc': 828,\n",
              " 'splendid': 829,\n",
              " 'spam': 830,\n",
              " 'folder': 831,\n",
              " 'amount': 832,\n",
              " 'nigeria': 833,\n",
              " 'claim': 834,\n",
              " 'rted': 835,\n",
              " 'leg': 836,\n",
              " 'hurt': 837,\n",
              " 'bad': 838,\n",
              " 'mine': 839,\n",
              " 'saturday': 840,\n",
              " 'thaaank': 841,\n",
              " 'puhon': 842,\n",
              " 'happinesss': 843,\n",
              " 'tnc': 844,\n",
              " 'prior': 845,\n",
              " 'notif': 846,\n",
              " 'fat': 847,\n",
              " 'co': 848,\n",
              " 'probabl': 849,\n",
              " 'ate': 850,\n",
              " 'yuna': 851,\n",
              " 'tamesid': 852,\n",
              " '´': 853,\n",
              " 'googl': 854,\n",
              " 'account': 855,\n",
              " 'scouser': 856,\n",
              " 'everyth': 857,\n",
              " 'zoe': 858,\n",
              " 'mate': 859,\n",
              " 'liter': 860,\n",
              " \"they'r\": 861,\n",
              " 'samee': 862,\n",
              " 'edgar': 863,\n",
              " 'updat': 864,\n",
              " 'log': 865,\n",
              " 'bring': 866,\n",
              " 'abe': 867,\n",
              " 'meet': 868,\n",
              " 'x38': 869,\n",
              " 'sigh': 870,\n",
              " 'dreamili': 871,\n",
              " 'pout': 872,\n",
              " 'eye': 873,\n",
              " 'quacketyquack': 874,\n",
              " 'funni': 875,\n",
              " 'happen': 876,\n",
              " 'phil': 877,\n",
              " 'em': 878,\n",
              " 'del': 879,\n",
              " 'rodder': 880,\n",
              " 'els': 881,\n",
              " 'play': 882,\n",
              " 'newest': 883,\n",
              " 'gamejam': 884,\n",
              " 'irish': 885,\n",
              " 'literatur': 886,\n",
              " 'inaccess': 887,\n",
              " \"kareena'\": 888,\n",
              " 'fan': 889,\n",
              " 'brain': 890,\n",
              " 'dot': 891,\n",
              " 'braindot': 892,\n",
              " 'fair': 893,\n",
              " 'rush': 894,\n",
              " 'either': 895,\n",
              " 'brandi': 896,\n",
              " '18': 897,\n",
              " 'carniv': 898,\n",
              " 'men': 899,\n",
              " 'put': 900,\n",
              " 'mask': 901,\n",
              " 'xavier': 902,\n",
              " 'forneret': 903,\n",
              " 'jennif': 904,\n",
              " 'site': 905,\n",
              " 'free': 906,\n",
              " '50.000': 907,\n",
              " '8': 908,\n",
              " 'ball': 909,\n",
              " 'pool': 910,\n",
              " 'coin': 911,\n",
              " 'edit': 912,\n",
              " 'trish': 913,\n",
              " '♥': 914,\n",
              " 'grate': 915,\n",
              " 'three': 916,\n",
              " 'comment': 917,\n",
              " 'wakeup': 918,\n",
              " 'besid': 919,\n",
              " 'dirti': 920,\n",
              " 'sex': 921,\n",
              " 'lmaooo': 922,\n",
              " '😤': 923,\n",
              " 'loui': 924,\n",
              " \"he'\": 925,\n",
              " 'throw': 926,\n",
              " 'caus': 927,\n",
              " 'inspir': 928,\n",
              " 'ff': 929,\n",
              " 'twoof': 930,\n",
              " 'gr8': 931,\n",
              " 'wkend': 932,\n",
              " 'kind': 933,\n",
              " 'exhaust': 934,\n",
              " 'word': 935,\n",
              " 'cheltenham': 936,\n",
              " 'area': 937,\n",
              " 'kale': 938,\n",
              " 'crisp': 939,\n",
              " 'ruin': 940,\n",
              " 'x37': 941,\n",
              " 'open': 942,\n",
              " 'worldwid': 943,\n",
              " 'outta': 944,\n",
              " 'sfvbeta': 945,\n",
              " 'vantast': 946,\n",
              " 'xcylin': 947,\n",
              " 'bundl': 948,\n",
              " 'show': 949,\n",
              " 'internet': 950,\n",
              " 'price': 951,\n",
              " 'realisticli': 952,\n",
              " 'pay': 953,\n",
              " 'net': 954,\n",
              " 'educ': 955,\n",
              " 'power': 956,\n",
              " 'weapon': 957,\n",
              " 'nelson': 958,\n",
              " 'mandela': 959,\n",
              " 'recent': 960,\n",
              " 'j': 961,\n",
              " 'chenab': 962,\n",
              " 'flow': 963,\n",
              " 'pakistan': 964,\n",
              " 'incredibleindia': 965,\n",
              " 'teenchoic': 966,\n",
              " 'choiceinternationalartist': 967,\n",
              " 'superjunior': 968,\n",
              " 'caught': 969,\n",
              " 'first': 970,\n",
              " 'salmon': 971,\n",
              " 'super-blend': 972,\n",
              " 'project': 973,\n",
              " 'youth@bipolaruk.org.uk': 974,\n",
              " 'awesom': 975,\n",
              " 'stream': 976,\n",
              " 'alma': 977,\n",
              " 'mater': 978,\n",
              " 'highschoolday': 979,\n",
              " 'clientvisit': 980,\n",
              " 'faith': 981,\n",
              " 'christian': 982,\n",
              " 'school': 983,\n",
              " 'lizaminnelli': 984,\n",
              " 'upcom': 985,\n",
              " 'uk': 986,\n",
              " '😄': 987,\n",
              " 'singl': 988,\n",
              " 'hill': 989,\n",
              " 'everi': 990,\n",
              " 'beat': 991,\n",
              " 'wrong': 992,\n",
              " 'readi': 993,\n",
              " 'natur': 994,\n",
              " 'pefumeri': 995,\n",
              " 'workshop': 996,\n",
              " 'neal': 997,\n",
              " 'yard': 998,\n",
              " 'covent': 999,\n",
              " ...}"
            ]
          },
          "metadata": {}
        }
      ],
      "source": [
        "# Build the vocabulary\n",
        "# Unit Test Note - There is no test set here only train/val\n",
        "def get_vocab(train_x):\n",
        "\n",
        "    # Include special tokens\n",
        "    # started with pad, end of line and unk tokens\n",
        "    Vocab = {'__PAD__': 0, '__</e>__': 1, '__UNK__': 2}\n",
        "\n",
        "    # Note that we build vocab using training data\n",
        "    for tweet in train_x:\n",
        "        processed_tweet = process_tweet(tweet)\n",
        "        for word in processed_tweet:\n",
        "            if word not in Vocab:\n",
        "                Vocab[word] = len(Vocab)\n",
        "\n",
        "    return Vocab\n",
        "\n",
        "Vocab = get_vocab(train_x)\n",
        "\n",
        "print(\"Total words in vocab are\",len(Vocab))\n",
        "display(Vocab)"
      ],
      "id": "rQaHKs7kAVuc"
    },
    {
      "cell_type": "markdown",
      "metadata": {
        "id": "gP6K9qcCAVue"
      },
      "source": [
        "The dictionary `Vocab` will look like this:\n",
        "```CPP\n",
        "{'__PAD__': 0,\n",
        " '__</e>__': 1,\n",
        " '__UNK__': 2,\n",
        " 'followfriday': 3,\n",
        " 'top': 4,\n",
        " 'engag': 5,\n",
        " ...\n",
        "```\n",
        "\n",
        "- Each unique word has a unique integer associated with it.\n",
        "- The total number of words in Vocab: 9088"
      ],
      "id": "gP6K9qcCAVue"
    },
    {
      "cell_type": "markdown",
      "metadata": {
        "id": "0x8pND8tAVuf"
      },
      "source": [
        "<a name=\"2-3\"></a>\n",
        "## 2.3 - Converting a Tweet to a Tensor\n",
        "\n",
        "Write a function that will convert each tweet to a tensor (a list of unique integer IDs representing the processed tweet).\n",
        "- Note, the returned data type will be a **regular Python `list()`**\n",
        "    - You won't use TensorFlow in this function\n",
        "    - You also won't use a numpy array\n",
        "    - You also won't use trax.fastmath.numpy array\n",
        "- For words in the tweet that are not in the vocabulary, set them to the unique ID for the token `__UNK__`.\n",
        "\n",
        "##### Example\n",
        "Input a tweet:\n",
        "```CPP\n",
        "'@happypuppy, is Maria happy?'\n",
        "```\n",
        "\n",
        "The tweet_to_tensor will first conver the tweet into a list of tokens (including only relevant words)\n",
        "```CPP\n",
        "['maria', 'happi']\n",
        "```\n",
        "\n",
        "Then it will convert each word into its unique integer\n",
        "\n",
        "```CPP\n",
        "[2, 56]\n",
        "```\n",
        "- Notice that the word \"maria\" is not in the vocabulary, so it is assigned the unique integer associated with the `__UNK__` token, because it is considered \"unknown.\"\n",
        "\n"
      ],
      "id": "0x8pND8tAVuf"
    },
    {
      "cell_type": "markdown",
      "metadata": {
        "id": "QtQhtv0kjCWQ"
      },
      "source": [
        "<a name=\"ex-1\"></a>\n",
        "### Exercise 1 - tweet_to_tensor\n",
        "**Instructions:** Write a program `tweet_to_tensor` that takes in a tweet and converts it to an array of numbers. You can use the `Vocab` dictionary you just found to help create the tensor.\n",
        "\n",
        "- Use the vocab_dict parameter and not a global variable.\n",
        "- Do not hard code the integer value for the `__UNK__` token."
      ],
      "id": "QtQhtv0kjCWQ"
    },
    {
      "cell_type": "markdown",
      "metadata": {
        "id": "sKSx1SBYjCWR"
      },
      "source": [
        "<details>    \n",
        "<summary>\n",
        "    <font size=\"3\" color=\"darkgreen\"><b>Hints</b></font>\n",
        "</summary>\n",
        "<p>\n",
        "<ul>\n",
        "    <li>Map each word in tweet to corresponding token in 'Vocab'</li>\n",
        "    <li>Use Python's Dictionary.get(key,value) so that the function returns a default value if the key is not found in the dictionary.</li>\n",
        "</ul>\n",
        "</p>\n"
      ],
      "id": "sKSx1SBYjCWR"
    },
    {
      "cell_type": "code",
      "execution_count": 12,
      "metadata": {
        "id": "Ft1zNGMaAVuf"
      },
      "outputs": [],
      "source": [
        "# CANDIDATE FOR TABLE TEST - If a student forgets to check for unk, there might be errors or just wrong values in the list.\n",
        "# We can add those errors to check in autograder through tabled test or here student facing user test.\n",
        "\n",
        "# UNQ_C1 (UNIQUE CELL IDENTIFIER, DO NOT EDIT)\n",
        "# GRADED FUNCTION: tweet_to_tensor\n",
        "def tweet_to_tensor(tweet, vocab_dict, unk_token='__UNK__', verbose=False):\n",
        "    '''\n",
        "    Input:\n",
        "        tweet - A string containing a tweet\n",
        "        vocab_dict - The words dictionary\n",
        "        unk_token - The special string for unknown tokens\n",
        "        verbose - Print info durign runtime\n",
        "    Output:\n",
        "        tensor_l - A python list with\n",
        "\n",
        "    '''\n",
        "    ### START CODE HERE (Replace instances of 'None' with your code) ###\n",
        "    # Process the tweet into a list of words\n",
        "    # where only important words are kept (stop words removed)\n",
        "    word_l = process_tweet(tweet)\n",
        "\n",
        "    if verbose:\n",
        "        print(\"List of words from the processed tweet:\")\n",
        "        print(word_l)\n",
        "\n",
        "    # Initialize the list that will contain the unique integer IDs of each word\n",
        "    tensor_l = []\n",
        "\n",
        "    # Get the unique integer ID of the __UNK__ token\n",
        "    unk_ID = vocab_dict[unk_token]\n",
        "\n",
        "    if verbose:\n",
        "        print(f\"The unique integer ID for the unk_token is {unk_ID}\")\n",
        "\n",
        "    # for each word in the list:\n",
        "    for word in word_l:\n",
        "\n",
        "        # Get the unique integer ID.\n",
        "        # If the word doesn't exist in the vocab dictionary,\n",
        "        # use the unique ID for __UNK__ instead.\n",
        "        word_ID = vocab_dict[word] if word in vocab_dict else unk_ID\n",
        "\n",
        "        # Append the unique integer ID to the tensor list.\n",
        "        tensor_l.append(word_ID)\n",
        "    ### END CODE HERE ###\n",
        "\n",
        "    return tensor_l"
      ],
      "id": "Ft1zNGMaAVuf"
    },
    {
      "cell_type": "code",
      "execution_count": 13,
      "metadata": {
        "id": "ze0Zx_5UjCWU",
        "colab": {
          "base_uri": "https://localhost:8080/"
        },
        "outputId": "798276d7-5f60-4225-8fd5-3ae652430577"
      },
      "outputs": [
        {
          "output_type": "stream",
          "name": "stdout",
          "text": [
            "Actual tweet is\n",
            " Bro:U wan cut hair anot,ur hair long Liao bo\n",
            "Me:since ord liao,take it easy lor treat as save $ leave it longer :)\n",
            "Bro:LOL Sibei xialan\n",
            "\n",
            "Tensor of tweet:\n",
            " [1064, 136, 478, 2351, 744, 8148, 1122, 744, 53, 2, 2671, 790, 2, 2, 348, 600, 2, 3488, 1016, 596, 4558, 9, 1064, 157, 2, 2]\n"
          ]
        }
      ],
      "source": [
        "print(\"Actual tweet is\\n\", val_pos[0])\n",
        "print(\"\\nTensor of tweet:\\n\", tweet_to_tensor(val_pos[0], vocab_dict=Vocab))"
      ],
      "id": "ze0Zx_5UjCWU"
    },
    {
      "cell_type": "markdown",
      "metadata": {
        "id": "s0MbWVeijCWW"
      },
      "source": [
        "##### Expected output\n",
        "\n",
        "```CPP\n",
        "Actual tweet is\n",
        " Bro:U wan cut hair anot,ur hair long Liao bo\n",
        "Me:since ord liao,take it easy lor treat as save $ leave it longer :)\n",
        "Bro:LOL Sibei xialan\n",
        "\n",
        "Tensor of tweet:\n",
        " [1064, 136, 478, 2351, 744, 8148, 1122, 744, 53, 2, 2671, 790, 2, 2, 348, 600, 2, 3488, 1016, 596, 4558, 9, 1064, 157, 2, 2]\n",
        "```"
      ],
      "id": "s0MbWVeijCWW"
    },
    {
      "cell_type": "code",
      "execution_count": 14,
      "metadata": {
        "id": "ecoYehWi0_TT",
        "colab": {
          "base_uri": "https://localhost:8080/"
        },
        "outputId": "82db3d82-db64-4a8c-cef4-e799f954cb96"
      },
      "outputs": [
        {
          "output_type": "stream",
          "name": "stdout",
          "text": [
            "\u001b[92m All tests passed\n"
          ]
        }
      ],
      "source": [
        "# Test your function\n",
        "w1_unittest.test_tweet_to_tensor(tweet_to_tensor, Vocab)"
      ],
      "id": "ecoYehWi0_TT"
    },
    {
      "cell_type": "markdown",
      "metadata": {
        "id": "rwAZZIYYAVuj"
      },
      "source": [
        "<a name=\"2-4\"></a>\n",
        "### 2.4 - Creating a Batch Generator\n",
        "\n",
        "Most of the time in Natural Language Processing, and AI in general we use batches when training our data sets.\n",
        "- If instead of training with batches of examples, you were to train a model with one example at a time, it would take a very long time to train the model.\n",
        "- You will now build a data generator that takes in the positive/negative tweets and returns a batch of training examples. It returns the model inputs, the targets (positive or negative labels) and the weight for each target (ex: this allows us to can treat some examples as more important to get right than others, but commonly this will all be 1.0).\n",
        "\n",
        "Once you create the generator, you could include it in a for loop\n",
        "\n",
        "```CPP\n",
        "for batch_inputs, batch_targets, batch_example_weights in data_generator:\n",
        "    ...\n",
        "```\n",
        "\n",
        "You can also get a single batch like this:\n",
        "\n",
        "```CPP\n",
        "batch_inputs, batch_targets, batch_example_weights = next(data_generator)\n",
        "```\n",
        "The generator returns the next batch each time it's called.\n",
        "- This generator returns the data in a format (tensors) that you could directly use in your model.\n",
        "- It returns a triplet: the inputs, targets, and loss weights:\n",
        "    - Inputs is a tensor that contains the batch of tweets we put into the model.\n",
        "    - Targets is the corresponding batch of labels that we train to generate.\n",
        "    - Loss weights here are just 1s with same shape as targets. Next week, you will use it to mask input padding."
      ],
      "id": "rwAZZIYYAVuj"
    },
    {
      "cell_type": "markdown",
      "metadata": {
        "id": "sR-sF_o0jCWa"
      },
      "source": [
        "<a name=\"ex-2\"></a>\n",
        "### Exercise 2 - data_generator\n",
        "Implement `data_generator`."
      ],
      "id": "sR-sF_o0jCWa"
    },
    {
      "cell_type": "code",
      "execution_count": 17,
      "metadata": {
        "id": "fPd9HNT7AVuk"
      },
      "outputs": [],
      "source": [
        "# UNQ_C2 (UNIQUE CELL IDENTIFIER, DO NOT EDIT)\n",
        "# GRADED: Data generator\n",
        "def data_generator(data_pos, data_neg, batch_size, loop, vocab_dict, shuffle=False):\n",
        "    '''\n",
        "    Input:\n",
        "        data_pos - Set of positive examples\n",
        "        data_neg - Set of negative examples\n",
        "        batch_size - number of samples per batch. Must be even\n",
        "        loop - True or False\n",
        "        vocab_dict - The words dictionary\n",
        "        shuffle - Shuffle the data order\n",
        "    Yield:\n",
        "        inputs - Subset of positive and negative examples\n",
        "        targets - The corresponding labels for the subset\n",
        "        example_weights - An array specifying the importance of each example\n",
        "\n",
        "    '''\n",
        "\n",
        "    # make sure the batch size is an even number\n",
        "    # to allow an equal number of positive and negative samples\n",
        "    assert batch_size % 2 == 0\n",
        "\n",
        "    # Number of positive examples in each batch is half of the batch size\n",
        "    # same with number of negative examples in each batch\n",
        "    n_to_take = batch_size // 2\n",
        "\n",
        "    # Use pos_index to walk through the data_pos array\n",
        "    # same with neg_index and data_neg\n",
        "    pos_index = 0\n",
        "    neg_index = 0\n",
        "\n",
        "    len_data_pos = len(data_pos)\n",
        "    len_data_neg = len(data_neg)\n",
        "\n",
        "    # Get and array with the data indexes\n",
        "    pos_index_lines = list(range(len_data_pos))\n",
        "    neg_index_lines = list(range(len_data_neg))\n",
        "\n",
        "    # shuffle lines if shuffle is set to True\n",
        "    if shuffle:\n",
        "        rnd.shuffle(pos_index_lines)\n",
        "        rnd.shuffle(neg_index_lines)\n",
        "\n",
        "    stop = False\n",
        "\n",
        "    # Loop indefinitely\n",
        "    while not stop:\n",
        "\n",
        "        # create a batch with positive and negative examples\n",
        "        batch = []\n",
        "\n",
        "        # First part: Pack n_to_take positive examples\n",
        "\n",
        "        # Start from 0 and increment i up to n_to_take\n",
        "        for i in range(n_to_take):\n",
        "\n",
        "            # If the positive index goes past the positive dataset,\n",
        "            if pos_index >= len_data_pos:\n",
        "\n",
        "                # If loop is set to False, break once we reach the end of the dataset\n",
        "                if not loop:\n",
        "                    stop = True;\n",
        "                    break;\n",
        "                # If user wants to keep re-using the data, reset the index\n",
        "                pos_index = 0\n",
        "                if shuffle:\n",
        "                    # Shuffle the index of the positive sample\n",
        "                    rnd.shuffle(pos_index_lines)\n",
        "\n",
        "            # get the tweet as pos_index\n",
        "            tweet = data_pos[pos_index_lines[pos_index]]\n",
        "\n",
        "            # convert the tweet into tensors of integers representing the processed words\n",
        "            tensor = tweet_to_tensor(tweet, vocab_dict)\n",
        "\n",
        "            # append the tensor to the batch list\n",
        "            batch.append(tensor)\n",
        "\n",
        "            # Increment pos_index by one\n",
        "            pos_index = pos_index + 1\n",
        "\n",
        "\n",
        "\n",
        "        ### START CODE HERE (Replace instances of 'None' with your code) ###\n",
        "\n",
        "        # Second part: Pack n_to_take negative examples\n",
        "\n",
        "        # Using the same batch list, start from 0 and increment i up to n_to_take\n",
        "        for i in range(n_to_take):\n",
        "\n",
        "            # If the negative index goes past the negative dataset,\n",
        "            if neg_index >= len_data_neg:\n",
        "\n",
        "                # If loop is set to False, break once we reach the end of the dataset\n",
        "                if not loop:\n",
        "                    stop = True\n",
        "                    break\n",
        "\n",
        "                # If user wants to keep re-using the data, reset the index\n",
        "                neg_index = 0\n",
        "\n",
        "                if shuffle:\n",
        "                    # Shuffle the index of the negative sample\n",
        "                    rnd.shuffle(neg_index_lines)\n",
        "\n",
        "            # get the tweet as neg_index\n",
        "            tweet = data_neg[neg_index_lines[neg_index]]\n",
        "\n",
        "            # convert the tweet into tensors of integers representing the processed words\n",
        "            tensor = tweet_to_tensor(tweet, vocab_dict)\n",
        "\n",
        "            # append the tensor to the batch list\n",
        "            batch.append(tensor)\n",
        "\n",
        "            # Increment neg_index by one\n",
        "            neg_index = neg_index + 1\n",
        "\n",
        "        ### END CODE HERE ###\n",
        "\n",
        "        if stop:\n",
        "            break;\n",
        "\n",
        "        # Get the max tweet length (the length of the longest tweet)\n",
        "        # (you will pad all shorter tweets to have this length)\n",
        "        max_len = max([len(t) for t in batch])\n",
        "\n",
        "\n",
        "        # Initialize the input_l, which will\n",
        "        # store the padded versions of the tensors\n",
        "        tensor_pad_l = []\n",
        "        # Pad shorter tweets with zeros\n",
        "        for tensor in batch:\n",
        "\n",
        "\n",
        "        ### START CODE HERE (Replace instances of 'None' with your code) ###\n",
        "            # Get the number of positions to pad for this tensor so that it will be max_len long\n",
        "            n_pad = max_len - len(tensor)\n",
        "\n",
        "            # Generate a list of zeros, with length n_pad\n",
        "            pad_l = [0] * n_pad\n",
        "\n",
        "            # concatenate the tensor and the list of padded zeros\n",
        "            tensor_pad = tensor + pad_l\n",
        "\n",
        "            # append the padded tensor to the list of padded tensors\n",
        "            tensor_pad_l.append(tensor_pad)\n",
        "\n",
        "        # convert the list of padded tensors to a numpy array\n",
        "        # and store this as the model inputs\n",
        "        inputs = np.array(tensor_pad_l)\n",
        "\n",
        "        # Generate the list of targets for the positive examples (a list of ones)\n",
        "        # The length is the number of positive examples in the batch\n",
        "        target_pos = [1] * n_to_take\n",
        "\n",
        "        # Generate the list of targets for the negative examples (a list of zeros)\n",
        "        # The length is the number of negative examples in the batch\n",
        "        target_neg = [0] * n_to_take\n",
        "\n",
        "        # Concatenate the positve and negative targets\n",
        "        target_l = target_pos + target_neg\n",
        "\n",
        "        # Convert the target list into a numpy array\n",
        "        targets = np.array(target_l)\n",
        "\n",
        "        # Example weights: Treat all examples equally importantly.\n",
        "        example_weights = np.ones_like(targets)\n",
        "\n",
        "\n",
        "        ### END CODE HERE ###\n",
        "\n",
        "        # note we use yield and not return\n",
        "        yield inputs, targets, example_weights"
      ],
      "id": "fPd9HNT7AVuk"
    },
    {
      "cell_type": "markdown",
      "metadata": {
        "id": "kI9gEdqpjCWd"
      },
      "source": [
        "Now you can use your data generator to create a data generator for the training data, and another data generator for the validation data.\n",
        "\n",
        "We will create a third data generator that does not loop, for testing the final accuracy of the model."
      ],
      "id": "kI9gEdqpjCWd"
    },
    {
      "cell_type": "code",
      "execution_count": 18,
      "metadata": {
        "id": "iIwM4YHtAVum",
        "colab": {
          "base_uri": "https://localhost:8080/"
        },
        "outputId": "a5a1cbd9-2bd1-4697-806a-073497a59a6c"
      },
      "outputs": [
        {
          "output_type": "stream",
          "name": "stdout",
          "text": [
            "Inputs: [[2005 4450 3200    9    0    0    0    0    0    0    0]\n",
            " [4953  566 2000 1453 5173 3498  141 3498  130  458    9]\n",
            " [3760  109  136  582 2929 3968    0    0    0    0    0]\n",
            " [ 249 3760    0    0    0    0    0    0    0    0    0]]\n",
            "Targets: [1 1 0 0]\n",
            "Example Weights: [1 1 1 1]\n"
          ]
        }
      ],
      "source": [
        "# Set the random number generator for the shuffle procedure\n",
        "rnd.seed(30)\n",
        "\n",
        "# Create the training data generator\n",
        "\n",
        "def train_generator(batch_size, train_pos\n",
        "                    , train_neg, vocab_dict, loop=True\n",
        "                    , shuffle = False):\n",
        "    return data_generator(train_pos, train_neg, batch_size, loop, vocab_dict, shuffle)\n",
        "\n",
        "# Create the validation data generator\n",
        "def val_generator(batch_size, val_pos\n",
        "                    , val_neg, vocab_dict, loop=True\n",
        "                    , shuffle = False):\n",
        "    return data_generator(val_pos, val_neg, batch_size, loop, vocab_dict, shuffle)\n",
        "\n",
        "# Create the validation data generator\n",
        "def test_generator(batch_size, val_pos\n",
        "                    , val_neg, vocab_dict, loop=False\n",
        "                    , shuffle = False):\n",
        "    return data_generator(val_pos, val_neg, batch_size, loop, vocab_dict, shuffle)\n",
        "\n",
        "# Get a batch from the train_generator and inspect.\n",
        "inputs, targets, example_weights = next(train_generator(4, train_pos, train_neg, Vocab, shuffle=True))\n",
        "\n",
        "# this will print a list of 4 tensors padded with zeros\n",
        "print(f'Inputs: {inputs}')\n",
        "print(f'Targets: {targets}')\n",
        "print(f'Example Weights: {example_weights}')"
      ],
      "id": "iIwM4YHtAVum"
    },
    {
      "cell_type": "code",
      "execution_count": 19,
      "metadata": {
        "id": "mcDOyrx9jCWh",
        "colab": {
          "base_uri": "https://localhost:8080/"
        },
        "outputId": "719a5836-ebe2-4185-d742-51abd616b57f"
      },
      "outputs": [
        {
          "output_type": "stream",
          "name": "stdout",
          "text": [
            "The inputs shape is (4, 14)\n",
            "input tensor: [3 4 5 6 7 8 9 0 0 0 0 0 0 0]; target 1; example weights 1\n",
            "input tensor: [10 11 12 13 14 15 16 17 18 19 20  9 21 22]; target 1; example weights 1\n",
            "input tensor: [5736 2900 3760    0    0    0    0    0    0    0    0    0    0    0]; target 0; example weights 1\n",
            "input tensor: [ 857  255 3651 5737  306 4457  566 1229 2766  327 1201 3760    0    0]; target 0; example weights 1\n"
          ]
        }
      ],
      "source": [
        "# Test the train_generator\n",
        "\n",
        "# Create a data generator for training data,\n",
        "# which produces batches of size 4 (for tensors and their respective targets)\n",
        "tmp_data_gen = train_generator(batch_size = 4, train_pos=train_pos, train_neg=train_neg, vocab_dict=Vocab)\n",
        "\n",
        "# Call the data generator to get one batch and its targets\n",
        "tmp_inputs, tmp_targets, tmp_example_weights = next(tmp_data_gen)\n",
        "\n",
        "print(f\"The inputs shape is {tmp_inputs.shape}\")\n",
        "for i,t in enumerate(tmp_inputs):\n",
        "    print(f\"input tensor: {t}; target {tmp_targets[i]}; example weights {tmp_example_weights[i]}\")"
      ],
      "id": "mcDOyrx9jCWh"
    },
    {
      "cell_type": "markdown",
      "metadata": {
        "id": "cCTl7w1kjCWj"
      },
      "source": [
        "##### Expected output\n",
        "\n",
        "```CPP\n",
        "The inputs shape is (4, 14)\n",
        "input tensor: [3 4 5 6 7 8 9 0 0 0 0 0 0 0]; target 1; example weights 1\n",
        "input tensor: [10 11 12 13 14 15 16 17 18 19 20  9 21 22]; target 1; example weights 1\n",
        "input tensor: [5736 2900 3760    0    0    0    0    0    0    0    0    0    0    0]; target 0; example weights 1\n",
        "input tensor: [ 857  255 3651 5737  306 4457  566 1229 2766  327 1201 3760    0    0]; target 0; example weights 1\n",
        "```"
      ],
      "id": "cCTl7w1kjCWj"
    },
    {
      "cell_type": "code",
      "execution_count": 20,
      "metadata": {
        "id": "yawuLCIS0_TV",
        "colab": {
          "base_uri": "https://localhost:8080/"
        },
        "outputId": "92fdc71a-c28b-49cf-b117-40ac63301321"
      },
      "outputs": [
        {
          "output_type": "stream",
          "name": "stdout",
          "text": [
            "\u001b[92m All tests passed\n"
          ]
        }
      ],
      "source": [
        "# Test your function\n",
        "w1_unittest.test_data_generator(data_generator(data_pos=train_pos, data_neg=train_neg, batch_size=4, loop=True, vocab_dict=Vocab, shuffle = False))"
      ],
      "id": "yawuLCIS0_TV"
    },
    {
      "cell_type": "markdown",
      "metadata": {
        "id": "J3HrgcJmAVup"
      },
      "source": [
        "Now that you have your train/val generators, you can just call them and they will return tensors which correspond to your tweets in the first column and their corresponding labels in the second column. Now you can go ahead and start building your neural network."
      ],
      "id": "J3HrgcJmAVup"
    },
    {
      "cell_type": "markdown",
      "metadata": {
        "id": "X591GrH_stXq"
      },
      "source": [
        "<a name=\"3\"></a>\n",
        "## 3 - Defining Classes\n",
        "\n",
        "In this part, you will write your own library of layers. It will be very similar\n",
        "to the one used in Trax and also in Keras and PyTorch. Writing your own small\n",
        "framework will help you understand how they all work and use them effectively\n",
        "in the future.\n",
        "\n",
        "Your framework will be based on the following `Layer` class from utils.py.\n",
        "\n",
        "```CPP\n",
        "class Layer(object):\n",
        "    \"\"\" Base class for layers.\n",
        "    \"\"\"\n",
        "      \n",
        "    # Constructor\n",
        "    def __init__(self):\n",
        "        # set weights to None\n",
        "        self.weights = None\n",
        "\n",
        "    # The forward propagation should be implemented\n",
        "    # by subclasses of this Layer class\n",
        "    def forward(self, x):\n",
        "        raise NotImplementedError\n",
        "\n",
        "    # This function initializes the weights\n",
        "    # based on the input signature and random key,\n",
        "    # should be implemented by subclasses of this Layer class\n",
        "    def init_weights_and_state(self, input_signature, random_key):\n",
        "        pass\n",
        "\n",
        "    # This initializes and returns the weights, do not override.\n",
        "    def init(self, input_signature, random_key):\n",
        "        self.init_weights_and_state(input_signature, random_key)\n",
        "        return self.weights\n",
        "\n",
        "    # __call__ allows an object of this class\n",
        "    # to be called like it's a function.\n",
        "    def __call__(self, x):\n",
        "        # When this layer object is called,\n",
        "        # it calls its forward propagation function\n",
        "        return self.forward(x)\n",
        "```"
      ],
      "id": "X591GrH_stXq"
    },
    {
      "cell_type": "markdown",
      "metadata": {
        "id": "TcWUXFaPzS-m"
      },
      "source": [
        "<a name=\"3-1\"></a>\n",
        "### 3.1 - ReLU Class\n",
        "You will now implement the ReLU activation function in a class below. The ReLU function looks as follows:\n",
        "<img src = \"images/relu.jpg\" style=\"width:300px;height:150px;\"/>\n",
        "\n",
        "$$ \\mathrm{ReLU}(x) = \\mathrm{max}(0,x) $$\n"
      ],
      "id": "TcWUXFaPzS-m"
    },
    {
      "cell_type": "markdown",
      "metadata": {
        "id": "KVVRVuhjjCWl"
      },
      "source": [
        "<a name=\"ex-3\"></a>\n",
        "### Exercise 3 - Relu\n",
        "**Instructions:** Implement the ReLU activation function below. Your function should take in a matrix or vector and it should transform all the negative numbers into 0 while keeping all the positive numbers intact."
      ],
      "id": "KVVRVuhjjCWl"
    },
    {
      "cell_type": "markdown",
      "metadata": {
        "id": "dPH_EVcHjCWl"
      },
      "source": [
        "<details>    \n",
        "<summary>\n",
        "    <font size=\"3\" color=\"darkgreen\"><b>Hints</b></font>\n",
        "</summary>\n",
        "<p>\n",
        "<ul>\n",
        "    <li>Please use numpy.maximum(A,k) to find the maximum between each element in A and a scalar k</li>\n",
        "</ul>\n",
        "</p>\n"
      ],
      "id": "dPH_EVcHjCWl"
    },
    {
      "cell_type": "code",
      "execution_count": 21,
      "metadata": {
        "id": "VGE5zZ5mzF9x"
      },
      "outputs": [],
      "source": [
        "# UNQ_C3 (UNIQUE CELL IDENTIFIER, DO NOT EDIT)\n",
        "# GRADED FUNCTION: Relu\n",
        "class Relu(Layer):\n",
        "    \"\"\"Relu activation function implementation\"\"\"\n",
        "    def forward(self, x):\n",
        "        '''\n",
        "        Input:\n",
        "            - x (a numpy array): the input\n",
        "        Output:\n",
        "            - activation (numpy array): all positive or 0 version of x\n",
        "        '''\n",
        "        ### START CODE HERE (Replace instances of 'None' with your code) ###\n",
        "\n",
        "        activation = np.maximum(x,0)\n",
        "\n",
        "        ### END CODE HERE ###\n",
        "\n",
        "        return activation"
      ],
      "id": "VGE5zZ5mzF9x"
    },
    {
      "cell_type": "code",
      "execution_count": 22,
      "metadata": {
        "id": "hVQ3YtoZ1uYP",
        "colab": {
          "base_uri": "https://localhost:8080/"
        },
        "outputId": "f1135ab7-a92e-4af8-a87f-003d4dd6a5f2"
      },
      "outputs": [
        {
          "output_type": "stream",
          "name": "stdout",
          "text": [
            "Test data is:\n",
            "[[-2. -1.  0.]\n",
            " [ 0.  1.  2.]]\n",
            "Output of Relu is:\n",
            "[[0. 0. 0.]\n",
            " [0. 1. 2.]]\n"
          ]
        }
      ],
      "source": [
        "# Test your relu function\n",
        "x = np.array([[-2.0, -1.0, 0.0], [0.0, 1.0, 2.0]], dtype=float)\n",
        "relu_layer = Relu()\n",
        "print(\"Test data is:\")\n",
        "print(x)\n",
        "print(\"Output of Relu is:\")\n",
        "print(relu_layer(x))"
      ],
      "id": "hVQ3YtoZ1uYP"
    },
    {
      "cell_type": "markdown",
      "metadata": {
        "id": "niL6mIuBAVuu"
      },
      "source": [
        "##### Expected Outout\n",
        "```CPP\n",
        "Test data is:\n",
        "[[-2. -1.  0.]\n",
        " [ 0.  1.  2.]]\n",
        "Output of Relu is:\n",
        "[[0. 0. 0.]\n",
        " [0. 1. 2.]]\n",
        "```"
      ],
      "id": "niL6mIuBAVuu"
    },
    {
      "cell_type": "code",
      "execution_count": 23,
      "metadata": {
        "id": "_z-8D3Ba0_Tc",
        "colab": {
          "base_uri": "https://localhost:8080/"
        },
        "outputId": "2215b1a5-efdf-4510-8ded-0a0a4b147863"
      },
      "outputs": [
        {
          "output_type": "stream",
          "name": "stdout",
          "text": [
            "\u001b[92m All tests passed\n"
          ]
        }
      ],
      "source": [
        "w1_unittest.test_Relu(Relu)"
      ],
      "id": "_z-8D3Ba0_Tc"
    },
    {
      "cell_type": "markdown",
      "metadata": {
        "id": "XepjDxCQ1G8p"
      },
      "source": [
        "<a name=\"3.2\"></a>\n",
        "### 3.2 - Dense Class\n",
        "\n",
        "Implement the forward function of the Dense class.\n",
        "- The forward function multiplies the input to the layer (`x`) by the weight matrix (`W`)\n",
        "\n",
        "$$\\mathrm{forward}(\\mathbf{x},\\mathbf{W}) = \\mathbf{xW} $$\n",
        "\n",
        "- You can use `numpy.dot` to perform the matrix multiplication.\n",
        "\n",
        "Note that for more efficient code execution, you will use the trax version of `math`, which includes a trax version of `numpy` and also `random`.\n",
        "\n",
        "Implement the weight initializer `new_weights` function\n",
        "- Weights are initialized with a random key.\n",
        "- The second parameter is a tuple for the desired shape of the weights (num_rows, num_cols)\n",
        "- The num of rows for weights should equal the number of columns in x, because for forward propagation, you will multiply x times weights.\n",
        "\n",
        "Please use `trax.fastmath.random.normal(key, shape, dtype=tf.float32)` to generate random values for the weight matrix. The key difference between this function\n",
        "and the standard `numpy` randomness is the explicit use of random keys, which\n",
        "need to be passed. While it can look tedious at the first sight to pass the random key everywhere, you will learn in Course 4 why this is very helpful when\n",
        "implementing some advanced models.\n",
        "- `key` can be generated by calling `random.get_prng(seed=)` and passing in a number for the `seed`.\n",
        "- `shape` is a tuple with the desired shape of the weight matrix.\n",
        "    - The number of rows in the weight matrix should equal the number of columns in the variable `x`.  Since `x` may have 2 dimensions if it represents a single training example (row, col), or three dimensions (batch_size, row, col), get the last dimension from the tuple that holds the dimensions of x.\n",
        "    - The number of columns in the weight matrix is the number of units chosen for that dense layer.  Look at the `__init__` function to see which variable stores the number of units.\n",
        "- `dtype` is the data type of the values in the generated matrix; keep the default of `tf.float32`. In this case, don't explicitly set the dtype (just let it use the default value).\n",
        "\n",
        "Set the standard deviation of the random values to 0.1\n",
        "- The values generated have a mean of 0 and standard deviation of 1.\n",
        "- Set the default standard deviation `stdev` to be 0.1 by multiplying the standard deviation to each of the values in the weight matrix."
      ],
      "id": "XepjDxCQ1G8p"
    },
    {
      "cell_type": "code",
      "execution_count": 24,
      "metadata": {
        "id": "6reTe6asjCWt",
        "colab": {
          "base_uri": "https://localhost:8080/",
          "height": 138
        },
        "outputId": "fa03b93a-54bd-4e0b-9a86-d16a413c29d8"
      },
      "outputs": [
        {
          "output_type": "stream",
          "name": "stdout",
          "text": [
            "The random seed generated by random.get_prng\n"
          ]
        },
        {
          "output_type": "display_data",
          "data": {
            "text/plain": [
              "Array([0, 1], dtype=uint32)"
            ]
          },
          "metadata": {}
        },
        {
          "output_type": "stream",
          "name": "stdout",
          "text": [
            "choose a matrix with 2 rows and 3 columns\n"
          ]
        },
        {
          "output_type": "display_data",
          "data": {
            "text/plain": [
              "(2, 3)"
            ]
          },
          "metadata": {}
        },
        {
          "output_type": "stream",
          "name": "stdout",
          "text": [
            "Weight matrix generated with a normal distribution with mean 0 and stdev of 1\n"
          ]
        },
        {
          "output_type": "display_data",
          "data": {
            "text/plain": [
              "Array([[ 0.95730704, -0.9699289 ,  1.0070665 ],\n",
              "       [ 0.3661903 ,  0.1729483 ,  0.29092234]], dtype=float32)"
            ]
          },
          "metadata": {}
        }
      ],
      "source": [
        "# See how the trax.fastmath.random.normal function works\n",
        "tmp_key = trax.fastmath.random.get_prng(seed=1)\n",
        "print(\"The random seed generated by random.get_prng\")\n",
        "display(tmp_key)\n",
        "\n",
        "print(\"choose a matrix with 2 rows and 3 columns\")\n",
        "tmp_shape=(2,3)\n",
        "display(tmp_shape)\n",
        "\n",
        "# Generate a weight matrix\n",
        "# Note that you'll get an error if you try to set dtype to tf.float32, where tf is tensorflow\n",
        "# Just avoid setting the dtype and allow it to use the default data type\n",
        "tmp_weight = trax.fastmath.random.normal(key=tmp_key, shape=tmp_shape)\n",
        "\n",
        "print(\"Weight matrix generated with a normal distribution with mean 0 and stdev of 1\")\n",
        "display(tmp_weight)"
      ],
      "id": "6reTe6asjCWt"
    },
    {
      "cell_type": "markdown",
      "metadata": {
        "id": "IpiJ87L9jCWw"
      },
      "source": [
        "<a name=\"ex-4\"></a>\n",
        "### Exercise 4 - Dense\n",
        "\n",
        "Implement the `Dense` class."
      ],
      "id": "IpiJ87L9jCWw"
    },
    {
      "cell_type": "code",
      "execution_count": 25,
      "metadata": {
        "id": "783FfWt70660"
      },
      "outputs": [],
      "source": [
        "# UNQ_C4 (UNIQUE CELL IDENTIFIER, DO NOT EDIT)\n",
        "# GRADED FUNCTION: Dense\n",
        "class Dense(Layer):\n",
        "    \"\"\"\n",
        "    A dense (fully-connected) layer.\n",
        "    \"\"\"\n",
        "\n",
        "    # __init__ is implemented for you\n",
        "    def __init__(self, n_units, init_stdev=0.1):\n",
        "\n",
        "        # Set the number of units in this layer\n",
        "        self._n_units = n_units\n",
        "        self._init_stdev = init_stdev\n",
        "\n",
        "    # Please implement 'forward()'\n",
        "    def forward(self, x):\n",
        "\n",
        "        ### START CODE HERE (Replace instances of 'None' with your code) ###\n",
        "\n",
        "        # Matrix multiply x and the weight matrix\n",
        "        dense = np.dot(x, self.weights)\n",
        "\n",
        "        ### END CODE HERE ###\n",
        "        return dense\n",
        "\n",
        "    # init_weights\n",
        "    def init_weights_and_state(self, input_signature, random_key):\n",
        "\n",
        "        ### START CODE HERE (Replace instances of 'None' with your code) ###\n",
        "        # The input_signature has a .shape attribute that gives the shape as a tuple\n",
        "        input_shape = input_signature.shape\n",
        "\n",
        "        # Generate the weight matrix from a normal distribution,\n",
        "        # and standard deviation of 'stdev'\n",
        "        w = self._init_stdev * trax.fastmath.random.normal(key = random_key, shape = (input_shape[-1], self._n_units))\n",
        "\n",
        "        ### END CODE HERE ###\n",
        "        self.weights = w\n",
        "        return self.weights"
      ],
      "id": "783FfWt70660"
    },
    {
      "cell_type": "code",
      "execution_count": 26,
      "metadata": {
        "id": "vw-z6n8SAVuy",
        "colab": {
          "base_uri": "https://localhost:8080/"
        },
        "outputId": "448170cf-d327-44e5-c330-981b976a7c8f"
      },
      "outputs": [
        {
          "output_type": "stream",
          "name": "stdout",
          "text": [
            "Weights are\n",
            "  [[-0.02837107  0.09368163 -0.10050073  0.14165013  0.10543301  0.09108127\n",
            "  -0.04265671  0.0986188  -0.05575324  0.0015325 ]\n",
            " [-0.2078568   0.05548371  0.09142365  0.05744596  0.07227863  0.01210618\n",
            "  -0.03237354  0.16234998  0.02450039 -0.13809781]\n",
            " [-0.06111237  0.01403725  0.08410043 -0.10943579 -0.1077502  -0.11396457\n",
            "  -0.0593338  -0.01557651 -0.03832145 -0.11144515]]\n",
            "Foward function output is  [[-3.0395489   0.9266805   2.5414748  -2.0504727  -1.9769386  -2.5822086\n",
            "  -1.7952733   0.94427466 -0.89803994 -3.7497485 ]]\n"
          ]
        }
      ],
      "source": [
        "# Testing your Dense layer\n",
        "dense_layer = Dense(n_units=10)  #sets  number of units in dense layer\n",
        "random_key = trax.fastmath.random.get_prng(seed=0)  # sets random seed\n",
        "z = np.array([[2.0, 7.0, 25.0]]) # input array\n",
        "\n",
        "dense_layer.init(z, random_key)\n",
        "print(\"Weights are\\n \",dense_layer.weights) #Returns randomly generated weights\n",
        "print(\"Foward function output is \", dense_layer(z)) # Returns multiplied values of units and weights"
      ],
      "id": "vw-z6n8SAVuy"
    },
    {
      "cell_type": "markdown",
      "metadata": {
        "id": "7HQQAC6Y0_Td"
      },
      "source": [
        "##### Expected Outout\n",
        "```CPP\n",
        "Weights are\n",
        "  [[-0.02837108  0.09368162 -0.10050076  0.14165013  0.10543301  0.09108126\n",
        "  -0.04265672  0.0986188  -0.05575325  0.00153249]\n",
        " [-0.20785688  0.0554837   0.09142365  0.05744595  0.07227863  0.01210617\n",
        "  -0.03237354  0.16234995  0.02450038 -0.13809784]\n",
        " [-0.06111237  0.01403724  0.08410042 -0.1094358  -0.10775021 -0.11396459\n",
        "  -0.05933381 -0.01557652 -0.03832145 -0.11144515]]\n",
        "Foward function output is  [[-3.0395496   0.9266802   2.5414743  -2.050473   -1.9769388  -2.582209\n",
        "  -1.7952735   0.94427425 -0.8980402  -3.7497487 ]]\n",
        "```"
      ],
      "id": "7HQQAC6Y0_Td"
    },
    {
      "cell_type": "code",
      "execution_count": 27,
      "metadata": {
        "id": "sOtUHv8a0_Td",
        "colab": {
          "base_uri": "https://localhost:8080/"
        },
        "outputId": "447306a6-4002-4b50-937d-9b7e4fed4f04"
      },
      "outputs": [
        {
          "output_type": "stream",
          "name": "stdout",
          "text": [
            "Weights are\n",
            "  [[ 0.10545162 -0.09692886 -0.05946021 -0.00318857  0.24109332]\n",
            " [-0.18784492 -0.07847696 -0.03137084  0.03337089  0.17677036]\n",
            " [-0.10277646  0.14111719 -0.05084971 -0.05263775  0.05031504]\n",
            " [ 0.10549793 -0.00874073  0.07958167  0.26565617 -0.05822906]]\n",
            "Forward function output is  [[-1.4564111  -0.7315444   0.14366013  1.6651783   1.2354649 ]]\n"
          ]
        }
      ],
      "source": [
        "# Testing your Dense layer\n",
        "dense_layer = Dense(n_units=5)  #sets  number of units in dense layer\n",
        "random_key = trax.fastmath.random.get_prng(seed=0)  # sets random seed\n",
        "z = np.array([[-1.0, 10.0, 0.0, 5.0]]) # input array\n",
        "\n",
        "dense_layer.init(z, random_key)\n",
        "print(\"Weights are\\n \",dense_layer.weights) #Returns randomly generated weights\n",
        "print(\"Forward function output is \", dense_layer(z)) # Returns multiplied values of units and weights"
      ],
      "id": "sOtUHv8a0_Td"
    },
    {
      "cell_type": "code",
      "execution_count": 28,
      "metadata": {
        "id": "9jVJyBSN0_Td",
        "colab": {
          "base_uri": "https://localhost:8080/"
        },
        "outputId": "d7a669b9-ba94-4401-d915-d39ad4a1780a"
      },
      "outputs": [
        {
          "output_type": "stream",
          "name": "stdout",
          "text": [
            "\u001b[92m All tests passed\n"
          ]
        }
      ],
      "source": [
        "w1_unittest.test_Dense(Dense)"
      ],
      "id": "9jVJyBSN0_Td"
    },
    {
      "cell_type": "markdown",
      "metadata": {
        "id": "eZEY8vBCgrgy"
      },
      "source": [
        "<a name=\"3-3\"></a>\n",
        "### 3.3 - Model\n",
        "\n",
        "Now you will implement a classifier using neural networks. Here is the model architecture you will be implementing.\n",
        "\n",
        "<img src = \"images/nn.jpg\" style=\"width:400px;height:250px;\"/>\n",
        "\n",
        "For the model implementation, you will use the Trax `layers` module, imported as `tl`.\n",
        "Note that the second character of `tl` is the lowercase of letter `L`, not the number 1. Trax layers are very similar to the ones you implemented above,\n",
        "but in addition to trainable weights also have a non-trainable state.\n",
        "State is used in layers like batch normalization and for inference, you will learn more about it in course 4.\n",
        "\n",
        "First, look at the code of the Trax Dense layer and compare to your implementation above.\n",
        "- [tl.Dense](https://github.com/google/trax/blob/master/trax/layers/core.py#L29): Trax Dense layer implementation\n",
        "\n",
        "One other important layer that you will use a lot is one that allows to execute one layer after another in sequence.\n",
        "- [tl.Serial](https://github.com/google/trax/blob/master/trax/layers/combinators.py#L26): Combinator that applies layers serially.  \n",
        "    - You can pass in the layers as arguments to `Serial`, separated by commas.\n",
        "    - For example: `tl.Serial(tl.Embeddings(...), tl.Mean(...), tl.Dense(...), tl.LogSoftmax(...))`\n",
        "\n",
        "Please use the `help` function to view documentation for each layer."
      ],
      "id": "eZEY8vBCgrgy"
    },
    {
      "cell_type": "code",
      "execution_count": 29,
      "metadata": {
        "id": "RpbiDzN9jCW2",
        "colab": {
          "base_uri": "https://localhost:8080/"
        },
        "outputId": "05f78e37-d604-49c0-df95-d8e56a26651c"
      },
      "outputs": [
        {
          "output_type": "stream",
          "name": "stdout",
          "text": [
            "Help on class Dense in module trax.layers.core:\n",
            "\n",
            "class Dense(trax.layers.base.Layer)\n",
            " |  Dense(n_units, kernel_initializer=<function ScaledInitializer.<locals>.Init at 0x7fafd488caf0>, bias_initializer=<function RandomNormalInitializer.<locals>.<lambda> at 0x7fafd488cb80>, use_bias=True, use_bfloat16=False)\n",
            " |  \n",
            " |  A dense (a.k.a. fully-connected, affine) layer.\n",
            " |  \n",
            " |  Dense layers are the prototypical example of a trainable layer, i.e., a layer\n",
            " |  with trainable weights. Each node in a dense layer computes a weighted sum of\n",
            " |  all node values from the preceding layer and adds to that sum a node-specific\n",
            " |  bias term. The full layer computation is expressed compactly in linear\n",
            " |  algebra as an affine map `y = Wx + b`, where `W` is a matrix and `y`, `x`,\n",
            " |  and `b` are vectors. The layer is trained, or \"learns\", by updating the\n",
            " |  values in `W` and `b`.\n",
            " |  \n",
            " |  Less commonly, a dense layer can omit the bias term and be a pure linear map:\n",
            " |  `y = Wx`.\n",
            " |  \n",
            " |  Method resolution order:\n",
            " |      Dense\n",
            " |      trax.layers.base.Layer\n",
            " |      builtins.object\n",
            " |  \n",
            " |  Methods defined here:\n",
            " |  \n",
            " |  __init__(self, n_units, kernel_initializer=<function ScaledInitializer.<locals>.Init at 0x7fafd488caf0>, bias_initializer=<function RandomNormalInitializer.<locals>.<lambda> at 0x7fafd488cb80>, use_bias=True, use_bfloat16=False)\n",
            " |      Returns a dense (fully connected) layer of width `n_units`.\n",
            " |      \n",
            " |      A dense layer maps collections of `R^m` vectors to `R^n`, where `n`\n",
            " |      (`= n_units`) is fixed at layer creation time, and `m` is set at layer\n",
            " |      initialization time.\n",
            " |      \n",
            " |      Args:\n",
            " |        n_units: Number of nodes in the layer, also known as the width of the\n",
            " |            layer.\n",
            " |        kernel_initializer: Function that creates a matrix of (random) initial\n",
            " |            connection weights `W` for the layer.\n",
            " |        bias_initializer: Function that creates a vector of (random) initial\n",
            " |            bias weights `b` for the layer.\n",
            " |        use_bias: If `True`, compute an affine map `y = Wx + b`; else compute\n",
            " |            a linear map `y = Wx`.\n",
            " |        use_bfloat16: If `True`, use bfloat16 weights instead of the default\n",
            " |          float32; this can save memory but may (rarely) lead to numerical issues.\n",
            " |  \n",
            " |  forward(self, x)\n",
            " |      Executes this layer as part of a forward pass through the model.\n",
            " |      \n",
            " |      Args:\n",
            " |        x: Tensor of same shape and dtype as the input signature used to\n",
            " |            initialize this layer.\n",
            " |      \n",
            " |      Returns:\n",
            " |        Tensor of same shape and dtype as the input, except the final dimension\n",
            " |        is the layer's `n_units` value.\n",
            " |  \n",
            " |  init_weights_and_state(self, input_signature)\n",
            " |      Randomly initializes this layer's weights.\n",
            " |      \n",
            " |      Weights are a `(w, b)` tuple for layers created with `use_bias=True` (the\n",
            " |      default case), or a `w` tensor for layers created with `use_bias=False`.\n",
            " |      \n",
            " |      Args:\n",
            " |        input_signature: `ShapeDtype` instance characterizing the input this layer\n",
            " |            should compute on.\n",
            " |  \n",
            " |  ----------------------------------------------------------------------\n",
            " |  Methods inherited from trax.layers.base.Layer:\n",
            " |  \n",
            " |  __call__(self, x, weights=None, state=None, rng=None)\n",
            " |      Makes layers callable; for use in tests or interactive settings.\n",
            " |      \n",
            " |      This convenience method helps library users play with, test, or otherwise\n",
            " |      probe the behavior of layers outside of a full training environment. It\n",
            " |      presents the layer as callable function from inputs to outputs, with the\n",
            " |      option of manually specifying weights and non-parameter state per individual\n",
            " |      call. For convenience, weights and non-parameter state are cached per layer\n",
            " |      instance, starting from default values of `EMPTY_WEIGHTS` and `EMPTY_STATE`,\n",
            " |      and acquiring non-empty values either by initialization or from values\n",
            " |      explicitly provided via the weights and state keyword arguments, in which\n",
            " |      case the old weights will be preserved, and the state will be updated.\n",
            " |      \n",
            " |      Args:\n",
            " |        x: Zero or more input tensors, packaged as described in the `Layer` class\n",
            " |            docstring.\n",
            " |        weights: Weights or `None`; if `None`, use self's cached weights value.\n",
            " |        state: State or `None`; if `None`, use self's cached state value.\n",
            " |        rng: Single-use random number generator (JAX PRNG key), or `None`;\n",
            " |            if `None`, use a default computed from an integer 0 seed.\n",
            " |      \n",
            " |      Returns:\n",
            " |        Zero or more output tensors, packaged as described in the `Layer` class\n",
            " |        docstring.\n",
            " |  \n",
            " |  __repr__(self)\n",
            " |      Renders this layer as a medium-detailed string, to help in debugging.\n",
            " |      \n",
            " |      Subclasses should aim for high-signal/low-noise when overriding this\n",
            " |      method.\n",
            " |      \n",
            " |      Returns:\n",
            " |        A high signal-to-noise string representing this layer.\n",
            " |  \n",
            " |  __setattr__(self, attr, value)\n",
            " |      Sets class attributes and protects from typos.\n",
            " |      \n",
            " |      In Trax layers, we only allow to set the following public attributes::\n",
            " |      \n",
            " |        - weights\n",
            " |        - state\n",
            " |        - rng\n",
            " |      \n",
            " |      This function prevents from setting other public attributes to avoid typos,\n",
            " |      for example, this is not possible and would be without this function::\n",
            " |      \n",
            " |        [typo]   layer.weighs = some_tensor\n",
            " |      \n",
            " |      If you need to set other public attributes in a derived class (which we\n",
            " |      do not recommend as in almost all cases it suffices to use a private\n",
            " |      attribute), override self._settable_attrs to include the attribute name.\n",
            " |      \n",
            " |      Args:\n",
            " |        attr: Name of the attribute to be set.\n",
            " |        value: Value to be assigned to the attribute.\n",
            " |  \n",
            " |  backward(self, inputs, output, grad, weights, state, new_state, rng)\n",
            " |      Custom backward pass to propagate gradients in a custom way.\n",
            " |      \n",
            " |      Args:\n",
            " |        inputs: Input tensors; can be a (possibly nested) tuple.\n",
            " |        output: The result of running this layer on inputs.\n",
            " |        grad: Gradient signal computed based on subsequent layers; its structure\n",
            " |            and shape must match output.\n",
            " |        weights: This layer's weights.\n",
            " |        state: This layer's state prior to the current forward pass.\n",
            " |        new_state: This layer's state after the current forward pass.\n",
            " |        rng: Single-use random number generator (JAX PRNG key).\n",
            " |      \n",
            " |      Returns:\n",
            " |        The custom gradient signal for the input. Note that we need to return\n",
            " |        a gradient for each argument of forward, so it will usually be a tuple\n",
            " |        of signals: the gradient for inputs and weights.\n",
            " |  \n",
            " |  init(self, input_signature, rng=None, use_cache=False)\n",
            " |      Initializes weights/state of this layer and its sublayers recursively.\n",
            " |      \n",
            " |      Initialization creates layer weights and state, for layers that use them.\n",
            " |      It derives the necessary array shapes and data types from the layer's input\n",
            " |      signature, which is itself just shape and data type information.\n",
            " |      \n",
            " |      For layers without weights or state, this method safely does nothing.\n",
            " |      \n",
            " |      This method is designed to create weights/state only once for each layer\n",
            " |      instance, even if the same layer instance occurs in multiple places in the\n",
            " |      network. This enables weight sharing to be implemented as layer sharing.\n",
            " |      \n",
            " |      Args:\n",
            " |        input_signature: `ShapeDtype` instance (if this layer takes one input)\n",
            " |            or list/tuple of `ShapeDtype` instances.\n",
            " |        rng: Single-use random number generator (JAX PRNG key), or `None`;\n",
            " |            if `None`, use a default computed from an integer 0 seed.\n",
            " |        use_cache: If `True`, and if this layer instance has already been\n",
            " |            initialized elsewhere in the network, then return special marker\n",
            " |            values -- tuple `(GET_WEIGHTS_FROM_CACHE, GET_STATE_FROM_CACHE)`.\n",
            " |            Else return this layer's newly initialized weights and state.\n",
            " |      \n",
            " |      Returns:\n",
            " |        A `(weights, state)` tuple.\n",
            " |  \n",
            " |  init_from_file(self, file_name, weights_only=False, input_signature=None)\n",
            " |      Initializes this layer and its sublayers from a pickled checkpoint.\n",
            " |      \n",
            " |      In the common case (`weights_only=False`), the file must be a gziped pickled\n",
            " |      dictionary containing items with keys `'flat_weights', `'flat_state'` and\n",
            " |      `'input_signature'`, which are used to initialize this layer.\n",
            " |      If `input_signature` is specified, it's used instead of the one in the file.\n",
            " |      If `weights_only` is `True`, the dictionary does not need to have the\n",
            " |      `'flat_state'` item and the state it not restored either.\n",
            " |      \n",
            " |      Args:\n",
            " |        file_name: Name/path of the pickled weights/state file.\n",
            " |        weights_only: If `True`, initialize only the layer's weights. Else\n",
            " |            initialize both weights and state.\n",
            " |        input_signature: Input signature to be used instead of the one from file.\n",
            " |      \n",
            " |      Returns:\n",
            " |        A `(weights, state)` tuple.\n",
            " |  \n",
            " |  output_signature(self, input_signature)\n",
            " |      Returns output signature this layer would give for `input_signature`.\n",
            " |  \n",
            " |  pure_fn(self, x, weights, state, rng, use_cache=False)\n",
            " |      Applies this layer as a pure function with no optional args.\n",
            " |      \n",
            " |      This method exposes the layer's computation as a pure function. This is\n",
            " |      especially useful for JIT compilation. Do not override, use `forward`\n",
            " |      instead.\n",
            " |      \n",
            " |      Args:\n",
            " |        x: Zero or more input tensors, packaged as described in the `Layer` class\n",
            " |            docstring.\n",
            " |        weights: A tuple or list of trainable weights, with one element for this\n",
            " |            layer if this layer has no sublayers, or one for each sublayer if\n",
            " |            this layer has sublayers. If a layer (or sublayer) has no trainable\n",
            " |            weights, the corresponding weights element is an empty tuple.\n",
            " |        state: Layer-specific non-parameter state that can update between batches.\n",
            " |        rng: Single-use random number generator (JAX PRNG key).\n",
            " |        use_cache: if `True`, cache weights and state in the layer object; used\n",
            " |          to implement layer sharing in combinators.\n",
            " |      \n",
            " |      Returns:\n",
            " |        A tuple of `(tensors, state)`. The tensors match the number (`n_out`)\n",
            " |        promised by this layer, and are packaged as described in the `Layer`\n",
            " |        class docstring.\n",
            " |  \n",
            " |  save_to_file(self, file_name, weights_only=False, input_signature=None)\n",
            " |      Saves this layer and its sublayers to a pickled checkpoint.\n",
            " |      \n",
            " |      Args:\n",
            " |        file_name: Name/path of the pickled weights/state file.\n",
            " |        weights_only: If `True`, save only the layer's weights. Else\n",
            " |            save both weights and state.\n",
            " |        input_signature: Input signature to be used.\n",
            " |  \n",
            " |  weights_and_state_signature(self, input_signature, unsafe=False)\n",
            " |      Return a pair containing the signatures of weights and state.\n",
            " |  \n",
            " |  ----------------------------------------------------------------------\n",
            " |  Readonly properties inherited from trax.layers.base.Layer:\n",
            " |  \n",
            " |  has_backward\n",
            " |      Returns `True` if this layer provides its own custom backward pass code.\n",
            " |      \n",
            " |      A layer subclass that provides custom backward pass code (for custom\n",
            " |      gradients) must override this method to return `True`.\n",
            " |  \n",
            " |  n_in\n",
            " |      Returns how many tensors this layer expects as input.\n",
            " |  \n",
            " |  n_out\n",
            " |      Returns how many tensors this layer promises as output.\n",
            " |  \n",
            " |  name\n",
            " |      Returns the name of this layer.\n",
            " |  \n",
            " |  sublayers\n",
            " |      Returns a tuple containing this layer's sublayers; may be empty.\n",
            " |  \n",
            " |  ----------------------------------------------------------------------\n",
            " |  Data descriptors inherited from trax.layers.base.Layer:\n",
            " |  \n",
            " |  __dict__\n",
            " |      dictionary for instance variables (if defined)\n",
            " |  \n",
            " |  __weakref__\n",
            " |      list of weak references to the object (if defined)\n",
            " |  \n",
            " |  rng\n",
            " |      Returns this layer's current single-use random number generator.\n",
            " |      \n",
            " |      Code that wants to base random samples on this generator must explicitly\n",
            " |      split off new generators from it. (See, for example, the `rng` setter code\n",
            " |      below.)\n",
            " |  \n",
            " |  state\n",
            " |      Returns a tuple containing this layer's state; may be empty.\n",
            " |      \n",
            " |      If the layer has sublayers, the state by convention will be\n",
            " |      a tuple of length `len(sublayers)` containing sublayer states.\n",
            " |      Note that in this case self._state only marks which ones are shared.\n",
            " |  \n",
            " |  weights\n",
            " |      Returns this layer's weights.\n",
            " |      \n",
            " |      Depending on the layer, the weights can be in the form of:\n",
            " |      \n",
            " |        - an empty tuple\n",
            " |        - a tensor (ndarray)\n",
            " |        - a nested structure of tuples and tensors\n",
            " |      \n",
            " |      If the layer has sublayers, the weights by convention will be\n",
            " |      a tuple of length `len(sublayers)` containing the weights of sublayers.\n",
            " |      Note that in this case self._weights only marks which ones are shared.\n",
            "\n"
          ]
        }
      ],
      "source": [
        "# View documentation on tl.Dense\n",
        "help(tl.Dense)"
      ],
      "id": "RpbiDzN9jCW2"
    },
    {
      "cell_type": "code",
      "execution_count": 30,
      "metadata": {
        "id": "Hrblw_uJ4zmF",
        "colab": {
          "base_uri": "https://localhost:8080/"
        },
        "outputId": "d099adb1-8d2a-42f3-ede7-7afb41ad8b02"
      },
      "outputs": [
        {
          "output_type": "stream",
          "name": "stdout",
          "text": [
            "Help on class Serial in module trax.layers.combinators:\n",
            "\n",
            "class Serial(trax.layers.base.Layer)\n",
            " |  Serial(*sublayers, name=None, sublayers_to_print=None)\n",
            " |  \n",
            " |  Combinator that applies layers serially (by function composition).\n",
            " |  \n",
            " |  This combinator is commonly used to construct deep networks, e.g., like this::\n",
            " |  \n",
            " |      mlp = tl.Serial(\n",
            " |        tl.Dense(128),\n",
            " |        tl.Relu(),\n",
            " |        tl.Dense(10),\n",
            " |      )\n",
            " |  \n",
            " |  A Serial combinator uses stack semantics to manage data for its sublayers.\n",
            " |  Each sublayer sees only the inputs it needs and returns only the outputs it\n",
            " |  has generated. The sublayers interact via the data stack. For instance, a\n",
            " |  sublayer k, following sublayer j, gets called with the data stack in the\n",
            " |  state left after layer j has applied. The Serial combinator then:\n",
            " |  \n",
            " |    - takes n_in items off the top of the stack (n_in = k.n_in) and calls\n",
            " |      layer k, passing those items as arguments; and\n",
            " |  \n",
            " |    - takes layer k's n_out return values (n_out = k.n_out) and pushes\n",
            " |      them onto the data stack.\n",
            " |  \n",
            " |  A Serial instance with no sublayers acts as a special-case (but useful)\n",
            " |  1-input 1-output no-op.\n",
            " |  \n",
            " |  Method resolution order:\n",
            " |      Serial\n",
            " |      trax.layers.base.Layer\n",
            " |      builtins.object\n",
            " |  \n",
            " |  Methods defined here:\n",
            " |  \n",
            " |  __init__(self, *sublayers, name=None, sublayers_to_print=None)\n",
            " |      Creates a partially initialized, unconnected layer instance.\n",
            " |      \n",
            " |      Args:\n",
            " |        n_in: Number of inputs expected by this layer.\n",
            " |        n_out: Number of outputs promised by this layer.\n",
            " |        name: Class-like name for this layer; for use when printing this layer.\n",
            " |        sublayers_to_print: Sublayers to display when printing out this layer;\n",
            " |          if None (the default), display all sublayers.\n",
            " |  \n",
            " |  forward(self, xs)\n",
            " |      Executes this layer as part of a forward pass through the model.\n",
            " |  \n",
            " |  init_weights_and_state(self, input_signature)\n",
            " |      Initializes weights and state for inputs with the given signature.\n",
            " |  \n",
            " |  ----------------------------------------------------------------------\n",
            " |  Methods inherited from trax.layers.base.Layer:\n",
            " |  \n",
            " |  __call__(self, x, weights=None, state=None, rng=None)\n",
            " |      Makes layers callable; for use in tests or interactive settings.\n",
            " |      \n",
            " |      This convenience method helps library users play with, test, or otherwise\n",
            " |      probe the behavior of layers outside of a full training environment. It\n",
            " |      presents the layer as callable function from inputs to outputs, with the\n",
            " |      option of manually specifying weights and non-parameter state per individual\n",
            " |      call. For convenience, weights and non-parameter state are cached per layer\n",
            " |      instance, starting from default values of `EMPTY_WEIGHTS` and `EMPTY_STATE`,\n",
            " |      and acquiring non-empty values either by initialization or from values\n",
            " |      explicitly provided via the weights and state keyword arguments, in which\n",
            " |      case the old weights will be preserved, and the state will be updated.\n",
            " |      \n",
            " |      Args:\n",
            " |        x: Zero or more input tensors, packaged as described in the `Layer` class\n",
            " |            docstring.\n",
            " |        weights: Weights or `None`; if `None`, use self's cached weights value.\n",
            " |        state: State or `None`; if `None`, use self's cached state value.\n",
            " |        rng: Single-use random number generator (JAX PRNG key), or `None`;\n",
            " |            if `None`, use a default computed from an integer 0 seed.\n",
            " |      \n",
            " |      Returns:\n",
            " |        Zero or more output tensors, packaged as described in the `Layer` class\n",
            " |        docstring.\n",
            " |  \n",
            " |  __repr__(self)\n",
            " |      Renders this layer as a medium-detailed string, to help in debugging.\n",
            " |      \n",
            " |      Subclasses should aim for high-signal/low-noise when overriding this\n",
            " |      method.\n",
            " |      \n",
            " |      Returns:\n",
            " |        A high signal-to-noise string representing this layer.\n",
            " |  \n",
            " |  __setattr__(self, attr, value)\n",
            " |      Sets class attributes and protects from typos.\n",
            " |      \n",
            " |      In Trax layers, we only allow to set the following public attributes::\n",
            " |      \n",
            " |        - weights\n",
            " |        - state\n",
            " |        - rng\n",
            " |      \n",
            " |      This function prevents from setting other public attributes to avoid typos,\n",
            " |      for example, this is not possible and would be without this function::\n",
            " |      \n",
            " |        [typo]   layer.weighs = some_tensor\n",
            " |      \n",
            " |      If you need to set other public attributes in a derived class (which we\n",
            " |      do not recommend as in almost all cases it suffices to use a private\n",
            " |      attribute), override self._settable_attrs to include the attribute name.\n",
            " |      \n",
            " |      Args:\n",
            " |        attr: Name of the attribute to be set.\n",
            " |        value: Value to be assigned to the attribute.\n",
            " |  \n",
            " |  backward(self, inputs, output, grad, weights, state, new_state, rng)\n",
            " |      Custom backward pass to propagate gradients in a custom way.\n",
            " |      \n",
            " |      Args:\n",
            " |        inputs: Input tensors; can be a (possibly nested) tuple.\n",
            " |        output: The result of running this layer on inputs.\n",
            " |        grad: Gradient signal computed based on subsequent layers; its structure\n",
            " |            and shape must match output.\n",
            " |        weights: This layer's weights.\n",
            " |        state: This layer's state prior to the current forward pass.\n",
            " |        new_state: This layer's state after the current forward pass.\n",
            " |        rng: Single-use random number generator (JAX PRNG key).\n",
            " |      \n",
            " |      Returns:\n",
            " |        The custom gradient signal for the input. Note that we need to return\n",
            " |        a gradient for each argument of forward, so it will usually be a tuple\n",
            " |        of signals: the gradient for inputs and weights.\n",
            " |  \n",
            " |  init(self, input_signature, rng=None, use_cache=False)\n",
            " |      Initializes weights/state of this layer and its sublayers recursively.\n",
            " |      \n",
            " |      Initialization creates layer weights and state, for layers that use them.\n",
            " |      It derives the necessary array shapes and data types from the layer's input\n",
            " |      signature, which is itself just shape and data type information.\n",
            " |      \n",
            " |      For layers without weights or state, this method safely does nothing.\n",
            " |      \n",
            " |      This method is designed to create weights/state only once for each layer\n",
            " |      instance, even if the same layer instance occurs in multiple places in the\n",
            " |      network. This enables weight sharing to be implemented as layer sharing.\n",
            " |      \n",
            " |      Args:\n",
            " |        input_signature: `ShapeDtype` instance (if this layer takes one input)\n",
            " |            or list/tuple of `ShapeDtype` instances.\n",
            " |        rng: Single-use random number generator (JAX PRNG key), or `None`;\n",
            " |            if `None`, use a default computed from an integer 0 seed.\n",
            " |        use_cache: If `True`, and if this layer instance has already been\n",
            " |            initialized elsewhere in the network, then return special marker\n",
            " |            values -- tuple `(GET_WEIGHTS_FROM_CACHE, GET_STATE_FROM_CACHE)`.\n",
            " |            Else return this layer's newly initialized weights and state.\n",
            " |      \n",
            " |      Returns:\n",
            " |        A `(weights, state)` tuple.\n",
            " |  \n",
            " |  init_from_file(self, file_name, weights_only=False, input_signature=None)\n",
            " |      Initializes this layer and its sublayers from a pickled checkpoint.\n",
            " |      \n",
            " |      In the common case (`weights_only=False`), the file must be a gziped pickled\n",
            " |      dictionary containing items with keys `'flat_weights', `'flat_state'` and\n",
            " |      `'input_signature'`, which are used to initialize this layer.\n",
            " |      If `input_signature` is specified, it's used instead of the one in the file.\n",
            " |      If `weights_only` is `True`, the dictionary does not need to have the\n",
            " |      `'flat_state'` item and the state it not restored either.\n",
            " |      \n",
            " |      Args:\n",
            " |        file_name: Name/path of the pickled weights/state file.\n",
            " |        weights_only: If `True`, initialize only the layer's weights. Else\n",
            " |            initialize both weights and state.\n",
            " |        input_signature: Input signature to be used instead of the one from file.\n",
            " |      \n",
            " |      Returns:\n",
            " |        A `(weights, state)` tuple.\n",
            " |  \n",
            " |  output_signature(self, input_signature)\n",
            " |      Returns output signature this layer would give for `input_signature`.\n",
            " |  \n",
            " |  pure_fn(self, x, weights, state, rng, use_cache=False)\n",
            " |      Applies this layer as a pure function with no optional args.\n",
            " |      \n",
            " |      This method exposes the layer's computation as a pure function. This is\n",
            " |      especially useful for JIT compilation. Do not override, use `forward`\n",
            " |      instead.\n",
            " |      \n",
            " |      Args:\n",
            " |        x: Zero or more input tensors, packaged as described in the `Layer` class\n",
            " |            docstring.\n",
            " |        weights: A tuple or list of trainable weights, with one element for this\n",
            " |            layer if this layer has no sublayers, or one for each sublayer if\n",
            " |            this layer has sublayers. If a layer (or sublayer) has no trainable\n",
            " |            weights, the corresponding weights element is an empty tuple.\n",
            " |        state: Layer-specific non-parameter state that can update between batches.\n",
            " |        rng: Single-use random number generator (JAX PRNG key).\n",
            " |        use_cache: if `True`, cache weights and state in the layer object; used\n",
            " |          to implement layer sharing in combinators.\n",
            " |      \n",
            " |      Returns:\n",
            " |        A tuple of `(tensors, state)`. The tensors match the number (`n_out`)\n",
            " |        promised by this layer, and are packaged as described in the `Layer`\n",
            " |        class docstring.\n",
            " |  \n",
            " |  save_to_file(self, file_name, weights_only=False, input_signature=None)\n",
            " |      Saves this layer and its sublayers to a pickled checkpoint.\n",
            " |      \n",
            " |      Args:\n",
            " |        file_name: Name/path of the pickled weights/state file.\n",
            " |        weights_only: If `True`, save only the layer's weights. Else\n",
            " |            save both weights and state.\n",
            " |        input_signature: Input signature to be used.\n",
            " |  \n",
            " |  weights_and_state_signature(self, input_signature, unsafe=False)\n",
            " |      Return a pair containing the signatures of weights and state.\n",
            " |  \n",
            " |  ----------------------------------------------------------------------\n",
            " |  Readonly properties inherited from trax.layers.base.Layer:\n",
            " |  \n",
            " |  has_backward\n",
            " |      Returns `True` if this layer provides its own custom backward pass code.\n",
            " |      \n",
            " |      A layer subclass that provides custom backward pass code (for custom\n",
            " |      gradients) must override this method to return `True`.\n",
            " |  \n",
            " |  n_in\n",
            " |      Returns how many tensors this layer expects as input.\n",
            " |  \n",
            " |  n_out\n",
            " |      Returns how many tensors this layer promises as output.\n",
            " |  \n",
            " |  name\n",
            " |      Returns the name of this layer.\n",
            " |  \n",
            " |  sublayers\n",
            " |      Returns a tuple containing this layer's sublayers; may be empty.\n",
            " |  \n",
            " |  ----------------------------------------------------------------------\n",
            " |  Data descriptors inherited from trax.layers.base.Layer:\n",
            " |  \n",
            " |  __dict__\n",
            " |      dictionary for instance variables (if defined)\n",
            " |  \n",
            " |  __weakref__\n",
            " |      list of weak references to the object (if defined)\n",
            " |  \n",
            " |  rng\n",
            " |      Returns this layer's current single-use random number generator.\n",
            " |      \n",
            " |      Code that wants to base random samples on this generator must explicitly\n",
            " |      split off new generators from it. (See, for example, the `rng` setter code\n",
            " |      below.)\n",
            " |  \n",
            " |  state\n",
            " |      Returns a tuple containing this layer's state; may be empty.\n",
            " |      \n",
            " |      If the layer has sublayers, the state by convention will be\n",
            " |      a tuple of length `len(sublayers)` containing sublayer states.\n",
            " |      Note that in this case self._state only marks which ones are shared.\n",
            " |  \n",
            " |  weights\n",
            " |      Returns this layer's weights.\n",
            " |      \n",
            " |      Depending on the layer, the weights can be in the form of:\n",
            " |      \n",
            " |        - an empty tuple\n",
            " |        - a tensor (ndarray)\n",
            " |        - a nested structure of tuples and tensors\n",
            " |      \n",
            " |      If the layer has sublayers, the weights by convention will be\n",
            " |      a tuple of length `len(sublayers)` containing the weights of sublayers.\n",
            " |      Note that in this case self._weights only marks which ones are shared.\n",
            "\n"
          ]
        }
      ],
      "source": [
        "# View documentation on tl.Serial\n",
        "help(tl.Serial)"
      ],
      "id": "Hrblw_uJ4zmF"
    },
    {
      "cell_type": "markdown",
      "metadata": {
        "id": "n6PptsvwjCW3"
      },
      "source": [
        "- [tl.Embedding](https://github.com/google/trax/blob/1372b903bb66b0daccee19fd0b1fdf44f659330b/trax/layers/core.py#L113): Layer constructor function for an embedding layer.  \n",
        "    - `tl.Embedding(vocab_size, d_feature)`.\n",
        "    - `vocab_size` is the number of unique words in the given vocabulary.\n",
        "    - `d_feature` is the number of elements in the word embedding (some choices for a word embedding size range from 150 to 300, for example).    "
      ],
      "id": "n6PptsvwjCW3"
    },
    {
      "cell_type": "code",
      "execution_count": 31,
      "metadata": {
        "id": "Y5FAphBWjCW4",
        "colab": {
          "base_uri": "https://localhost:8080/"
        },
        "outputId": "71601976-2ea0-44b0-b46e-02ea81b2774d"
      },
      "outputs": [
        {
          "output_type": "stream",
          "name": "stdout",
          "text": [
            "Help on class Embedding in module trax.layers.core:\n",
            "\n",
            "class Embedding(trax.layers.base.Layer)\n",
            " |  Embedding(vocab_size, d_feature, use_bfloat16=False, kernel_initializer=<function ScaledInitializer.<locals>.Init at 0x7fafd488cee0>)\n",
            " |  \n",
            " |  Trainable layer that maps discrete tokens/IDs to vectors.\n",
            " |  \n",
            " |  Embedding layers are commonly used to map discrete data, like words in NLP,\n",
            " |  into vectors. Here is a canonical example::\n",
            " |  \n",
            " |      vocab_size = 5\n",
            " |      word_ids = np.array([1, 2, 3, 4], dtype=np.int32)  # word_ids < vocab_size\n",
            " |      embedding_layer = tl.Embedding(vocab_size, 32)\n",
            " |      embedding_layer.init(trax.shapes.signature(word_ids))\n",
            " |      embedded = embedding_layer(word_ids)  # embedded.shape = (4, 32)\n",
            " |  \n",
            " |  Method resolution order:\n",
            " |      Embedding\n",
            " |      trax.layers.base.Layer\n",
            " |      builtins.object\n",
            " |  \n",
            " |  Methods defined here:\n",
            " |  \n",
            " |  __init__(self, vocab_size, d_feature, use_bfloat16=False, kernel_initializer=<function ScaledInitializer.<locals>.Init at 0x7fafd488cee0>)\n",
            " |      Returns an embedding layer with given vocabulary size and vector size.\n",
            " |      \n",
            " |      The layer clips input values (token IDs) to the range `[0, vocab_size)`.\n",
            " |      That is, negative token IDs all clip to `0` before being mapped to a\n",
            " |      vector, and token IDs with value `vocab_size` or greater all clip to\n",
            " |      `vocab_size - 1` before being mapped to a vector.\n",
            " |      \n",
            " |      Args:\n",
            " |        vocab_size: Size of the input vocabulary. The layer will assign a unique\n",
            " |          vector to each id in `range(vocab_size)`.\n",
            " |        d_feature: Dimensionality/depth of the output vectors.\n",
            " |        use_bfloat16: If `True`, use bfloat16 weights instead of the default\n",
            " |          float32; this can save memory but may (rarely) lead to numerical issues.\n",
            " |        kernel_initializer: Function that creates (random) initial vectors for\n",
            " |          the embedding.\n",
            " |  \n",
            " |  forward(self, x)\n",
            " |      Returns embedding vectors corresponding to input token IDs.\n",
            " |      \n",
            " |      Args:\n",
            " |        x: Tensor of token IDs.\n",
            " |      \n",
            " |      Returns:\n",
            " |        Tensor of embedding vectors.\n",
            " |  \n",
            " |  init_weights_and_state(self, input_signature)\n",
            " |      Randomly initializes this layer's weights.\n",
            " |  \n",
            " |  ----------------------------------------------------------------------\n",
            " |  Methods inherited from trax.layers.base.Layer:\n",
            " |  \n",
            " |  __call__(self, x, weights=None, state=None, rng=None)\n",
            " |      Makes layers callable; for use in tests or interactive settings.\n",
            " |      \n",
            " |      This convenience method helps library users play with, test, or otherwise\n",
            " |      probe the behavior of layers outside of a full training environment. It\n",
            " |      presents the layer as callable function from inputs to outputs, with the\n",
            " |      option of manually specifying weights and non-parameter state per individual\n",
            " |      call. For convenience, weights and non-parameter state are cached per layer\n",
            " |      instance, starting from default values of `EMPTY_WEIGHTS` and `EMPTY_STATE`,\n",
            " |      and acquiring non-empty values either by initialization or from values\n",
            " |      explicitly provided via the weights and state keyword arguments, in which\n",
            " |      case the old weights will be preserved, and the state will be updated.\n",
            " |      \n",
            " |      Args:\n",
            " |        x: Zero or more input tensors, packaged as described in the `Layer` class\n",
            " |            docstring.\n",
            " |        weights: Weights or `None`; if `None`, use self's cached weights value.\n",
            " |        state: State or `None`; if `None`, use self's cached state value.\n",
            " |        rng: Single-use random number generator (JAX PRNG key), or `None`;\n",
            " |            if `None`, use a default computed from an integer 0 seed.\n",
            " |      \n",
            " |      Returns:\n",
            " |        Zero or more output tensors, packaged as described in the `Layer` class\n",
            " |        docstring.\n",
            " |  \n",
            " |  __repr__(self)\n",
            " |      Renders this layer as a medium-detailed string, to help in debugging.\n",
            " |      \n",
            " |      Subclasses should aim for high-signal/low-noise when overriding this\n",
            " |      method.\n",
            " |      \n",
            " |      Returns:\n",
            " |        A high signal-to-noise string representing this layer.\n",
            " |  \n",
            " |  __setattr__(self, attr, value)\n",
            " |      Sets class attributes and protects from typos.\n",
            " |      \n",
            " |      In Trax layers, we only allow to set the following public attributes::\n",
            " |      \n",
            " |        - weights\n",
            " |        - state\n",
            " |        - rng\n",
            " |      \n",
            " |      This function prevents from setting other public attributes to avoid typos,\n",
            " |      for example, this is not possible and would be without this function::\n",
            " |      \n",
            " |        [typo]   layer.weighs = some_tensor\n",
            " |      \n",
            " |      If you need to set other public attributes in a derived class (which we\n",
            " |      do not recommend as in almost all cases it suffices to use a private\n",
            " |      attribute), override self._settable_attrs to include the attribute name.\n",
            " |      \n",
            " |      Args:\n",
            " |        attr: Name of the attribute to be set.\n",
            " |        value: Value to be assigned to the attribute.\n",
            " |  \n",
            " |  backward(self, inputs, output, grad, weights, state, new_state, rng)\n",
            " |      Custom backward pass to propagate gradients in a custom way.\n",
            " |      \n",
            " |      Args:\n",
            " |        inputs: Input tensors; can be a (possibly nested) tuple.\n",
            " |        output: The result of running this layer on inputs.\n",
            " |        grad: Gradient signal computed based on subsequent layers; its structure\n",
            " |            and shape must match output.\n",
            " |        weights: This layer's weights.\n",
            " |        state: This layer's state prior to the current forward pass.\n",
            " |        new_state: This layer's state after the current forward pass.\n",
            " |        rng: Single-use random number generator (JAX PRNG key).\n",
            " |      \n",
            " |      Returns:\n",
            " |        The custom gradient signal for the input. Note that we need to return\n",
            " |        a gradient for each argument of forward, so it will usually be a tuple\n",
            " |        of signals: the gradient for inputs and weights.\n",
            " |  \n",
            " |  init(self, input_signature, rng=None, use_cache=False)\n",
            " |      Initializes weights/state of this layer and its sublayers recursively.\n",
            " |      \n",
            " |      Initialization creates layer weights and state, for layers that use them.\n",
            " |      It derives the necessary array shapes and data types from the layer's input\n",
            " |      signature, which is itself just shape and data type information.\n",
            " |      \n",
            " |      For layers without weights or state, this method safely does nothing.\n",
            " |      \n",
            " |      This method is designed to create weights/state only once for each layer\n",
            " |      instance, even if the same layer instance occurs in multiple places in the\n",
            " |      network. This enables weight sharing to be implemented as layer sharing.\n",
            " |      \n",
            " |      Args:\n",
            " |        input_signature: `ShapeDtype` instance (if this layer takes one input)\n",
            " |            or list/tuple of `ShapeDtype` instances.\n",
            " |        rng: Single-use random number generator (JAX PRNG key), or `None`;\n",
            " |            if `None`, use a default computed from an integer 0 seed.\n",
            " |        use_cache: If `True`, and if this layer instance has already been\n",
            " |            initialized elsewhere in the network, then return special marker\n",
            " |            values -- tuple `(GET_WEIGHTS_FROM_CACHE, GET_STATE_FROM_CACHE)`.\n",
            " |            Else return this layer's newly initialized weights and state.\n",
            " |      \n",
            " |      Returns:\n",
            " |        A `(weights, state)` tuple.\n",
            " |  \n",
            " |  init_from_file(self, file_name, weights_only=False, input_signature=None)\n",
            " |      Initializes this layer and its sublayers from a pickled checkpoint.\n",
            " |      \n",
            " |      In the common case (`weights_only=False`), the file must be a gziped pickled\n",
            " |      dictionary containing items with keys `'flat_weights', `'flat_state'` and\n",
            " |      `'input_signature'`, which are used to initialize this layer.\n",
            " |      If `input_signature` is specified, it's used instead of the one in the file.\n",
            " |      If `weights_only` is `True`, the dictionary does not need to have the\n",
            " |      `'flat_state'` item and the state it not restored either.\n",
            " |      \n",
            " |      Args:\n",
            " |        file_name: Name/path of the pickled weights/state file.\n",
            " |        weights_only: If `True`, initialize only the layer's weights. Else\n",
            " |            initialize both weights and state.\n",
            " |        input_signature: Input signature to be used instead of the one from file.\n",
            " |      \n",
            " |      Returns:\n",
            " |        A `(weights, state)` tuple.\n",
            " |  \n",
            " |  output_signature(self, input_signature)\n",
            " |      Returns output signature this layer would give for `input_signature`.\n",
            " |  \n",
            " |  pure_fn(self, x, weights, state, rng, use_cache=False)\n",
            " |      Applies this layer as a pure function with no optional args.\n",
            " |      \n",
            " |      This method exposes the layer's computation as a pure function. This is\n",
            " |      especially useful for JIT compilation. Do not override, use `forward`\n",
            " |      instead.\n",
            " |      \n",
            " |      Args:\n",
            " |        x: Zero or more input tensors, packaged as described in the `Layer` class\n",
            " |            docstring.\n",
            " |        weights: A tuple or list of trainable weights, with one element for this\n",
            " |            layer if this layer has no sublayers, or one for each sublayer if\n",
            " |            this layer has sublayers. If a layer (or sublayer) has no trainable\n",
            " |            weights, the corresponding weights element is an empty tuple.\n",
            " |        state: Layer-specific non-parameter state that can update between batches.\n",
            " |        rng: Single-use random number generator (JAX PRNG key).\n",
            " |        use_cache: if `True`, cache weights and state in the layer object; used\n",
            " |          to implement layer sharing in combinators.\n",
            " |      \n",
            " |      Returns:\n",
            " |        A tuple of `(tensors, state)`. The tensors match the number (`n_out`)\n",
            " |        promised by this layer, and are packaged as described in the `Layer`\n",
            " |        class docstring.\n",
            " |  \n",
            " |  save_to_file(self, file_name, weights_only=False, input_signature=None)\n",
            " |      Saves this layer and its sublayers to a pickled checkpoint.\n",
            " |      \n",
            " |      Args:\n",
            " |        file_name: Name/path of the pickled weights/state file.\n",
            " |        weights_only: If `True`, save only the layer's weights. Else\n",
            " |            save both weights and state.\n",
            " |        input_signature: Input signature to be used.\n",
            " |  \n",
            " |  weights_and_state_signature(self, input_signature, unsafe=False)\n",
            " |      Return a pair containing the signatures of weights and state.\n",
            " |  \n",
            " |  ----------------------------------------------------------------------\n",
            " |  Readonly properties inherited from trax.layers.base.Layer:\n",
            " |  \n",
            " |  has_backward\n",
            " |      Returns `True` if this layer provides its own custom backward pass code.\n",
            " |      \n",
            " |      A layer subclass that provides custom backward pass code (for custom\n",
            " |      gradients) must override this method to return `True`.\n",
            " |  \n",
            " |  n_in\n",
            " |      Returns how many tensors this layer expects as input.\n",
            " |  \n",
            " |  n_out\n",
            " |      Returns how many tensors this layer promises as output.\n",
            " |  \n",
            " |  name\n",
            " |      Returns the name of this layer.\n",
            " |  \n",
            " |  sublayers\n",
            " |      Returns a tuple containing this layer's sublayers; may be empty.\n",
            " |  \n",
            " |  ----------------------------------------------------------------------\n",
            " |  Data descriptors inherited from trax.layers.base.Layer:\n",
            " |  \n",
            " |  __dict__\n",
            " |      dictionary for instance variables (if defined)\n",
            " |  \n",
            " |  __weakref__\n",
            " |      list of weak references to the object (if defined)\n",
            " |  \n",
            " |  rng\n",
            " |      Returns this layer's current single-use random number generator.\n",
            " |      \n",
            " |      Code that wants to base random samples on this generator must explicitly\n",
            " |      split off new generators from it. (See, for example, the `rng` setter code\n",
            " |      below.)\n",
            " |  \n",
            " |  state\n",
            " |      Returns a tuple containing this layer's state; may be empty.\n",
            " |      \n",
            " |      If the layer has sublayers, the state by convention will be\n",
            " |      a tuple of length `len(sublayers)` containing sublayer states.\n",
            " |      Note that in this case self._state only marks which ones are shared.\n",
            " |  \n",
            " |  weights\n",
            " |      Returns this layer's weights.\n",
            " |      \n",
            " |      Depending on the layer, the weights can be in the form of:\n",
            " |      \n",
            " |        - an empty tuple\n",
            " |        - a tensor (ndarray)\n",
            " |        - a nested structure of tuples and tensors\n",
            " |      \n",
            " |      If the layer has sublayers, the weights by convention will be\n",
            " |      a tuple of length `len(sublayers)` containing the weights of sublayers.\n",
            " |      Note that in this case self._weights only marks which ones are shared.\n",
            "\n"
          ]
        }
      ],
      "source": [
        "# View documentation for tl.Embedding\n",
        "help(tl.Embedding)"
      ],
      "id": "Y5FAphBWjCW4"
    },
    {
      "cell_type": "code",
      "execution_count": 32,
      "metadata": {
        "id": "Bi4OhkZbjCW6",
        "colab": {
          "base_uri": "https://localhost:8080/",
          "height": 34
        },
        "outputId": "ae3c7da8-4d99-477d-f146-079f13afe643"
      },
      "outputs": [
        {
          "output_type": "display_data",
          "data": {
            "text/plain": [
              "Embedding_3_2"
            ]
          },
          "metadata": {}
        }
      ],
      "source": [
        "# An example of and embedding layer\n",
        "rnd.seed(31)\n",
        "tmp_embed = tl.Embedding(d_feature=2, vocab_size=3)\n",
        "display(tmp_embed)"
      ],
      "id": "Bi4OhkZbjCW6"
    },
    {
      "cell_type": "code",
      "execution_count": 33,
      "metadata": {
        "id": "VhaXwnn-0_Te",
        "colab": {
          "base_uri": "https://localhost:8080/",
          "height": 156
        },
        "outputId": "6593c88e-d0f2-4642-cddf-977aba954fd0"
      },
      "outputs": [
        {
          "output_type": "stream",
          "name": "stdout",
          "text": [
            "Shape of returned array is (2, 3, 2)\n"
          ]
        },
        {
          "output_type": "display_data",
          "data": {
            "text/plain": [
              "Array([[[-0.09254155,  1.1765094 ],\n",
              "        [ 1.0511576 ,  0.7154667 ],\n",
              "        [ 0.7439485 , -0.81590366]],\n",
              "\n",
              "       [[ 0.7439485 , -0.81590366],\n",
              "        [ 0.7439485 , -0.81590366],\n",
              "        [-0.09254155,  1.1765094 ]]], dtype=float32)"
            ]
          },
          "metadata": {}
        }
      ],
      "source": [
        "# Let's assume as an example, a batch of two lists\n",
        "# each list represents a set of tokenized words.\n",
        "tmp_in_arr = np.array([[0,1,2],\n",
        "                    [3,2,0]\n",
        "                   ])\n",
        "\n",
        "# In order to use the layer, we need to initialize its signature\n",
        "tmp_embed.init(trax.shapes.signature(tmp_in_arr))\n",
        "\n",
        "# Embedding layer will return an array of shape (batch size, vocab size, d_feature)\n",
        "tmp_embedded_arr = tmp_embed(tmp_in_arr)\n",
        "\n",
        "print(f\"Shape of returned array is {tmp_embedded_arr.shape}\")\n",
        "display(tmp_embedded_arr)"
      ],
      "id": "VhaXwnn-0_Te"
    },
    {
      "cell_type": "markdown",
      "id": "299a9ddd",
      "metadata": {
        "id": "299a9ddd"
      },
      "source": [
        "- [tl.Mean](https://github.com/google/trax/blob/1372b903bb66b0daccee19fd0b1fdf44f659330b/trax/layers/core.py#L276): Calculates means across an axis.  In this case, please choose axis = 1 to get an average embedding vector (an embedding vector that is an average of all words in the sentence).  \n",
        "- For example, if the embedding matrix is 300 elements and vocab size is 10,000 words, taking the mean of the embedding matrix along axis=1 will yield a vector of 300 elements."
      ]
    },
    {
      "cell_type": "code",
      "execution_count": 34,
      "metadata": {
        "id": "CO0uMOOmjCW8",
        "colab": {
          "base_uri": "https://localhost:8080/"
        },
        "outputId": "6c45cdd6-6380-4209-bae1-7737a9bdef2a"
      },
      "outputs": [
        {
          "output_type": "stream",
          "name": "stdout",
          "text": [
            "Help on function Mean in module trax.layers.core:\n",
            "\n",
            "Mean(axis=-1, keepdims=False)\n",
            "    Returns a layer that computes mean values using one tensor axis.\n",
            "    \n",
            "    `Mean` uses one tensor axis to form groups of values and replaces each group\n",
            "    with the mean value of that group. The resulting values can either remain\n",
            "    in their own size 1 axis (`keepdims=True`), or that axis can be removed from\n",
            "    the overall tensor (default `keepdims=False`), lowering the rank of the\n",
            "    tensor by one.\n",
            "    \n",
            "    Args:\n",
            "      axis: Axis along which values are grouped for computing a mean.\n",
            "      keepdims: If `True`, keep the resulting size 1 axis as a separate tensor\n",
            "          axis; else, remove that axis.\n",
            "\n"
          ]
        }
      ],
      "source": [
        "# view the documentation for tl.mean\n",
        "help(tl.Mean)"
      ],
      "id": "CO0uMOOmjCW8"
    },
    {
      "cell_type": "code",
      "execution_count": 35,
      "metadata": {
        "id": "eSS-_d38jCW-",
        "colab": {
          "base_uri": "https://localhost:8080/",
          "height": 86
        },
        "outputId": "afdfda85-545e-46c9-8cc5-0b90694e1936"
      },
      "outputs": [
        {
          "output_type": "stream",
          "name": "stdout",
          "text": [
            "The mean along axis 0 creates a vector whose length equals the number of features in a word embedding\n"
          ]
        },
        {
          "output_type": "display_data",
          "data": {
            "text/plain": [
              "Array([3., 4.], dtype=float32)"
            ]
          },
          "metadata": {}
        },
        {
          "output_type": "stream",
          "name": "stdout",
          "text": [
            "The mean along axis 1 creates a vector whose length equals the number of words in a sentence\n"
          ]
        },
        {
          "output_type": "display_data",
          "data": {
            "text/plain": [
              "Array([1.5, 3.5, 5.5], dtype=float32)"
            ]
          },
          "metadata": {}
        }
      ],
      "source": [
        "# Pretend the embedding matrix uses\n",
        "# 2 features for embedding the meaning of a word\n",
        "# and you have a sentence of 3 words\n",
        "# So the output of the embedding layer has shape (3,2), (sentence length, d_feature)\n",
        "tmp_embeded = np.array([[1,2],\n",
        "                        [3,4],\n",
        "                        [5,6]])\n",
        "\n",
        "# take the mean along axis 0\n",
        "print(\"The mean along axis 0 creates a vector whose length equals the number of features in a word embedding\")\n",
        "display(np.mean(tmp_embeded,axis=0))\n",
        "\n",
        "print(\"The mean along axis 1 creates a vector whose length equals the number of words in a sentence\")\n",
        "display(np.mean(tmp_embeded,axis=1))"
      ],
      "id": "eSS-_d38jCW-"
    },
    {
      "cell_type": "markdown",
      "metadata": {
        "id": "08G5yUa_jCXE"
      },
      "source": [
        "- [tl.LogSoftmax](https://github.com/google/trax/blob/1372b903bb66b0daccee19fd0b1fdf44f659330b/trax/layers/core.py#L242): Implements log softmax function\n",
        "- Here, you don't need to set any parameters for `LogSoftMax()`."
      ],
      "id": "08G5yUa_jCXE"
    },
    {
      "cell_type": "code",
      "execution_count": 36,
      "metadata": {
        "id": "0UsQjFrAjCXF",
        "colab": {
          "base_uri": "https://localhost:8080/"
        },
        "outputId": "7c2fcb01-9f24-416f-965d-0c5fa4807805"
      },
      "outputs": [
        {
          "output_type": "stream",
          "name": "stdout",
          "text": [
            "Help on function LogSoftmax in module trax.layers.core:\n",
            "\n",
            "LogSoftmax(axis=-1)\n",
            "    Returns a layer that applies log softmax along one tensor axis.\n",
            "    \n",
            "    Note that the implementation actually computes x - LogSumExp(x),\n",
            "    which is mathematically equal to LogSoftmax(x).\n",
            "    \n",
            "    `LogSoftmax` acts on a group of values and normalizes them to look like a set\n",
            "    of log probability values. (Probability values must be non-negative, and as\n",
            "    a set must sum to 1. A group of log probability values can be seen as the\n",
            "    natural logarithm function applied to a set of probability values.)\n",
            "    \n",
            "    Args:\n",
            "      axis: Axis along which values are grouped for computing log softmax.\n",
            "\n"
          ]
        }
      ],
      "source": [
        "help(tl.LogSoftmax)"
      ],
      "id": "0UsQjFrAjCXF"
    },
    {
      "cell_type": "markdown",
      "metadata": {
        "id": "FOGE4zC-0_Tf"
      },
      "source": [
        "**Online documentation**\n",
        "\n",
        "- [tl.Dense](https://trax-ml.readthedocs.io/en/latest/trax.layers.html#trax.layers.core.Dense)\n",
        "\n",
        "- [tl.Serial](https://trax-ml.readthedocs.io/en/latest/trax.layers.html#module-trax.layers.combinators)\n",
        "\n",
        "- [tl.Embedding](https://trax-ml.readthedocs.io/en/latest/trax.layers.html#trax.layers.core.Embedding)\n",
        "\n",
        "- [tl.Mean](https://trax-ml.readthedocs.io/en/latest/trax.layers.html#trax.layers.core.Mean)\n",
        "\n",
        "- [tl.LogSoftmax](https://trax-ml.readthedocs.io/en/latest/trax.layers.html#trax.layers.core.LogSoftmax)"
      ],
      "id": "FOGE4zC-0_Tf"
    },
    {
      "cell_type": "markdown",
      "metadata": {
        "id": "W8ONXnJsjCXH"
      },
      "source": [
        "<a name=\"ex-5\"></a>\n",
        "### Exercise 5 - classifier\n",
        "Implement the classifier function."
      ],
      "id": "W8ONXnJsjCXH"
    },
    {
      "cell_type": "code",
      "execution_count": 37,
      "metadata": {
        "id": "Wh33Hk8lgrgz"
      },
      "outputs": [],
      "source": [
        "# UNQ_C5 (UNIQUE CELL IDENTIFIER, DO NOT EDIT)\n",
        "# GRADED FUNCTION: classifier\n",
        "def classifier(vocab_size=9088, embedding_dim=256, output_dim=2, mode='train'):\n",
        "\n",
        "    ### START CODE HERE (Replace instances of 'None' with your code) ###\n",
        "\n",
        "    # create embedding layer\n",
        "    embed_layer = tl.Embedding(\n",
        "        vocab_size=vocab_size, # Size of the vocabulary\n",
        "        d_feature=embedding_dim # Embedding dimension\n",
        "    )\n",
        "\n",
        "    # Create a mean layer, to create an \"average\" word embedding\n",
        "    mean_layer = tl.Mean(axis=1)\n",
        "\n",
        "    # Create a dense layer, one unit for each output\n",
        "    dense_output_layer = tl.Dense(n_units = output_dim)\n",
        "\n",
        "    # Create the log softmax layer (no parameters needed)\n",
        "    log_softmax_layer = tl.LogSoftmax()\n",
        "\n",
        "    # Use tl.Serial to combine all layers\n",
        "    # and create the classifier\n",
        "    # of type trax.layers.combinators.Serial\n",
        "    model = tl.Serial(\n",
        "      embed_layer, # embedding layer\n",
        "      mean_layer, # mean layer\n",
        "      dense_output_layer, # dense output layer\n",
        "      log_softmax_layer # log softmax layer\n",
        "    )\n",
        "    ### END CODE HERE ###\n",
        "\n",
        "    # return the model of type\n",
        "    return model"
      ],
      "id": "Wh33Hk8lgrgz"
    },
    {
      "cell_type": "code",
      "execution_count": 38,
      "metadata": {
        "id": "OwJCu3e9jCXK"
      },
      "outputs": [],
      "source": [
        "tmp_model = classifier(vocab_size=len(Vocab))"
      ],
      "id": "OwJCu3e9jCXK"
    },
    {
      "cell_type": "code",
      "execution_count": 39,
      "metadata": {
        "id": "ZsMzvK8YjCXM",
        "colab": {
          "base_uri": "https://localhost:8080/",
          "height": 138
        },
        "outputId": "54b26c6f-fec4-475e-a2d2-37e0f7a2f734"
      },
      "outputs": [
        {
          "output_type": "stream",
          "name": "stdout",
          "text": [
            "<class 'trax.layers.combinators.Serial'>\n"
          ]
        },
        {
          "output_type": "display_data",
          "data": {
            "text/plain": [
              "Serial[\n",
              "  Embedding_9088_256\n",
              "  Mean\n",
              "  Dense_2\n",
              "  LogSoftmax\n",
              "]"
            ]
          },
          "metadata": {}
        }
      ],
      "source": [
        "print(type(tmp_model))\n",
        "display(tmp_model)"
      ],
      "id": "ZsMzvK8YjCXM"
    },
    {
      "cell_type": "markdown",
      "metadata": {
        "id": "DV0LEuRVjCXO"
      },
      "source": [
        "##### Expected Outout\n",
        "```python\n",
        "<class 'trax.layers.combinators.Serial'>\n",
        "Serial[\n",
        "  Embedding_9088_256\n",
        "  Mean\n",
        "  Dense_2\n",
        "  LogSoftmax\n",
        "]\n",
        "```"
      ],
      "id": "DV0LEuRVjCXO"
    },
    {
      "cell_type": "code",
      "execution_count": 40,
      "metadata": {
        "id": "k-rSGyeM0_Tg",
        "colab": {
          "base_uri": "https://localhost:8080/"
        },
        "outputId": "2c73c651-2ee5-4fb0-8689-921e88a50249"
      },
      "outputs": [
        {
          "output_type": "stream",
          "name": "stdout",
          "text": [
            "\u001b[92m All tests passed\n"
          ]
        }
      ],
      "source": [
        "w1_unittest.test_classifier(classifier)"
      ],
      "id": "k-rSGyeM0_Tg"
    },
    {
      "cell_type": "markdown",
      "metadata": {
        "id": "1FaugA_7grg6"
      },
      "source": [
        "<a name=\"4\"></a>\n",
        "## 4 - Training\n",
        "\n",
        "To train a model on a task, Trax defines an abstraction [`trax.supervised.training.TrainTask`](https://trax-ml.readthedocs.io/en/latest/trax.supervised.html#trax.supervised.training.TrainTask) which packages the train data, loss and optimizer (among other things) together into an object.\n",
        "\n",
        "Similarly to evaluate a model, Trax defines an abstraction [`trax.supervised.training.EvalTask`](https://trax-ml.readthedocs.io/en/latest/trax.supervised.html#trax.supervised.training.EvalTask) which packages the eval data and metrics (among other things) into another object.\n",
        "\n",
        "The final piece tying things together is the [`trax.supervised.training.Loop`](https://trax-ml.readthedocs.io/en/latest/trax.supervised.html#trax.supervised.training.Loop) abstraction that is a very simple and flexible way to put everything together and train the model, all the while evaluating it and saving checkpoints.\n",
        "Using `Loop` will save you a lot of code compared to always writing the training loop by hand, like you did in courses 1 and 2. More importantly, you are less likely to have a bug in that code that would ruin your training."
      ],
      "id": "1FaugA_7grg6"
    },
    {
      "cell_type": "code",
      "execution_count": 41,
      "metadata": {
        "id": "UGgKw03jjCXP",
        "colab": {
          "base_uri": "https://localhost:8080/"
        },
        "outputId": "0c7c975c-aa5e-4318-c868-cf4e80c4371c"
      },
      "outputs": [
        {
          "output_type": "stream",
          "name": "stdout",
          "text": [
            "Help on class TrainTask in module trax.supervised.training:\n",
            "\n",
            "class TrainTask(builtins.object)\n",
            " |  TrainTask(labeled_data, loss_layer, optimizer, lr_schedule=None, n_steps_per_checkpoint=100, n_steps_per_permanent_checkpoint=None, loss_name=None, sample_batch=None, export_prefix=None)\n",
            " |  \n",
            " |  A supervised task (labeled data + feedback mechanism) for training.\n",
            " |  \n",
            " |  Methods defined here:\n",
            " |  \n",
            " |  __init__(self, labeled_data, loss_layer, optimizer, lr_schedule=None, n_steps_per_checkpoint=100, n_steps_per_permanent_checkpoint=None, loss_name=None, sample_batch=None, export_prefix=None)\n",
            " |      Configures a training task.\n",
            " |      \n",
            " |      Args:\n",
            " |        labeled_data: Iterator of batches of labeled data tuples. Each tuple has\n",
            " |            1+ data (input value) tensors followed by 1 label (target value)\n",
            " |            tensor.  All tensors are NumPy ndarrays or their JAX counterparts.\n",
            " |        loss_layer: Layer that computes a scalar value (the \"loss\") by comparing\n",
            " |            model output :math:`\\hat{y}=f(x)` to the target :math:`y`.\n",
            " |        optimizer: Optimizer object that computes model weight updates from\n",
            " |            loss-function gradients.\n",
            " |        lr_schedule: Learning rate schedule, a function step -> learning_rate.\n",
            " |        n_steps_per_checkpoint: How many steps to run between checkpoints.\n",
            " |        n_steps_per_permanent_checkpoint: How many steps to run between permanent\n",
            " |            checkpoints.\n",
            " |        loss_name: Name for the loss metric.\n",
            " |        sample_batch: Optional sample batch for model initialization. If not\n",
            " |            provided, it will be taken from ``labeled_data``.\n",
            " |        export_prefix: Optional task name to be used as prefix for exporting\n",
            " |        metrics during training in Loop.\n",
            " |  \n",
            " |  learning_rate(self, step)\n",
            " |      Return the learning rate for the given step.\n",
            " |  \n",
            " |  next_batch(self)\n",
            " |      Returns one batch of labeled data: a tuple of input(s) plus label.\n",
            " |  \n",
            " |  ----------------------------------------------------------------------\n",
            " |  Readonly properties defined here:\n",
            " |  \n",
            " |  export_prefix\n",
            " |  \n",
            " |  labeled_data\n",
            " |  \n",
            " |  loss_layer\n",
            " |  \n",
            " |  loss_name\n",
            " |  \n",
            " |  n_steps_per_checkpoint\n",
            " |  \n",
            " |  n_steps_per_permanent_checkpoint\n",
            " |  \n",
            " |  optimizer\n",
            " |  \n",
            " |  sample_batch\n",
            " |  \n",
            " |  ----------------------------------------------------------------------\n",
            " |  Data descriptors defined here:\n",
            " |  \n",
            " |  __dict__\n",
            " |      dictionary for instance variables (if defined)\n",
            " |  \n",
            " |  __weakref__\n",
            " |      list of weak references to the object (if defined)\n",
            "\n"
          ]
        }
      ],
      "source": [
        "# View documentation for trax.supervised.training.TrainTask\n",
        "help(trax.supervised.training.TrainTask)"
      ],
      "id": "UGgKw03jjCXP"
    },
    {
      "cell_type": "code",
      "execution_count": 42,
      "metadata": {
        "id": "Tr2MmdWDn6hV",
        "colab": {
          "base_uri": "https://localhost:8080/"
        },
        "outputId": "44367171-fe46-4911-80ef-718d08c5cb76"
      },
      "outputs": [
        {
          "output_type": "stream",
          "name": "stdout",
          "text": [
            "Help on class EvalTask in module trax.supervised.training:\n",
            "\n",
            "class EvalTask(builtins.object)\n",
            " |  EvalTask(labeled_data, metrics, metric_names=None, n_eval_batches=1, sample_batch=None, export_prefix=None)\n",
            " |  \n",
            " |  Labeled data plus scalar functions for (periodically) measuring a model.\n",
            " |  \n",
            " |  An eval task specifies how (``labeled_data`` + ``metrics``) and with what\n",
            " |  precision (``n_eval_batches``) to measure a model as it is training.\n",
            " |  The variance of each scalar output is reduced by measuring over multiple\n",
            " |  (``n_eval_batches``) batches and reporting the average from those\n",
            " |  measurements.\n",
            " |  \n",
            " |  Methods defined here:\n",
            " |  \n",
            " |  __init__(self, labeled_data, metrics, metric_names=None, n_eval_batches=1, sample_batch=None, export_prefix=None)\n",
            " |      Configures an eval task: named metrics run with a given data source.\n",
            " |      \n",
            " |      Args:\n",
            " |        labeled_data: Iterator of batches of labeled data tuples. Each tuple has\n",
            " |            1+ data tensors (NumPy ndarrays) followed by 1 label (target value)\n",
            " |            tensor.\n",
            " |        metrics: List of layers; each computes a scalar value per batch by\n",
            " |            comparing model output :math:`\\hat{y}=f(x)` to the target :math:`y`.\n",
            " |        metric_names: List of names, one for each item in ``metrics``, in matching\n",
            " |             order, to be used when recording/reporting eval output. If ``None``,\n",
            " |             generate default names using layer names from metrics.\n",
            " |        n_eval_batches: Integer N that specifies how many eval batches to run;\n",
            " |            the output is then the average of the outputs from the N batches.\n",
            " |        sample_batch: Optional sample batch for model initialization. If not\n",
            " |            provided, it will be taken from ``labeled_data``.\n",
            " |        export_prefix: Optional task name to be used as prefix for exporting\n",
            " |            metrics during evaluation in Loop.\n",
            " |  \n",
            " |  next_batch(self)\n",
            " |      Returns one batch of labeled data: a tuple of input(s) plus label.\n",
            " |  \n",
            " |  ----------------------------------------------------------------------\n",
            " |  Readonly properties defined here:\n",
            " |  \n",
            " |  export_prefix\n",
            " |  \n",
            " |  labeled_data\n",
            " |  \n",
            " |  metric_names\n",
            " |  \n",
            " |  metrics\n",
            " |  \n",
            " |  n_eval_batches\n",
            " |  \n",
            " |  sample_batch\n",
            " |  \n",
            " |  ----------------------------------------------------------------------\n",
            " |  Data descriptors defined here:\n",
            " |  \n",
            " |  __dict__\n",
            " |      dictionary for instance variables (if defined)\n",
            " |  \n",
            " |  __weakref__\n",
            " |      list of weak references to the object (if defined)\n",
            "\n"
          ]
        }
      ],
      "source": [
        "# View documentation for trax.supervised.training.EvalTask\n",
        "help(trax.supervised.training.EvalTask)"
      ],
      "id": "Tr2MmdWDn6hV"
    },
    {
      "cell_type": "code",
      "execution_count": 43,
      "metadata": {
        "id": "XkUVMzVXn_8f",
        "colab": {
          "base_uri": "https://localhost:8080/"
        },
        "outputId": "94a41c6e-010a-4f27-efe2-34919a27ae34"
      },
      "outputs": [
        {
          "output_type": "stream",
          "name": "stdout",
          "text": [
            "Help on class Loop in module trax.supervised.training:\n",
            "\n",
            "class Loop(builtins.object)\n",
            " |  Loop(model, tasks, eval_model=None, eval_tasks=None, output_dir=None, checkpoint_at=None, checkpoint_low_metric=None, checkpoint_high_metric=None, permanent_checkpoint_at=None, eval_at=None, which_task=None, n_devices=None, random_seed=None, loss_chunk_size=0, use_memory_efficient_trainer=False, adasum=False, callbacks=None)\n",
            " |  \n",
            " |  Loop that can run for a given number of steps to train a supervised model.\n",
            " |  \n",
            " |  Can train the model on multiple tasks by interleaving updates according to the\n",
            " |  ``which_task`` argument.\n",
            " |  \n",
            " |  The typical supervised training process randomly initializes a model and\n",
            " |  updates its weights via feedback (loss-derived gradients) from a training\n",
            " |  task, by looping through batches of labeled data. A training loop can also\n",
            " |  be configured to run periodic evals and save intermediate checkpoints.\n",
            " |  \n",
            " |  For speed, the implementation takes advantage of JAX's composable function\n",
            " |  transformations (specifically, ``jit`` and ``grad``). It creates JIT-compiled\n",
            " |  pure functions derived from variants of the core model; schematically:\n",
            " |  \n",
            " |    - training variant: `jit(grad(pure_function(model+loss)))`\n",
            " |    - evals variant: `jit(pure_function(model+evals))`\n",
            " |  \n",
            " |  In training or during evals, these variants are called with explicit\n",
            " |  arguments for all relevant input data, model weights/state, optimizer slots,\n",
            " |  and random number seeds:\n",
            " |  \n",
            " |    - batch: labeled data\n",
            " |    - model weights/state: trainable weights and input-related state (e.g., as\n",
            " |      used by batch norm)\n",
            " |    - optimizer slots: weights in the optimizer that evolve during the training\n",
            " |      process\n",
            " |    - random number seeds: JAX PRNG keys that enable high-quality, distributed,\n",
            " |      repeatable generation of pseudo-random numbers\n",
            " |  \n",
            " |  Methods defined here:\n",
            " |  \n",
            " |  __init__(self, model, tasks, eval_model=None, eval_tasks=None, output_dir=None, checkpoint_at=None, checkpoint_low_metric=None, checkpoint_high_metric=None, permanent_checkpoint_at=None, eval_at=None, which_task=None, n_devices=None, random_seed=None, loss_chunk_size=0, use_memory_efficient_trainer=False, adasum=False, callbacks=None)\n",
            " |      Configures a training ``Loop``, including a random initialization.\n",
            " |      \n",
            " |      Args:\n",
            " |        model: Trax layer, representing the core model to be trained. Loss\n",
            " |            functions and eval functions (a.k.a. metrics) are considered to be\n",
            " |            outside the core model, taking core model output and data labels as\n",
            " |            their two inputs.\n",
            " |        tasks: List of :py:class:`TrainTask` instances, which define the training\n",
            " |            data, loss function, and optimizer to be used in respective tasks in\n",
            " |            this training loop. It can also be a single :py:class:`TrainTask`\n",
            " |            instance which is treated in the same way as a singleton list.\n",
            " |        eval_model: Optional Trax layer, representing model used for evaluation,\n",
            " |            e.g., with dropout turned off. If ``None``, the training model (model)\n",
            " |            will be used.\n",
            " |        eval_tasks: List of :py:class:`EvalTask` instances which define how to\n",
            " |            evaluate the model: which validation data to use and which metrics to\n",
            " |            report. Evaluation on each of the tasks and will run and be reported\n",
            " |            separately which allows to score a model on different subtasks. This\n",
            " |            argument can also be ``None``, in which case no evals will be run, or\n",
            " |            a single :py:class:`EvalTask`, which wil be treated in the same way\n",
            " |            as a singleton list.\n",
            " |        output_dir: Path telling where to save outputs (evals and checkpoints).\n",
            " |            Can be ``None`` if both ``eval_task`` and ``checkpoint_at`` are\n",
            " |            ``None``.\n",
            " |        checkpoint_at: Function (integer --> boolean) telling, for step n, whether\n",
            " |            that step should have its checkpoint saved. If ``None``, the default\n",
            " |            is periodic checkpointing at ``task.n_steps_per_checkpoint``.\n",
            " |        checkpoint_low_metric: Name of metric, or None. The metric name must\n",
            " |            be one of the metric names from the evals in ``eval_tasks``. At\n",
            " |            checkpoint times determined by ``checkpoint_at``, a separate\n",
            " |            specially named checkpoint will be saved (overwriting any previous\n",
            " |            version) if the designated metric reaches a value less than or equal\n",
            " |            to any previous recorded low value. No such checkpoint is saved if\n",
            " |            arg value is `None`.\n",
            " |        checkpoint_high_metric: Name of metric, or None. The metric name must\n",
            " |            be one of the metric names from the evals in ``eval_tasks``. At\n",
            " |            checkpoint times determined by ``checkpoint_at``, a separate\n",
            " |            specially named checkpoint will be saved (overwriting any previous\n",
            " |            version) if the designated metric reaches a value greater than or\n",
            " |            equal to any previous recorded high value. No such checkpoint is\n",
            " |            saved if arg value is `None`.\n",
            " |        permanent_checkpoint_at: Function (integer --> boolean) telling,\n",
            " |            for step n, whether that step should have its checkpoint saved\n",
            " |            permanently. If ``None``, the default is periodic checkpointing at\n",
            " |            ``task.n_steps_per_permanent_checkpoint``.\n",
            " |        eval_at: Function (integer --> boolean) that says, for training step n,\n",
            " |            whether that step should run evals. If ``None``, run evals on the\n",
            " |            first step and on every N'th step, as determined by the first\n",
            " |            training task.\n",
            " |        which_task: Function (integer --> integer) indicating which task should be\n",
            " |            used at which training step. Can be set to ``None`` in single-task\n",
            " |            training.\n",
            " |        n_devices: integer or ``None``, the number of devices for this\n",
            " |            computation.\n",
            " |        random_seed: the random seed to use; time/os dependent if ``None``\n",
            " |            (default).\n",
            " |        loss_chunk_size: int, if > 0 use chunks of this size to make loss\n",
            " |          computation more more memory-efficient.\n",
            " |        use_memory_efficient_trainer: whether to use a special memory-efficient\n",
            " |          trainer; if set to 2, the memory efficiency if very aggressive\n",
            " |        adasum: if True, use adaptive summation for multi-device gradients\n",
            " |        callbacks: List of subclasses of StepCallback to call on training\n",
            " |          steps.\n",
            " |  \n",
            " |  load_checkpoint(self, directory=None, filename=None)\n",
            " |      Loads model weights and step from a checkpoint on disk.\n",
            " |      \n",
            " |      Args:\n",
            " |        directory: Directory with the checkpoint (self._output_dir by default).\n",
            " |        filename: Checkpoint file name (model.pkl.gz by default).\n",
            " |  \n",
            " |  log_summary(self, values, summary_writer, value_prefix, log_prefix, stdout=True)\n",
            " |      Logs and saves provided metrics.\n",
            " |      \n",
            " |      Args:\n",
            " |        values: Dict from metric name to metric value.\n",
            " |        summary_writer: Jaxboard summary writer.\n",
            " |        value_prefix: String appended in front of summary_writer entries.\n",
            " |        log_prefix: String appended in front of logs.\n",
            " |        stdout: Boolean saying if logs should be logged to stdout as well.\n",
            " |  \n",
            " |  new_rng(self)\n",
            " |      Returns a new single-use random number generator (JAX PRNG key).\n",
            " |  \n",
            " |  run(self, n_steps=1)\n",
            " |      Runs this training loop for n steps.\n",
            " |      \n",
            " |      Optionally runs evals and saves checkpoints at specified points.\n",
            " |      \n",
            " |      Args:\n",
            " |        n_steps: Stop training after completing n steps.\n",
            " |  \n",
            " |  run_evals(self, summary_writers=None)\n",
            " |      Runs and records evals for this training session.\n",
            " |      \n",
            " |      Args:\n",
            " |        summary_writers: List of per-task Jaxboard summary writers to log metrics.\n",
            " |  \n",
            " |  save_checkpoint(self, basename)\n",
            " |      Saves checkpoint (multiple files) to disk for the current training step.\n",
            " |      \n",
            " |      Saving a checkpoint will overwrite any previous checkpoint saved with the\n",
            " |      same ``basename``. Use differing ``basename`` values to save multiple\n",
            " |      checkpoints or multiple copies of the same checkpoint.\n",
            " |      \n",
            " |      Args:\n",
            " |        basename: Basename for saving a checkpoint. Full file paths for the saved\n",
            " |            checkpoint will combine the output dir, basename, and relevant file\n",
            " |            extensions (e.g., `.weights.npy.gz`).\n",
            " |  \n",
            " |  update_weights_and_state(self, weights=None, state=None)\n",
            " |      Updates the weights and state of the trained model.\n",
            " |      \n",
            " |      Sends this data both to the singleton model accessible via Loop.model\n",
            " |      and to the replicated model on the accelerator.\n",
            " |      \n",
            " |      Useful when the weights or state are modified outside of training, e.g.\n",
            " |      during data collection in RL agents.\n",
            " |      \n",
            " |      Args:\n",
            " |        weights: Model weights or ``None``. If ``None``, don't set.\n",
            " |        state: Model state or ``None``. If ``None``, don't set.\n",
            " |  \n",
            " |  ----------------------------------------------------------------------\n",
            " |  Readonly properties defined here:\n",
            " |  \n",
            " |  eval_model\n",
            " |      Returns the model used for evaluation.\n",
            " |  \n",
            " |  eval_tasks\n",
            " |      Returns the evaluation tasks.\n",
            " |  \n",
            " |  history\n",
            " |      Returns history in this training session.\n",
            " |  \n",
            " |  is_chief\n",
            " |      Returns true if this Loop is the chief.\n",
            " |  \n",
            " |  model\n",
            " |      Returns the model that is training.\n",
            " |  \n",
            " |  n_devices\n",
            " |      Returns the number of devices to be used in this computation.\n",
            " |  \n",
            " |  output_dir\n",
            " |      Returns the output directory.\n",
            " |  \n",
            " |  step\n",
            " |      Returns current step number in this training session.\n",
            " |  \n",
            " |  tasks\n",
            " |      Returns the training tasks.\n",
            " |  \n",
            " |  ----------------------------------------------------------------------\n",
            " |  Data descriptors defined here:\n",
            " |  \n",
            " |  __dict__\n",
            " |      dictionary for instance variables (if defined)\n",
            " |  \n",
            " |  __weakref__\n",
            " |      list of weak references to the object (if defined)\n",
            "\n"
          ]
        }
      ],
      "source": [
        "# View documentation for trax.supervised.training.Loop\n",
        "help(trax.supervised.training.Loop)"
      ],
      "id": "XkUVMzVXn_8f"
    },
    {
      "cell_type": "code",
      "execution_count": 44,
      "metadata": {
        "id": "Ooekq1F305bt",
        "colab": {
          "base_uri": "https://localhost:8080/"
        },
        "outputId": "3a97dc2d-b5d6-4f5b-dec3-4237c1ba8166"
      },
      "outputs": [
        {
          "output_type": "stream",
          "name": "stdout",
          "text": [
            "Help on package trax.optimizers in trax:\n",
            "\n",
            "NAME\n",
            "    trax.optimizers - Optimizers for use with Trax layers.\n",
            "\n",
            "PACKAGE CONTENTS\n",
            "    adafactor\n",
            "    adam\n",
            "    base\n",
            "    momentum\n",
            "    optimizers_test\n",
            "    rms_prop\n",
            "    sm3\n",
            "    trainer\n",
            "    trainer_test\n",
            "\n",
            "FUNCTIONS\n",
            "    opt_configure(*args, **kwargs)\n",
            "\n",
            "FILE\n",
            "    /usr/local/lib/python3.10/dist-packages/trax/optimizers/__init__.py\n",
            "\n",
            "\n"
          ]
        }
      ],
      "source": [
        "# View optimizers that you could choose from\n",
        "help(trax.optimizers)"
      ],
      "id": "Ooekq1F305bt"
    },
    {
      "cell_type": "markdown",
      "metadata": {
        "id": "OmR3BhV41Cxs"
      },
      "source": [
        "Notice some available optimizers include:\n",
        "```CPP\n",
        "    adafactor\n",
        "    adam\n",
        "    momentum\n",
        "    rms_prop\n",
        "    sm3\n",
        "```"
      ],
      "id": "OmR3BhV41Cxs"
    },
    {
      "cell_type": "markdown",
      "metadata": {
        "id": "HA01H6K7grg_"
      },
      "source": [
        "<a name=\"4-1\"></a>\n",
        "### 4.1  Training the Model\n",
        "\n",
        "Now you are going to train your model.\n",
        "\n",
        "Let's define the `TrainTask`, `EvalTask` and `Loop` in preparation to train the model."
      ],
      "id": "HA01H6K7grg_"
    },
    {
      "cell_type": "code",
      "execution_count": 45,
      "metadata": {
        "deletable": false,
        "editable": false,
        "id": "ogMtJgHSoiZj"
      },
      "outputs": [],
      "source": [
        "# PLEASE, DO NOT MODIFY OR DELETE THIS CELL\n",
        "from trax.supervised import training\n",
        "\n",
        "def get_train_eval_tasks(train_pos, train_neg, val_pos, val_neg, vocab_dict, loop, batch_size = 16):\n",
        "\n",
        "    rnd.seed(271)\n",
        "\n",
        "    train_task = training.TrainTask(\n",
        "        labeled_data=train_generator(batch_size, train_pos\n",
        "                    , train_neg, vocab_dict, loop\n",
        "                    , shuffle = True),\n",
        "        loss_layer=tl.WeightedCategoryCrossEntropy(),\n",
        "        optimizer=trax.optimizers.Adam(0.01),\n",
        "        n_steps_per_checkpoint=10,\n",
        "    )\n",
        "\n",
        "    eval_task = training.EvalTask(\n",
        "        labeled_data=val_generator(batch_size, val_pos\n",
        "                    , val_neg, vocab_dict, loop\n",
        "                    , shuffle = True),\n",
        "        metrics=[tl.WeightedCategoryCrossEntropy(), tl.WeightedCategoryAccuracy()],\n",
        "    )\n",
        "\n",
        "    return train_task, eval_task\n",
        "\n",
        "\n",
        "train_task, eval_task = get_train_eval_tasks(train_pos, train_neg, val_pos, val_neg, Vocab, True, batch_size = 16)\n",
        "model = classifier()"
      ],
      "id": "ogMtJgHSoiZj"
    },
    {
      "cell_type": "code",
      "execution_count": 46,
      "metadata": {
        "id": "YJsRGJI00_Th",
        "colab": {
          "base_uri": "https://localhost:8080/"
        },
        "outputId": "4aa8bb91-3707-4d71-baa2-c7c9e2f0e745"
      },
      "outputs": [
        {
          "output_type": "execute_result",
          "data": {
            "text/plain": [
              "Serial[\n",
              "  Embedding_9088_256\n",
              "  Mean\n",
              "  Dense_2\n",
              "  LogSoftmax\n",
              "]"
            ]
          },
          "metadata": {},
          "execution_count": 46
        }
      ],
      "source": [
        "model"
      ],
      "id": "YJsRGJI00_Th"
    },
    {
      "cell_type": "markdown",
      "metadata": {
        "id": "R_sw8EGd0Sjk"
      },
      "source": [
        "This defines a model trained using [`tl.WeightedCategoryCrossEntropy`](https://trax-ml.readthedocs.io/en/latest/trax.layers.html#trax.layers.metrics.WeightedCategoryCrossEntropy) optimized with the [`trax.optimizers.Adam`](https://trax-ml.readthedocs.io/en/latest/trax.optimizers.html#trax.optimizers.adam.Adam) optimizer, all the while tracking the accuracy using [`tl.WeightedCategoryAccuracy`](https://trax-ml.readthedocs.io/en/latest/trax.layers.html#trax.layers.metrics.WeightedCategoryAccuracy) metric. We also track `tl.WeightedCategoryCrossEntropy` on the validation set."
      ],
      "id": "R_sw8EGd0Sjk"
    },
    {
      "cell_type": "markdown",
      "metadata": {
        "id": "yB78IIUerIVG"
      },
      "source": [
        "Now let's make an output directory and train the model."
      ],
      "id": "yB78IIUerIVG"
    },
    {
      "cell_type": "code",
      "execution_count": 47,
      "metadata": {
        "id": "CNx4LnP9rMsO",
        "colab": {
          "base_uri": "https://localhost:8080/"
        },
        "outputId": "d20e514d-e22a-46a0-b034-763cda917455"
      },
      "outputs": [
        {
          "output_type": "stream",
          "name": "stdout",
          "text": [
            "./model/\n"
          ]
        }
      ],
      "source": [
        "dir_path = './model/'\n",
        "\n",
        "try:\n",
        "    shutil.rmtree(dir_path)\n",
        "except OSError as e:\n",
        "    pass\n",
        "\n",
        "\n",
        "output_dir = './model/'\n",
        "output_dir_expand = os.path.expanduser(output_dir)\n",
        "print(output_dir_expand)"
      ],
      "id": "CNx4LnP9rMsO"
    },
    {
      "cell_type": "markdown",
      "metadata": {
        "id": "e4R4EHUcrwqe"
      },
      "source": [
        "<a name=\"ex-6\"></a>\n",
        "### Exercise 6 - train_model\n",
        "**Instructions:** Implement `train_model` to train the model (`classifier` that you wrote earlier) for the given number of training steps (`n_steps`) using `TrainTask`, `EvalTask` and `Loop`. For the `EvalTask`, take a look to the cell next to the function definition: the `eval_task` is passed as a list explicitly, so take that into account in the implementation of your `train_model` function."
      ],
      "id": "e4R4EHUcrwqe"
    },
    {
      "cell_type": "code",
      "execution_count": 48,
      "metadata": {
        "id": "tolygrj7rpFX"
      },
      "outputs": [],
      "source": [
        "# UNQ_C6 (UNIQUE CELL IDENTIFIER, DO NOT EDIT)\n",
        "# GRADED FUNCTION: train_model\n",
        "def train_model(classifier, train_task, eval_task, n_steps, output_dir):\n",
        "    '''\n",
        "    Input:\n",
        "        classifier - the model you are building\n",
        "        train_task - Training task\n",
        "        eval_task - Evaluation task. Received as a list.\n",
        "        n_steps - the evaluation steps\n",
        "        output_dir - folder to save your files\n",
        "    Output:\n",
        "        trainer -  trax trainer\n",
        "    '''\n",
        "    rnd.seed(31) # Do NOT modify this random seed. This makes the notebook easier to replicate\n",
        "\n",
        "    ### START CODE HERE (Replace instances of 'None' with your code) ###\n",
        "    training_loop = training.Loop(\n",
        "                                classifier, # The learning model\n",
        "                                train_task, # The training task\n",
        "                                eval_tasks=eval_task, # The evaluation task\n",
        "                                output_dir=output_dir, # The output directory\n",
        "                                random_seed=31 # Do not modify this random seed in order to ensure reproducibility and for grading purposes.\n",
        "    )\n",
        "\n",
        "    training_loop.run(n_steps = n_steps)\n",
        "    ### END CODE HERE ###\n",
        "\n",
        "    # Return the training_loop, since it has the model.\n",
        "    return training_loop"
      ],
      "id": "tolygrj7rpFX"
    },
    {
      "cell_type": "code",
      "execution_count": 49,
      "metadata": {
        "deletable": false,
        "editable": false,
        "id": "d-AtiqAYs_rH",
        "colab": {
          "base_uri": "https://localhost:8080/"
        },
        "outputId": "ad98dcd2-f3dd-4bd0-a50c-a6e455e36bfa"
      },
      "outputs": [
        {
          "output_type": "stream",
          "name": "stderr",
          "text": [
            "/usr/local/lib/python3.10/dist-packages/jax/_src/xla_bridge.py:920: UserWarning: jax.host_count has been renamed to jax.process_count. This alias will eventually be removed; please update your code.\n",
            "  warnings.warn(\n",
            "/usr/local/lib/python3.10/dist-packages/trax/layers/base.py:851: FutureWarning: GzipFile was opened for writing, but this will change in future Python releases.  Specify the mode argument for opening it for writing.\n",
            "  with gzip.GzipFile(fileobj=f, compresslevel=compresslevel) as gzipf:\n"
          ]
        },
        {
          "output_type": "stream",
          "name": "stdout",
          "text": [
            "\n",
            "Step      1: Total number of trainable weights: 2327042\n",
            "Step      1: Ran 1 train steps in 1.59 secs\n",
            "Step      1: train WeightedCategoryCrossEntropy |  0.69147205\n"
          ]
        },
        {
          "output_type": "stream",
          "name": "stderr",
          "text": [
            "/usr/local/lib/python3.10/dist-packages/trax/supervised/training.py:1249: FutureWarning: GzipFile was opened for writing, but this will change in future Python releases.  Specify the mode argument for opening it for writing.\n",
            "  with gzip_lib.GzipFile(fileobj=f, compresslevel=2) as gzipf:\n"
          ]
        },
        {
          "output_type": "stream",
          "name": "stdout",
          "text": [
            "Step      1: eval  WeightedCategoryCrossEntropy |  0.69827205\n",
            "Step      1: eval      WeightedCategoryAccuracy |  0.43750000\n",
            "\n",
            "Step     10: Ran 9 train steps in 6.48 secs\n",
            "Step     10: train WeightedCategoryCrossEntropy |  0.64355624\n",
            "Step     10: eval  WeightedCategoryCrossEntropy |  0.53490156\n",
            "Step     10: eval      WeightedCategoryAccuracy |  1.00000000\n",
            "\n",
            "Step     20: Ran 10 train steps in 2.77 secs\n",
            "Step     20: train WeightedCategoryCrossEntropy |  0.45552301\n",
            "Step     20: eval  WeightedCategoryCrossEntropy |  0.33445308\n",
            "Step     20: eval      WeightedCategoryAccuracy |  1.00000000\n",
            "\n",
            "Step     30: Ran 10 train steps in 1.69 secs\n",
            "Step     30: train WeightedCategoryCrossEntropy |  0.24172144\n",
            "Step     30: eval  WeightedCategoryCrossEntropy |  0.15988171\n",
            "Step     30: eval      WeightedCategoryAccuracy |  1.00000000\n",
            "\n",
            "Step     40: Ran 10 train steps in 1.08 secs\n",
            "Step     40: train WeightedCategoryCrossEntropy |  0.13319710\n",
            "Step     40: eval  WeightedCategoryCrossEntropy |  0.06211402\n",
            "Step     40: eval      WeightedCategoryAccuracy |  1.00000000\n",
            "\n",
            "Step     50: Ran 10 train steps in 1.52 secs\n",
            "Step     50: train WeightedCategoryCrossEntropy |  0.08442788\n",
            "Step     50: eval  WeightedCategoryCrossEntropy |  0.05709711\n",
            "Step     50: eval      WeightedCategoryAccuracy |  1.00000000\n",
            "\n",
            "Step     60: Ran 10 train steps in 1.08 secs\n",
            "Step     60: train WeightedCategoryCrossEntropy |  0.04599971\n",
            "Step     60: eval  WeightedCategoryCrossEntropy |  0.02517334\n",
            "Step     60: eval      WeightedCategoryAccuracy |  1.00000000\n",
            "\n",
            "Step     70: Ran 10 train steps in 1.12 secs\n",
            "Step     70: train WeightedCategoryCrossEntropy |  0.04002562\n",
            "Step     70: eval  WeightedCategoryCrossEntropy |  0.00245687\n",
            "Step     70: eval      WeightedCategoryAccuracy |  1.00000000\n",
            "\n",
            "Step     80: Ran 10 train steps in 1.13 secs\n",
            "Step     80: train WeightedCategoryCrossEntropy |  0.01901614\n",
            "Step     80: eval  WeightedCategoryCrossEntropy |  0.00494147\n",
            "Step     80: eval      WeightedCategoryAccuracy |  1.00000000\n",
            "\n",
            "Step     90: Ran 10 train steps in 1.15 secs\n",
            "Step     90: train WeightedCategoryCrossEntropy |  0.04117220\n",
            "Step     90: eval  WeightedCategoryCrossEntropy |  0.00762666\n",
            "Step     90: eval      WeightedCategoryAccuracy |  1.00000000\n",
            "\n",
            "Step    100: Ran 10 train steps in 1.73 secs\n",
            "Step    100: train WeightedCategoryCrossEntropy |  0.01523941\n",
            "Step    100: eval  WeightedCategoryCrossEntropy |  0.09424850\n",
            "Step    100: eval      WeightedCategoryAccuracy |  0.93750000\n"
          ]
        }
      ],
      "source": [
        "# Do not modify this cell.\n",
        "# Take a look on how the eval_task is inside square brackets and\n",
        "# take that into account for you train_model implementation\n",
        "training_loop = train_model(model, train_task, [eval_task], 100, output_dir_expand)"
      ],
      "id": "d-AtiqAYs_rH"
    },
    {
      "cell_type": "markdown",
      "metadata": {
        "id": "Wxn24gyx1Xpd"
      },
      "source": [
        "##### Expected output (Approximately)\n",
        "\n",
        "```python\n",
        "Step      1: Total number of trainable weights: 2327042\n",
        "Step      1: Ran 1 train steps in 1.79 secs\n",
        "Step      1: train WeightedCategoryCrossEntropy |  0.69664621\n",
        "Step      1: eval  WeightedCategoryCrossEntropy |  0.70276678\n",
        "Step      1: eval      WeightedCategoryAccuracy |  0.43750000\n",
        "\n",
        "Step     10: Ran 9 train steps in 9.90 secs\n",
        "Step     10: train WeightedCategoryCrossEntropy |  0.65194851\n",
        "Step     10: eval  WeightedCategoryCrossEntropy |  0.55310017\n",
        "Step     10: eval      WeightedCategoryAccuracy |  0.87500000\n",
        "\n",
        "Step     20: Ran 10 train steps in 3.03 secs\n",
        "Step     20: train WeightedCategoryCrossEntropy |  0.47625321\n",
        "Step     20: eval  WeightedCategoryCrossEntropy |  0.35441157\n",
        "Step     20: eval      WeightedCategoryAccuracy |  1.00000000\n",
        "\n",
        "Step     30: Ran 10 train steps in 1.97 secs\n",
        "Step     30: train WeightedCategoryCrossEntropy |  0.26038250\n",
        "Step     30: eval  WeightedCategoryCrossEntropy |  0.17245120\n",
        "Step     30: eval      WeightedCategoryAccuracy |  1.00000000\n",
        "\n",
        "Step     40: Ran 10 train steps in 0.92 secs\n",
        "Step     40: train WeightedCategoryCrossEntropy |  0.13840821\n",
        "Step     40: eval  WeightedCategoryCrossEntropy |  0.06517925\n",
        "Step     40: eval      WeightedCategoryAccuracy |  1.00000000\n",
        "\n",
        "Step     50: Ran 10 train steps in 1.87 secs\n",
        "Step     50: train WeightedCategoryCrossEntropy |  0.08931129\n",
        "Step     50: eval  WeightedCategoryCrossEntropy |  0.05949062\n",
        "Step     50: eval      WeightedCategoryAccuracy |  1.00000000\n",
        "\n",
        "Step     60: Ran 10 train steps in 0.95 secs\n",
        "Step     60: train WeightedCategoryCrossEntropy |  0.04529145\n",
        "Step     60: eval  WeightedCategoryCrossEntropy |  0.02183468\n",
        "Step     60: eval      WeightedCategoryAccuracy |  1.00000000\n",
        "\n",
        "Step     70: Ran 10 train steps in 0.95 secs\n",
        "Step     70: train WeightedCategoryCrossEntropy |  0.04261621\n",
        "Step     70: eval  WeightedCategoryCrossEntropy |  0.00225742\n",
        "Step     70: eval      WeightedCategoryAccuracy |  1.00000000\n",
        "\n",
        "Step     80: Ran 10 train steps in 0.97 secs\n",
        "Step     80: train WeightedCategoryCrossEntropy |  0.02085698\n",
        "Step     80: eval  WeightedCategoryCrossEntropy |  0.00488479\n",
        "Step     80: eval      WeightedCategoryAccuracy |  1.00000000\n",
        "\n",
        "Step     90: Ran 10 train steps in 1.00 secs\n",
        "Step     90: train WeightedCategoryCrossEntropy |  0.04042089\n",
        "Step     90: eval  WeightedCategoryCrossEntropy |  0.00711416\n",
        "Step     90: eval      WeightedCategoryAccuracy |  1.00000000\n",
        "\n",
        "Step    100: Ran 10 train steps in 1.79 secs\n",
        "Step    100: train WeightedCategoryCrossEntropy |  0.01717071\n",
        "Step    100: eval  WeightedCategoryCrossEntropy |  0.10006869\n",
        "Step    100: eval      WeightedCategoryAccuracy |  0.93750000\n",
        "```"
      ],
      "id": "Wxn24gyx1Xpd"
    },
    {
      "cell_type": "code",
      "execution_count": 50,
      "metadata": {
        "id": "CAe2bLxf0_Ti",
        "colab": {
          "base_uri": "https://localhost:8080/"
        },
        "outputId": "96c96e68-9037-4611-ae95-c93d2b12289c"
      },
      "outputs": [
        {
          "output_type": "stream",
          "name": "stdout",
          "text": [
            "\n",
            "Step      1: Total number of trainable weights: 2327042\n",
            "Step      1: Ran 1 train steps in 1.11 secs\n",
            "Step      1: train WeightedCategoryCrossEntropy |  0.68721348\n",
            "Step      1: eval  WeightedCategoryCrossEntropy |  0.67957193\n",
            "Step      1: eval      WeightedCategoryAccuracy |  0.56250000\n",
            "\n",
            "Step     10: Ran 9 train steps in 3.12 secs\n",
            "Step     10: train WeightedCategoryCrossEntropy |  0.63978845\n",
            "Step     10: eval  WeightedCategoryCrossEntropy |  0.54753119\n",
            "Step     10: eval      WeightedCategoryAccuracy |  1.00000000\n",
            "\u001b[92m All tests passed\n"
          ]
        }
      ],
      "source": [
        "# Test your function. Do not modify this cell.\n",
        "# Take a look on how the eval_task is inside square brackets.\n",
        "try:\n",
        "    shutil.rmtree('./model_test/')\n",
        "except OSError as e:\n",
        "    pass\n",
        "\n",
        "w1_unittest.test_train_model(train_model(classifier(), train_task, [eval_task], 10, './model_test/'))"
      ],
      "id": "CAe2bLxf0_Ti"
    },
    {
      "cell_type": "markdown",
      "metadata": {
        "id": "KVMcsw2kjCX9"
      },
      "source": [
        "<a name=\"4-2\"></a>\n",
        "### 4.2 - Practice Making a Prediction\n",
        "\n",
        "Now that you have trained a model, you can access it as `training_loop.model` object. We will actually use `training_loop.eval_model` and in the next weeks you will learn why we sometimes use a different model for evaluation, e.g., one without dropout. For now, make predictions with your model.\n",
        "\n",
        "Use the training data just to see how the prediction process works.  \n",
        "- Later, you will use validation data to evaluate your model's performance.\n"
      ],
      "id": "KVMcsw2kjCX9"
    },
    {
      "cell_type": "code",
      "execution_count": 51,
      "metadata": {
        "id": "WAMgXWY4jCX-",
        "colab": {
          "base_uri": "https://localhost:8080/"
        },
        "outputId": "f3849f4f-dfdd-41ff-cfb2-2daf3167720b"
      },
      "outputs": [
        {
          "output_type": "stream",
          "name": "stdout",
          "text": [
            "The batch is a tuple of length 3 because position 0 contains the tweets, and position 1 contains the targets.\n",
            "The shape of the tweet tensors is (16, 15) (num of examples, length of tweet tensors)\n",
            "The shape of the labels is (16,), which is the batch size.\n",
            "The shape of the example_weights is (16,), which is the same as inputs/targets size.\n"
          ]
        }
      ],
      "source": [
        "# Create a generator object\n",
        "tmp_train_generator = train_generator(16, train_pos\n",
        "                    , train_neg, Vocab, loop=True\n",
        "                    , shuffle = False)\n",
        "\n",
        "\n",
        "\n",
        "# get one batch\n",
        "tmp_batch = next(tmp_train_generator)\n",
        "\n",
        "# Position 0 has the model inputs (tweets as tensors)\n",
        "# position 1 has the targets (the actual labels)\n",
        "tmp_inputs, tmp_targets, tmp_example_weights = tmp_batch\n",
        "\n",
        "print(f\"The batch is a tuple of length {len(tmp_batch)} because position 0 contains the tweets, and position 1 contains the targets.\")\n",
        "print(f\"The shape of the tweet tensors is {tmp_inputs.shape} (num of examples, length of tweet tensors)\")\n",
        "print(f\"The shape of the labels is {tmp_targets.shape}, which is the batch size.\")\n",
        "print(f\"The shape of the example_weights is {tmp_example_weights.shape}, which is the same as inputs/targets size.\")"
      ],
      "id": "WAMgXWY4jCX-"
    },
    {
      "cell_type": "code",
      "execution_count": 52,
      "metadata": {
        "id": "5XoxD6u5jCX_",
        "colab": {
          "base_uri": "https://localhost:8080/"
        },
        "outputId": "85255f48-de39-4017-cd64-e92247baa656"
      },
      "outputs": [
        {
          "output_type": "stream",
          "name": "stdout",
          "text": [
            "The prediction shape is (16, 2), num of tensor_tweets as rows\n",
            "Column 0 is the probability of a negative sentiment (class 0)\n",
            "Column 1 is the probability of a positive sentiment (class 1)\n",
            "\n",
            "View the prediction array\n"
          ]
        },
        {
          "output_type": "execute_result",
          "data": {
            "text/plain": [
              "Array([[-9.4554138e+00, -7.8201294e-05],\n",
              "       [-7.9171410e+00, -3.6454201e-04],\n",
              "       [-1.0803465e+01, -2.0503998e-05],\n",
              "       [-7.2887120e+00, -6.8354607e-04],\n",
              "       [-5.4731712e+00, -4.2066574e-03],\n",
              "       [-8.1859798e+00, -2.7847290e-04],\n",
              "       [-9.0585423e+00, -1.1634827e-04],\n",
              "       [-7.3554268e+00, -6.3943863e-04],\n",
              "       [-2.3531914e-03, -6.0531616e+00],\n",
              "       [-2.8276443e-04, -8.1706181e+00],\n",
              "       [-1.1551380e-03, -6.7640800e+00],\n",
              "       [-1.9073486e-06, -1.3121779e+01],\n",
              "       [-2.3073196e-02, -3.7805994e+00],\n",
              "       [-5.5859089e-03, -5.1903114e+00],\n",
              "       [-2.3009777e-03, -6.0755520e+00],\n",
              "       [-1.7356873e-04, -8.6591120e+00]], dtype=float32)"
            ]
          },
          "metadata": {},
          "execution_count": 52
        }
      ],
      "source": [
        "# feed the tweet tensors into the model to get a prediction\n",
        "tmp_pred = training_loop.eval_model(tmp_inputs)\n",
        "print(f\"The prediction shape is {tmp_pred.shape}, num of tensor_tweets as rows\")\n",
        "print(\"Column 0 is the probability of a negative sentiment (class 0)\")\n",
        "print(\"Column 1 is the probability of a positive sentiment (class 1)\")\n",
        "print()\n",
        "print(\"View the prediction array\")\n",
        "tmp_pred"
      ],
      "id": "5XoxD6u5jCX_"
    },
    {
      "cell_type": "markdown",
      "metadata": {
        "id": "0aJpFcyljCYB"
      },
      "source": [
        "To turn these probabilities into categories (negative or positive sentiment prediction), for each row:\n",
        "- Compare the probabilities in each column.\n",
        "- If column 1 has a value greater than column 0, classify that as a positive tweet.\n",
        "- Otherwise if column 1 is less than or equal to column 0, classify that example as a negative tweet."
      ],
      "id": "0aJpFcyljCYB"
    },
    {
      "cell_type": "code",
      "execution_count": 53,
      "metadata": {
        "id": "6wJHv0TNjCYC",
        "colab": {
          "base_uri": "https://localhost:8080/"
        },
        "outputId": "5b4a4255-edf1-4c0f-e7b4-96bb76018380"
      },
      "outputs": [
        {
          "output_type": "stream",
          "name": "stdout",
          "text": [
            "Neg log prob -9.4554\tPos log prob -0.0001\t is positive? True\t actual 1\n",
            "Neg log prob -7.9171\tPos log prob -0.0004\t is positive? True\t actual 1\n",
            "Neg log prob -10.8035\tPos log prob -0.0000\t is positive? True\t actual 1\n",
            "Neg log prob -7.2887\tPos log prob -0.0007\t is positive? True\t actual 1\n",
            "Neg log prob -5.4732\tPos log prob -0.0042\t is positive? True\t actual 1\n",
            "Neg log prob -8.1860\tPos log prob -0.0003\t is positive? True\t actual 1\n",
            "Neg log prob -9.0585\tPos log prob -0.0001\t is positive? True\t actual 1\n",
            "Neg log prob -7.3554\tPos log prob -0.0006\t is positive? True\t actual 1\n",
            "Neg log prob -0.0024\tPos log prob -6.0532\t is positive? False\t actual 0\n",
            "Neg log prob -0.0003\tPos log prob -8.1706\t is positive? False\t actual 0\n",
            "Neg log prob -0.0012\tPos log prob -6.7641\t is positive? False\t actual 0\n",
            "Neg log prob -0.0000\tPos log prob -13.1218\t is positive? False\t actual 0\n",
            "Neg log prob -0.0231\tPos log prob -3.7806\t is positive? False\t actual 0\n",
            "Neg log prob -0.0056\tPos log prob -5.1903\t is positive? False\t actual 0\n",
            "Neg log prob -0.0023\tPos log prob -6.0756\t is positive? False\t actual 0\n",
            "Neg log prob -0.0002\tPos log prob -8.6591\t is positive? False\t actual 0\n"
          ]
        }
      ],
      "source": [
        "# turn probabilities into category predictions\n",
        "tmp_is_positive = tmp_pred[:,1] > tmp_pred[:,0]\n",
        "for i, p in enumerate(tmp_is_positive):\n",
        "    print(f\"Neg log prob {tmp_pred[i,0]:.4f}\\tPos log prob {tmp_pred[i,1]:.4f}\\t is positive? {p}\\t actual {tmp_targets[i]}\")"
      ],
      "id": "6wJHv0TNjCYC"
    },
    {
      "cell_type": "markdown",
      "metadata": {
        "id": "TywSi02cjCYF"
      },
      "source": [
        "Notice that since you are making a prediction using a training batch, it's more likely that the model's predictions match the actual targets (labels).  \n",
        "- Every prediction that the tweet is positive is also matching the actual target of 1 (positive sentiment).\n",
        "- Similarly, all predictions that the sentiment is not positive matches the actual target of 0 (negative sentiment)"
      ],
      "id": "TywSi02cjCYF"
    },
    {
      "cell_type": "markdown",
      "metadata": {
        "id": "N6X_0K_EjCYF"
      },
      "source": [
        "One more useful thing to know is how to compare if the prediction is matching the actual target (label).  \n",
        "- The result of calculation `is_positive` is a boolean.\n",
        "- The target is a type trax.fastmath.numpy.int32\n",
        "- If you expect to be doing division, you may prefer to work with decimal numbers with the data type type trax.fastmath.numpy.int32"
      ],
      "id": "N6X_0K_EjCYF"
    },
    {
      "cell_type": "code",
      "execution_count": 54,
      "metadata": {
        "id": "CQgx_ar9jCYG",
        "colab": {
          "base_uri": "https://localhost:8080/",
          "height": 138
        },
        "outputId": "bc336ff0-5ed2-42ca-ac33-e4d23c1e0ca1"
      },
      "outputs": [
        {
          "output_type": "stream",
          "name": "stdout",
          "text": [
            "Array of booleans\n"
          ]
        },
        {
          "output_type": "display_data",
          "data": {
            "text/plain": [
              "Array([ True,  True,  True,  True,  True,  True,  True,  True, False,\n",
              "       False, False, False, False, False, False, False], dtype=bool)"
            ]
          },
          "metadata": {}
        },
        {
          "output_type": "stream",
          "name": "stdout",
          "text": [
            "Array of integers\n"
          ]
        },
        {
          "output_type": "display_data",
          "data": {
            "text/plain": [
              "Array([1, 1, 1, 1, 1, 1, 1, 1, 0, 0, 0, 0, 0, 0, 0, 0], dtype=int32)"
            ]
          },
          "metadata": {}
        },
        {
          "output_type": "stream",
          "name": "stdout",
          "text": [
            "Array of floats\n"
          ]
        },
        {
          "output_type": "display_data",
          "data": {
            "text/plain": [
              "Array([1., 1., 1., 1., 1., 1., 1., 1., 0., 0., 0., 0., 0., 0., 0., 0.],      dtype=float32)"
            ]
          },
          "metadata": {}
        }
      ],
      "source": [
        "# View the array of booleans\n",
        "print(\"Array of booleans\")\n",
        "display(tmp_is_positive)\n",
        "\n",
        "# convert boolean to type int32\n",
        "# True is converted to 1\n",
        "# False is converted to 0\n",
        "tmp_is_positive_int = tmp_is_positive.astype(np.int32)\n",
        "\n",
        "\n",
        "# View the array of integers\n",
        "print(\"Array of integers\")\n",
        "display(tmp_is_positive_int)\n",
        "\n",
        "# convert boolean to type float32\n",
        "tmp_is_positive_float = tmp_is_positive.astype(np.float32)\n",
        "\n",
        "# View the array of floats\n",
        "print(\"Array of floats\")\n",
        "display(tmp_is_positive_float)"
      ],
      "id": "CQgx_ar9jCYG"
    },
    {
      "cell_type": "markdown",
      "metadata": {
        "id": "8gJ3n4UljCYJ"
      },
      "source": [
        "Note that Python usually does type conversion for you when you compare a boolean to an integer\n",
        "- True compared to 1 is True, otherwise any other integer is False.\n",
        "- False compared to 0 is True, otherwise any ohter integer is False."
      ],
      "id": "8gJ3n4UljCYJ"
    },
    {
      "cell_type": "code",
      "execution_count": 55,
      "metadata": {
        "id": "GbKFCf0njCYJ",
        "colab": {
          "base_uri": "https://localhost:8080/"
        },
        "outputId": "da76e7a2-c6c0-4a55-f077-e0daecb137bc"
      },
      "outputs": [
        {
          "output_type": "stream",
          "name": "stdout",
          "text": [
            "True == 1: True\n",
            "True == 2: False\n",
            "False == 0: True\n",
            "False == 2: False\n"
          ]
        }
      ],
      "source": [
        "print(f\"True == 1: {True == 1}\")\n",
        "print(f\"True == 2: {True == 2}\")\n",
        "print(f\"False == 0: {False == 0}\")\n",
        "print(f\"False == 2: {False == 2}\")"
      ],
      "id": "GbKFCf0njCYJ"
    },
    {
      "cell_type": "markdown",
      "metadata": {
        "id": "Jh5XfviCjCYK"
      },
      "source": [
        "However, we recommend that you keep track of the data type of your variables to avoid unexpected outcomes.  So it helps to convert the booleans into integers\n",
        "- Compare 1 to 1 rather than comparing True to 1."
      ],
      "id": "Jh5XfviCjCYK"
    },
    {
      "cell_type": "markdown",
      "metadata": {
        "id": "37PNk6IzjCYL"
      },
      "source": [
        "Hopefully you are now familiar with what kinds of inputs and outputs the model uses when making a prediction.\n",
        "- This will help you implement a function that estimates the accuracy of the model's predictions."
      ],
      "id": "37PNk6IzjCYL"
    },
    {
      "cell_type": "markdown",
      "metadata": {
        "id": "fRRrgOHJgrhI"
      },
      "source": [
        "<a name=\"5\"></a>\n",
        "## 5 - Evaluation  \n",
        "\n",
        "<a name=\"5-1\"></a>\n",
        "### 5.1 - Computing the Accuracy on a Batch\n",
        "\n",
        "You will now write a function that evaluates your model on the validation set and returns the accuracy.\n",
        "- `preds` contains the predictions.\n",
        "    - Its dimensions are `(batch_size, output_dim)`.  `output_dim` is two in this case.  Column 0 contains the probability that the tweet belongs to class 0 (negative sentiment). Column 1 contains probability that it belongs to class 1 (positive sentiment).\n",
        "    - If the probability in column 1 is greater than the probability in column 0, then interpret this as the model's prediction that the example has label 1 (positive sentiment).  \n",
        "    - Otherwise, if the probabilities are equal or the probability in column 0 is higher, the model's prediction is 0 (negative sentiment).\n",
        "- `y` contains the actual labels.\n",
        "- `y_weights` contains the weights to give to predictions."
      ],
      "id": "fRRrgOHJgrhI"
    },
    {
      "cell_type": "markdown",
      "metadata": {
        "id": "2hdfk3LEjCYL"
      },
      "source": [
        "<a name=\"ex-7\"></a>\n",
        "### Exercise 7 - compute_accuracy\n",
        "Implement `compute_accuracy`."
      ],
      "id": "2hdfk3LEjCYL"
    },
    {
      "cell_type": "code",
      "execution_count": 56,
      "metadata": {
        "id": "WBqaN5f9grhJ"
      },
      "outputs": [],
      "source": [
        "# UNQ_C7 (UNIQUE CELL IDENTIFIER, DO NOT EDIT)\n",
        "# GRADED FUNCTION: compute_accuracy\n",
        "def compute_accuracy(preds, y, y_weights):\n",
        "    \"\"\"\n",
        "    Input:\n",
        "        preds: a tensor of shape (dim_batch, output_dim)\n",
        "        y: a tensor of shape (dim_batch,) with the true labels\n",
        "        y_weights: a n.ndarray with the a weight for each example\n",
        "    Output:\n",
        "        accuracy: a float between 0-1\n",
        "        weighted_num_correct (np.float32): Sum of the weighted correct predictions\n",
        "        sum_weights (np.float32): Sum of the weights\n",
        "    \"\"\"\n",
        "    ### START CODE HERE (Replace instances of 'None' with your code) ###\n",
        "    # Create an array of booleans,\n",
        "    # True if the probability of positive sentiment is greater than\n",
        "    # the probability of negative sentiment\n",
        "    # else False\n",
        "    is_pos = preds[:, 1] > preds[:, 0]\n",
        "\n",
        "    # convert the array of booleans into an array of np.int32\n",
        "    is_pos_int = is_pos.astype(np.int32)\n",
        "\n",
        "    # compare the array of predictions (as int32) with the target (labels) of type int32\n",
        "    correct = is_pos_int == y\n",
        "\n",
        "    # Count the sum of the weights.\n",
        "    sum_weights = np.sum(y_weights)\n",
        "\n",
        "    # convert the array of correct predictions (boolean) into an arrayof np.float32\n",
        "    correct_float = correct.astype(np.float32)\n",
        "\n",
        "    # Multiply each prediction with its corresponding weight.\n",
        "    weighted_correct_float = correct_float * y_weights\n",
        "\n",
        "    # Sum up the weighted correct predictions (of type np.float32), to go in the\n",
        "    # numerator.\n",
        "    weighted_num_correct = np.sum(weighted_correct_float)\n",
        "\n",
        "    # Divide the number of weighted correct predictions by the sum of the\n",
        "    # weights.\n",
        "    accuracy = weighted_num_correct / sum_weights\n",
        "\n",
        "    ### END CODE HERE ###\n",
        "    return accuracy, weighted_num_correct, sum_weights"
      ],
      "id": "WBqaN5f9grhJ"
    },
    {
      "cell_type": "code",
      "execution_count": 57,
      "metadata": {
        "id": "1c7ZOeO0jCYN",
        "colab": {
          "base_uri": "https://localhost:8080/"
        },
        "outputId": "93889a27-3179-41ca-989a-b75736f591fe"
      },
      "outputs": [
        {
          "output_type": "stream",
          "name": "stdout",
          "text": [
            "Model's prediction accuracy on a single training batch is: 100.0%\n",
            "Weighted number of correct predictions 64.0; weighted number of total observations predicted 64\n"
          ]
        }
      ],
      "source": [
        "# test your function\n",
        "tmp_val_generator = val_generator(64, val_pos\n",
        "                    , val_neg, Vocab, loop=True\n",
        "                    , shuffle = False)\n",
        "\n",
        "# get one batch\n",
        "tmp_batch = next(tmp_val_generator)\n",
        "\n",
        "# Position 0 has the model inputs (tweets as tensors)\n",
        "# position 1 has the targets (the actual labels)\n",
        "tmp_inputs, tmp_targets, tmp_example_weights = tmp_batch\n",
        "\n",
        "# feed the tweet tensors into the model to get a prediction\n",
        "tmp_pred = training_loop.eval_model(tmp_inputs)\n",
        "tmp_acc, tmp_num_correct, tmp_num_predictions = compute_accuracy(preds=tmp_pred, y=tmp_targets, y_weights=tmp_example_weights)\n",
        "\n",
        "print(f\"Model's prediction accuracy on a single training batch is: {100 * tmp_acc}%\")\n",
        "print(f\"Weighted number of correct predictions {tmp_num_correct}; weighted number of total observations predicted {tmp_num_predictions}\")"
      ],
      "id": "1c7ZOeO0jCYN"
    },
    {
      "cell_type": "markdown",
      "metadata": {
        "id": "h2ep7nNejCYP"
      },
      "source": [
        "##### Expected output (Approximately)\n",
        "\n",
        "```\n",
        "Model's prediction accuracy on a single training batch is: 100.0%\n",
        "Weighted number of correct predictions 64.0; weighted number of total observations predicted 64\n",
        "```"
      ],
      "id": "h2ep7nNejCYP"
    },
    {
      "cell_type": "code",
      "execution_count": 58,
      "metadata": {
        "id": "pZVJ5yQm0_Tk",
        "colab": {
          "base_uri": "https://localhost:8080/"
        },
        "outputId": "5ab7be53-67ea-40d4-b339-c68f7756ad33"
      },
      "outputs": [
        {
          "output_type": "stream",
          "name": "stdout",
          "text": [
            "\u001b[92m All tests passed\n"
          ]
        }
      ],
      "source": [
        "# Test your function\n",
        "w1_unittest.test_compute_accuracy(compute_accuracy)"
      ],
      "id": "pZVJ5yQm0_Tk"
    },
    {
      "cell_type": "markdown",
      "metadata": {
        "id": "dqle69F1grhM"
      },
      "source": [
        "<a name=\"5-2\"></a>\n",
        "### 5.2 - Testing your Model on Validation Data\n",
        "\n",
        "Now you will write test your model's prediction accuracy on validation data.\n",
        "\n",
        "This program will take in a data generator and your model.\n",
        "- The generator allows you to get batches of data. You can use it with a `for` loop:\n",
        "\n",
        "```\n",
        "for batch in iterator:\n",
        "   # do something with that batch\n",
        "```\n",
        "\n",
        "`batch` has `3` elements:\n",
        "- the first element contains the inputs\n",
        "- the second element contains the targets\n",
        "- the third element contains the weights"
      ],
      "id": "dqle69F1grhM"
    },
    {
      "cell_type": "markdown",
      "metadata": {
        "id": "1zwYl_f9jCYP"
      },
      "source": [
        "<a name=\"ex-8\"></a>\n",
        "### Exercise 8 - test_model\n",
        "\n",
        "**Instructions:**\n",
        "- Compute the accuracy over all the batches in the validation iterator.\n",
        "- Make use of `compute_accuracy`, which you recently implemented, and return the overall accuracy."
      ],
      "id": "1zwYl_f9jCYP"
    },
    {
      "cell_type": "code",
      "execution_count": 59,
      "metadata": {
        "id": "HKoTad4ggrhN"
      },
      "outputs": [],
      "source": [
        "# UNQ_C8 (UNIQUE CELL IDENTIFIER, DO NOT EDIT)\n",
        "# GRADED FUNCTION: test_model\n",
        "def test_model(generator, model, compute_accuracy=compute_accuracy):\n",
        "    '''\n",
        "    Input:\n",
        "        generator: an iterator instance that provides batches of inputs and targets\n",
        "        model: a model instance\n",
        "    Output:\n",
        "        accuracy: float corresponding to the accuracy\n",
        "    '''\n",
        "\n",
        "    accuracy = 0.\n",
        "    total_num_correct = 0\n",
        "    total_num_pred = 0\n",
        "\n",
        "    ### START CODE HERE (Replace instances of 'None' with your code) ###\n",
        "    for batch in generator:\n",
        "\n",
        "        # Retrieve the inputs from the batch\n",
        "        inputs = batch[0]\n",
        "\n",
        "        # Retrieve the targets (actual labels) from the batch\n",
        "        targets = batch[1]\n",
        "\n",
        "        # Retrieve the example weight.\n",
        "        example_weight = batch[2]\n",
        "\n",
        "        # Make predictions using the inputs\n",
        "        pred = model(inputs)\n",
        "\n",
        "        # Calculate accuracy for the batch by comparing its predictions and targets\n",
        "        batch_accuracy, batch_num_correct, batch_num_pred = compute_accuracy(pred, targets, example_weight)\n",
        "\n",
        "        # Update the total number of correct predictions\n",
        "        # by adding the number of correct predictions from this batch\n",
        "        total_num_correct += batch_num_correct\n",
        "\n",
        "        # Update the total number of predictions\n",
        "        # by adding the number of predictions made for the batch\n",
        "        total_num_pred += batch_num_pred\n",
        "\n",
        "    # Calculate accuracy over all examples\n",
        "    accuracy = total_num_correct / total_num_pred\n",
        "\n",
        "    ### END CODE HERE ###\n",
        "    return accuracy"
      ],
      "id": "HKoTad4ggrhN"
    },
    {
      "cell_type": "code",
      "execution_count": 60,
      "metadata": {
        "deletable": false,
        "editable": false,
        "id": "1Rm_k21XgrhQ",
        "colab": {
          "base_uri": "https://localhost:8080/"
        },
        "outputId": "b0795ff3-3b7d-47e9-ec53-c27160880263"
      },
      "outputs": [
        {
          "output_type": "stream",
          "name": "stdout",
          "text": [
            "The accuracy of your model on the validation set is 0.9955\n"
          ]
        }
      ],
      "source": [
        "# DO NOT EDIT THIS CELL\n",
        "# testing the accuracy of your model: this takes around 20 seconds\n",
        "model = training_loop.eval_model\n",
        "accuracy = test_model(test_generator(16, val_pos\n",
        "                    , val_neg, Vocab, loop=False\n",
        "                    , shuffle = False), model)\n",
        "\n",
        "print(f'The accuracy of your model on the validation set is {accuracy:.4f}', )"
      ],
      "id": "1Rm_k21XgrhQ"
    },
    {
      "cell_type": "markdown",
      "metadata": {
        "id": "esUJRMQPgrhS"
      },
      "source": [
        "##### Expected Output (Approximately)\n",
        "\n",
        "```CPP\n",
        "The accuracy of your model on the validation set is 0.9950\n",
        "```"
      ],
      "id": "esUJRMQPgrhS"
    },
    {
      "cell_type": "code",
      "execution_count": 61,
      "metadata": {
        "id": "tSzxW9E70_Tl",
        "colab": {
          "base_uri": "https://localhost:8080/"
        },
        "outputId": "0c4558ee-303d-457c-a2bc-16d17f458a10"
      },
      "outputs": [
        {
          "output_type": "stream",
          "name": "stdout",
          "text": [
            "\u001b[92m All tests passed\n"
          ]
        }
      ],
      "source": [
        "w1_unittest.unittest_test_model(test_model, test_generator(16, val_pos , val_neg, Vocab, loop=False, shuffle = False), model)"
      ],
      "id": "tSzxW9E70_Tl"
    },
    {
      "cell_type": "markdown",
      "metadata": {
        "id": "Mct4P9QZgrhT"
      },
      "source": [
        "<a name=\"6\"></a>\n",
        "## 6 - Testing with your Own Input\n",
        "\n",
        "Finally you will test with your own input. You will see that deepnets are more powerful than the older methods you have used before. Although you go close to 100% accuracy on the first two assignments, the task was way easier."
      ],
      "id": "Mct4P9QZgrhT"
    },
    {
      "cell_type": "code",
      "execution_count": 62,
      "metadata": {
        "id": "SUq5cw-xgrhU"
      },
      "outputs": [],
      "source": [
        "# this is used to predict on your own sentnece\n",
        "def predict(sentence):\n",
        "    inputs = np.array(tweet_to_tensor(sentence, vocab_dict=Vocab))\n",
        "\n",
        "    # Batch size 1, add dimension for batch, to work with the model\n",
        "    inputs = inputs[None, :]\n",
        "\n",
        "    # predict with the model\n",
        "    preds_probs = model(inputs)\n",
        "\n",
        "    # Turn probabilities into categories\n",
        "    preds = int(preds_probs[0, 1] > preds_probs[0, 0])\n",
        "\n",
        "    sentiment = \"negative\"\n",
        "    if preds == 1:\n",
        "        sentiment = 'positive'\n",
        "\n",
        "    return preds, sentiment\n"
      ],
      "id": "SUq5cw-xgrhU"
    },
    {
      "cell_type": "code",
      "execution_count": 63,
      "metadata": {
        "id": "3RJntC57grhX",
        "colab": {
          "base_uri": "https://localhost:8080/"
        },
        "outputId": "2f9ca627-785c-4490-ba43-f913c3c4a7a9"
      },
      "outputs": [
        {
          "output_type": "stream",
          "name": "stdout",
          "text": [
            "The sentiment of the sentence \n",
            "***\n",
            "\"It's such a nice day, I think I'll be taking Sid to Ramsgate for lunch and then to the beach maybe.\"\n",
            "***\n",
            "is positive.\n",
            "\n",
            "The sentiment of the sentence \n",
            "***\n",
            "\"I hated my day, it was the worst, I'm so sad.\"\n",
            "***\n",
            "is negative.\n"
          ]
        }
      ],
      "source": [
        "# try a positive sentence\n",
        "sentence = \"It's such a nice day, I think I'll be taking Sid to Ramsgate for lunch and then to the beach maybe.\"\n",
        "tmp_pred, tmp_sentiment = predict(sentence)\n",
        "print(f\"The sentiment of the sentence \\n***\\n\\\"{sentence}\\\"\\n***\\nis {tmp_sentiment}.\")\n",
        "\n",
        "print()\n",
        "# try a negative sentence\n",
        "sentence = \"I hated my day, it was the worst, I'm so sad.\"\n",
        "tmp_pred, tmp_sentiment = predict(sentence)\n",
        "print(f\"The sentiment of the sentence \\n***\\n\\\"{sentence}\\\"\\n***\\nis {tmp_sentiment}.\")"
      ],
      "id": "3RJntC57grhX"
    },
    {
      "cell_type": "markdown",
      "metadata": {
        "id": "nZmGCheXjCYX"
      },
      "source": [
        "Notice that the model works well even for complex sentences."
      ],
      "id": "nZmGCheXjCYX"
    },
    {
      "cell_type": "markdown",
      "metadata": {
        "id": "eqnjDeu_0_Tl"
      },
      "source": [
        "<a name=\"7\"></a>\n",
        "## 7 - Word Embeddings"
      ],
      "id": "eqnjDeu_0_Tl"
    },
    {
      "cell_type": "markdown",
      "metadata": {
        "id": "Y1EDJT3z0_Tl"
      },
      "source": [
        "In this section, you will visualize the word embeddings that were constructed for this sentiment analysis task. You can retrieve them by looking at the `model.weights` tuple (recall that the first layer of the model is the embedding layer)."
      ],
      "id": "Y1EDJT3z0_Tl"
    },
    {
      "cell_type": "code",
      "execution_count": 64,
      "metadata": {
        "id": "dKPlaiBO0_Tl"
      },
      "outputs": [],
      "source": [
        "embeddings = model.weights[0]"
      ],
      "id": "dKPlaiBO0_Tl"
    },
    {
      "cell_type": "markdown",
      "metadata": {
        "id": "l7mqnR1X0_Tl"
      },
      "source": [
        "Let's take a look at the size of the embeddings."
      ],
      "id": "l7mqnR1X0_Tl"
    },
    {
      "cell_type": "code",
      "execution_count": 65,
      "metadata": {
        "id": "_spjLNz60_Tl",
        "colab": {
          "base_uri": "https://localhost:8080/"
        },
        "outputId": "8ff0c07d-f560-4a7f-ad07-9f3856ed3153"
      },
      "outputs": [
        {
          "output_type": "execute_result",
          "data": {
            "text/plain": [
              "(9088, 256)"
            ]
          },
          "metadata": {},
          "execution_count": 65
        }
      ],
      "source": [
        "embeddings.shape"
      ],
      "id": "_spjLNz60_Tl"
    },
    {
      "cell_type": "markdown",
      "metadata": {
        "id": "jeep-4oz0_Tm"
      },
      "source": [
        "To visualize the word embeddings, it is necessary to choose 2 directions to use as axes for the plot. You could use random directions or the first two eigenvectors from PCA. Here, you'll use scikit-learn to perform dimensionality reduction of the word embeddings using PCA."
      ],
      "id": "jeep-4oz0_Tm"
    },
    {
      "cell_type": "code",
      "execution_count": 66,
      "metadata": {
        "id": "4Ycr6MMd0_Tm"
      },
      "outputs": [],
      "source": [
        "from sklearn.decomposition import PCA #Import PCA from scikit-learn\n",
        "pca = PCA(n_components=2) #PCA with two dimensions\n",
        "\n",
        "emb_2dim = pca.fit_transform(embeddings) #Dimensionality reduction of the word embeddings"
      ],
      "id": "4Ycr6MMd0_Tm"
    },
    {
      "cell_type": "markdown",
      "metadata": {
        "id": "QI6l_xg90_Tm"
      },
      "source": [
        "Now, everything is ready to plot a selection of words in 2d."
      ],
      "id": "QI6l_xg90_Tm"
    },
    {
      "cell_type": "code",
      "execution_count": 67,
      "metadata": {
        "id": "Yxu-1Y5q0_Tm"
      },
      "outputs": [],
      "source": [
        "import matplotlib.pyplot as plt\n",
        "\n",
        "#Selection of negative and positive words\n",
        "neg_words = ['worst', 'bad', 'hurt', 'sad', 'hate']\n",
        "pos_words = ['best', 'good', 'nice', 'better', 'love']\n",
        "\n",
        "#Index of each selected word\n",
        "neg_n = [Vocab[w] for w in neg_words]\n",
        "pos_n = [Vocab[w] for w in pos_words]\n",
        "\n",
        "plt.figure()\n",
        "\n",
        "#Scatter plot for negative words\n",
        "plt.scatter(emb_2dim[neg_n][:,0],emb_2dim[neg_n][:,1], color = 'r')\n",
        "for i, txt in enumerate(neg_words):\n",
        "    plt.annotate(txt, (emb_2dim[neg_n][i,0],emb_2dim[neg_n][i,1]))\n",
        "\n",
        "#Scatter plot for positive words\n",
        "plt.scatter(emb_2dim[pos_n][:,0],emb_2dim[pos_n][:,1], color = 'g')\n",
        "for i, txt in enumerate(pos_words):\n",
        "    plt.annotate(txt,(emb_2dim[pos_n][i,0],emb_2dim[pos_n][i,1]))\n",
        "\n",
        "plt.title('Word embeddings in 2d')\n",
        "\n",
        "plt.show()"
      ],
      "id": "Yxu-1Y5q0_Tm"
    },
    {
      "cell_type": "markdown",
      "metadata": {
        "id": "MbRtoa1e0_Tm"
      },
      "source": [
        "As you can see, the word embeddings for this task seem to distinguish negative and positive meanings very well. However, clusters don't necessarily have similar words since you only trained the model to analyze overall sentiment."
      ],
      "id": "MbRtoa1e0_Tm"
    },
    {
      "cell_type": "markdown",
      "metadata": {
        "id": "mNg0fAYIgrhd"
      },
      "source": [
        "### On Deep Nets\n",
        "\n",
        "Deep nets allow you to understand and capture dependencies that you would have not been able to capture with a simple linear regression, or logistic regression.\n",
        "- It also allows you to better use pre-trained embeddings for classification and tends to generalize better."
      ],
      "id": "mNg0fAYIgrhd"
    },
    {
      "cell_type": "code",
      "execution_count": 68,
      "id": "77c4e751",
      "metadata": {
        "id": "77c4e751"
      },
      "outputs": [],
      "source": [
        "try:\n",
        "  shutil.rmtree('./model/')\n",
        "except OSError as e:\n",
        "  pass"
      ]
    },
    {
      "cell_type": "code",
      "execution_count": 69,
      "id": "ad523d65",
      "metadata": {
        "id": "ad523d65"
      },
      "outputs": [],
      "source": [
        "try:\n",
        "  shutil.rmtree('./model_test/')\n",
        "except OSError as e:\n",
        "  pass"
      ]
    }
  ],
  "metadata": {
    "jupytext": {
      "encoding": "# -*- coding: utf-8 -*-"
    },
    "kernelspec": {
      "display_name": "Python 3",
      "language": "python",
      "name": "python3"
    },
    "language_info": {
      "codemirror_mode": {
        "name": "ipython",
        "version": 3
      },
      "file_extension": ".py",
      "mimetype": "text/x-python",
      "name": "python",
      "nbconvert_exporter": "python",
      "pygments_lexer": "ipython3",
      "version": "3.7.6"
    },
    "colab": {
      "provenance": [],
      "include_colab_link": true
    }
  },
  "nbformat": 4,
  "nbformat_minor": 5
}